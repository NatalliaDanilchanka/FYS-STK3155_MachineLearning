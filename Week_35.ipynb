{
 "cells": [
  {
   "cell_type": "markdown",
   "id": "e008ddc5-674f-441c-8785-f89a3442cec0",
   "metadata": {},
   "source": [
    "<div style=\"background-color: #f0f0f0; border: 1px solid #d3d3d3; padding: 10px; border-radius: 5px;\">\n",
    "\n",
    "# Exercise 1 - Finding the Derivative of Matrix-Vector Expressions\n",
    "\n",
    "## a) Consider the expression\n",
    "\n",
    "$$\n",
    "\\frac{d}{d\\mathbf{x}}(\\mathbf{a^T}\\mathbf{x})\n",
    "$$\n",
    "\n",
    "\n",
    "Where a and x are column-vectors with length n.\n",
    "\n",
    "What is the shape of the expression we are taking the derivative of?\n",
    "\n",
    "</div>\n",
    "\n",
    "$$\n",
    "\\mathbf{a^T} \\cdot \\mathbf{x} = \\begin{pmatrix} a_0 & a_1 & ... & a_{n-1} \\end{pmatrix} \\begin{pmatrix} x_0 \\\\ x_1 \\\\ ...\\\\ x_{n-1} \\end{pmatrix} = \\begin{pmatrix} a_0 * x_0 + a_1 * x_1  + ...+  a_{n-1} * x_{n-1} \\end{pmatrix}\n",
    "$$\n",
    "\n",
    "- So the shape will be (1,1)\n",
    "\n",
    "<div style=\"background-color: #f0f0f0; border: 1px solid #d3d3d3; padding: 10px; border-radius: 5px;\">\n",
    "What is the shape of the thing we are taking the derivative with respect to?\n",
    "</div>\n",
    "\n",
    "- as x is a column-vectors with length n, we are taking derivative with respect to values from $x_0$ to $x_{n-1}$, so the shape will be (1,1)\n",
    "\n",
    "<div style=\"background-color: #f0f0f0; border: 1px solid #d3d3d3; padding: 10px; border-radius: 5px;\">\n",
    "What is the shape of the result of the expression?\n",
    "</div>\n",
    "\n",
    "- When we derive the following expression $\\begin{pmatrix} a_0 * x_0 + a_1 * x_1  + ...+  a_{n-1} * x_{n-1} \\end{pmatrix}$\n",
    " with respect to the vector $\\mathbf{x}$ we will get a column-vectors of length n"
   ]
  },
  {
   "cell_type": "markdown",
   "id": "c3bb18d3-a7d0-4b91-bc16-5c6021835f42",
   "metadata": {},
   "source": [
    "<div style=\"background-color: #f0f0f0; border: 1px solid #d3d3d3; padding: 10px; border-radius: 5px;\">\n",
    "b) Show that\n",
    "\n",
    "Demonstrate that \n",
    "\n",
    "$$\n",
    "\\frac{\\partial (\\boldsymbol{a}^T\\boldsymbol{x})}{\\partial \\boldsymbol{x}} = \\boldsymbol{a^T},\n",
    "$$\n",
    "</div>\n",
    "\n",
    "Once we derive with respect to $x_i$:\n",
    "\n",
    "$$\n",
    "\\frac{\\partial (\\boldsymbol{a}^T\\boldsymbol{x})}{\\partial \\boldsymbol{x}} =  \\begin{pmatrix} \n",
    "\\frac{\\partial (\\boldsymbol{a}^T\\boldsymbol{x})}{\\partial x_0} \\\\ \n",
    "\\frac{\\partial (\\boldsymbol{a}^T\\boldsymbol{x})}{\\partial x_1} \\\\ \n",
    "\\vdots \\\\ \n",
    "\\frac{\\partial (\\boldsymbol{a}^T\\boldsymbol{x})}{\\partial x_{n-1}}\n",
    "\\end{pmatrix} = \\begin{pmatrix} \n",
    "\\frac{\\partial (a_0 * x_0 + a_1 * x_1  + ...+  a_{n-1} * x_{n-1})}{\\partial x_0} \\\\ \n",
    "\\frac{\\partial (a_0 * x_0 + a_1 * x_1  + ...+  a_{n-1} * x_{n-1})}{\\partial x_1} \\\\ \n",
    "\\vdots \\\\ \n",
    "\\frac{\\partial (a_0 * x_0 + a_1 * x_1  + ...+  a_{n-1} * x_{n-1})}{\\partial x_{n-1}}\n",
    "\\end{pmatrix}\n",
    "= \\begin{pmatrix} a_0 \\\\ a_1 \\\\ ...\\\\ a_{n-1} \\end{pmatrix}\n",
    "=\\boldsymbol{a}\n",
    "$$\n",
    "\n",
    "\n"
   ]
  },
  {
   "cell_type": "markdown",
   "id": "9e0365eb-eb12-40e2-962b-509aede16421",
   "metadata": {},
   "source": [
    "<div style=\"background-color: #f0f0f0; border: 1px solid #d3d3d3; padding: 10px; border-radius: 5px;\">\n",
    "c) Show that\n",
    "\n",
    "Demonstrate that \n",
    "\n",
    "$$\n",
    "\\frac{\\partial (\\boldsymbol{a}^T\\boldsymbol{A}\\boldsymbol{a})}{\\partial \\boldsymbol{a}} = \\boldsymbol{a}^T(\\boldsymbol{A}+\\boldsymbol{A}^T),\n",
    "$$\n",
    "</div>"
   ]
  },
  {
   "cell_type": "markdown",
   "id": "1a4ca476-dc9e-4d66-95eb-9038e5c49a6d",
   "metadata": {},
   "source": [
    "We know that \n",
    "\n",
    "$$ \\frac{d}{d\\mathbf{x}}(\\mathbf{a}\\mathbf{x}) = \\mathbf{a^T} \\; \\; \\;\n",
    "\\frac{d}{d\\mathbf{x}}(\\mathbf{a^T}\\mathbf{x}) = \\mathbf{a}$$\n",
    "\n",
    "With use of the derivative of a product rule\n",
    "\n",
    "$$\n",
    "\\frac{\\partial(u(x)v(x))}{\\partial \\boldsymbol{x}} = u'(x)v(x) + u(x)v'(x)\n",
    "$$\n",
    "\n"
   ]
  },
  {
   "cell_type": "markdown",
   "id": "20e086f2-eaac-4ec0-b8a6-377a47f651dd",
   "metadata": {},
   "source": [
    "$$\n",
    "\\frac{\\partial (\\boldsymbol{a}^T \\boldsymbol{A} \\boldsymbol{a})}{\\partial \\boldsymbol{a}} =\n",
    "(\\boldsymbol{a}^T)' \\boldsymbol{A} \\mathbf{a} + \\boldsymbol{a}^T \\boldsymbol{A} \\boldsymbol{a}' = \n",
    "\\boldsymbol{A} \\mathbf{a} + (\\boldsymbol{a}^T \\boldsymbol{A})^T =\n",
    "\\boldsymbol{A} \\mathbf{a} + \\boldsymbol{A}^T \\boldsymbol{a} =\n",
    " (\\boldsymbol{A} + \\boldsymbol{A}^T) \\boldsymbol{a}\n",
    "$$"
   ]
  },
  {
   "cell_type": "markdown",
   "id": "71d3f3bf-c1b8-4c6f-b0c6-6f85dc4b5d97",
   "metadata": {},
   "source": [
    "https://www.uio.no/studier/emner/matnat/math/STK2100/v25/undervisningsmateriell/presentasjoner/stk2100-ch3.pdf\n",
    "#\n",
    "# slide 5 ask!!!!!!"
   ]
  },
  {
   "cell_type": "markdown",
   "id": "58d35359-84d9-42b3-b4b9-c4e73fb24e2a",
   "metadata": {},
   "source": [
    "<div style=\"background-color: #f0f0f0; border: 1px solid #d3d3d3; padding: 10px; border-radius: 5px;\">\n",
    "Exercise 2 - Deriving the expression for OLS\n",
    "The ordinary least squares method finds the parameters $\\boldsymbol{\\theta}$ which minimizes the squared error between our model $\\boldsymbol{X\\theta}$ and the true values $\\boldsymbol{y}$.\n",
    "\n",
    "To find the parameters $\\boldsymbol{\\theta}$ which minimizes this error, we take the derivative of the squared error expression with respect to $\\boldsymbol{\\theta}$, and set it equal to 0.\n",
    "\n",
    "a) Very briefly explain why the approach above finds the parameters which minimizes this error.\n",
    "</div>\n",
    "\n",
    "we use sqared error to ensure continuiry of the function, and want to find equation that gives minimal difference between true and predicted values. To find function's extremum, we derive the function with respect to the parameter we are looking for and set the equation to be equal to 0. After that, we rearrange the equation to find the estimator of the parameter of our interest. "
   ]
  },
  {
   "cell_type": "markdown",
   "id": "aab4c387-bfb5-4fcc-b606-1ea8f86c36f1",
   "metadata": {},
   "source": [
    "<div style=\"background-color: #f0f0f0; border: 1px solid #d3d3d3; padding: 10px; border-radius: 5px;\">\n",
    "\n",
    "We typically write the squared error as\n",
    "\n",
    "$$\n",
    "\\vert\\vert\\boldsymbol{y} - \\boldsymbol{X\\theta}\\vert\\vert^2\n",
    "$$\n",
    "\n",
    "which we can rewrite in matrix-vector form as\n",
    "\n",
    "$$\n",
    "\\left(\\boldsymbol{y}-\\boldsymbol{X}\\boldsymbol{\\theta}\\right)^T\\left(\\boldsymbol{y}-\\boldsymbol{X}\\boldsymbol{\\theta}\\right)\n",
    "$$\n",
    "</div>"
   ]
  },
  {
   "cell_type": "markdown",
   "id": "75ac66c2-8d26-42e4-8f46-15ec85f2cbdd",
   "metadata": {},
   "source": [
    "<div style=\"background-color: #f0f0f0; border: 1px solid #d3d3d3; padding: 10px; border-radius: 5px;\">\n",
    "b) If $\\boldsymbol{X}$ is invertible, what is the expression for the optimal parameters $\\boldsymbol{\\theta}$? (**Hint:** Don't compute any derivatives, but solve $\\boldsymbol{X\\theta}=\\boldsymbol{y}$ for $\\boldsymbol{\\theta}$)\n",
    "</div>"
   ]
  },
  {
   "cell_type": "markdown",
   "id": "05aba14e-4cec-412f-b374-4e89b71227a7",
   "metadata": {},
   "source": [
    "<div style=\"background-color: #f0f0f0; border: 1px solid #d3d3d3; padding: 10px; border-radius: 5px;\">\n",
    "c) Show that\n",
    "\n",
    "$$\n",
    "\\frac{\\partial \\left(\\boldsymbol{x}-\\boldsymbol{A}\\boldsymbol{s}\\right)^T\\left(\\boldsymbol{x}-\\boldsymbol{A}\\boldsymbol{s}\\right)}{\\partial \\boldsymbol{s}} = -2\\left(\\boldsymbol{x}-\\boldsymbol{A}\\boldsymbol{s}\\right)^T\\boldsymbol{A}\n",
    "$$\n",
    "\n",
    "</div>"
   ]
  },
  {
   "cell_type": "markdown",
   "id": "23f0227c-5161-48ce-8b16-50911657fc75",
   "metadata": {},
   "source": [
    "$$\n",
    "\\frac{\\partial \\left(\\boldsymbol{x}-\\boldsymbol{A}\\boldsymbol{s}\\right)^T\\left(\\boldsymbol{x}-\\boldsymbol{A}\\boldsymbol{s}\\right)}{\\partial \\boldsymbol{s}} =\n",
    "\\frac{\\partial \\left(\\boldsymbol{x}^T\\boldsymbol{x} -  \\boldsymbol{x}^T \\boldsymbol{A}\\boldsymbol{s} - (\\boldsymbol{A}\\boldsymbol{s})^T\\boldsymbol{x} + (\\boldsymbol{A}\\boldsymbol{s})^T \\boldsymbol{A}\\boldsymbol{s} \\right)}{\\partial \\boldsymbol{s}}\n",
    "$$\n",
    "\n",
    "$$\n",
    "(\\boldsymbol{A}\\boldsymbol{s})^T\\boldsymbol{x} = \n",
    "\\boldsymbol{s}^T\\boldsymbol{A}^T\\boldsymbol{x} = \n",
    "\\boldsymbol{x}^T\\boldsymbol{A}\\boldsymbol{s}\n",
    "$$\n"
   ]
  },
  {
   "cell_type": "markdown",
   "id": "f1898b8e-05ed-4062-98f3-613059fb4c5b",
   "metadata": {},
   "source": [
    "$$\n",
    "\\frac{\\partial \\left(\\boldsymbol{x}^T\\boldsymbol{x} -  2\\boldsymbol{x}^T \\boldsymbol{A}\\boldsymbol{s} + \\boldsymbol{s}^T\\boldsymbol{A}^T \\boldsymbol{A}\\boldsymbol{s} \\right)}{\\partial \\boldsymbol{s}}\n",
    "= -2\\boldsymbol{A}^T\\boldsymbol{x} + (\\boldsymbol{A}^T\\boldsymbol{A} + (\\boldsymbol{A}^T\\boldsymbol{A})^T)\\boldsymbol{s}\n",
    "= -2\\boldsymbol{A}^T\\boldsymbol{x} + 2\\boldsymbol{A}^T\\boldsymbol{A}\\boldsymbol{s}\n",
    "= -2\\boldsymbol{A}^T(\\boldsymbol{x} - \\boldsymbol{A}\\boldsymbol{s})\n",
    "$$"
   ]
  },
  {
   "cell_type": "markdown",
   "id": "9268bbdb-1569-47fd-9ec2-9a005593ed84",
   "metadata": {},
   "source": [
    "<div style=\"background-color: #f0f0f0; border: 1px solid #d3d3d3; padding: 10px; border-radius: 5px;\">\n",
    "\n",
    "d)Using the expression from **c)**, but substituting back in $\\boldsymbol{\\theta}$, $\\boldsymbol{y}$ and $\\boldsymbol{X}$, find the expression for the optimal parameters $\\boldsymbol{\\theta}$ in the case that $\\boldsymbol{X}$ is not invertible, but $\\boldsymbol{X^T X}$ is, which is most often the case.\n",
    "\n",
    "$$\n",
    "\\boldsymbol{\\hat{\\theta}_{OLS}} = ...\n",
    "$$\n",
    "</div>"
   ]
  },
  {
   "cell_type": "code",
   "execution_count": null,
   "id": "847b0866-9d5f-4fbf-9ca1-bd1a0dcaf604",
   "metadata": {},
   "outputs": [],
   "source": []
  },
  {
   "cell_type": "code",
   "execution_count": null,
   "id": "841ca2de-4f8a-4712-bf96-2984ab48f842",
   "metadata": {},
   "outputs": [],
   "source": []
  },
  {
   "cell_type": "code",
   "execution_count": null,
   "id": "c741e29d-9765-4f7a-be0d-75ff45eb94f5",
   "metadata": {},
   "outputs": [],
   "source": []
  },
  {
   "cell_type": "code",
   "execution_count": null,
   "id": "48117e57-aa4e-4993-a479-e4225b305789",
   "metadata": {},
   "outputs": [],
   "source": []
  }
 ],
 "metadata": {
  "kernelspec": {
   "display_name": "Python 3 (ipykernel)",
   "language": "python",
   "name": "python3"
  },
  "language_info": {
   "codemirror_mode": {
    "name": "ipython",
    "version": 3
   },
   "file_extension": ".py",
   "mimetype": "text/x-python",
   "name": "python",
   "nbconvert_exporter": "python",
   "pygments_lexer": "ipython3",
   "version": "3.11.13"
  }
 },
 "nbformat": 4,
 "nbformat_minor": 5
}
