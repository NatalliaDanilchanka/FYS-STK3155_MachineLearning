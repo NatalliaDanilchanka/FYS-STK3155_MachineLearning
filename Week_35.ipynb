{
 "cells": [
  {
   "cell_type": "markdown",
   "id": "49407aa4",
   "metadata": {},
   "source": [
    "# Exercise 1 - Finding the Derivative of Matrix-Vector Expressions"
   ]
  },
  {
   "cell_type": "markdown",
   "id": "e008ddc5-674f-441c-8785-f89a3442cec0",
   "metadata": {},
   "source": [
    "<div style=\"background-color: #f0f0f0; border: 1px solid #d3d3d3; padding: 10px; border-radius: 5px;\">\n",
    "a) Consider the expression\n",
    "\n",
    "$$\n",
    "\\frac{d}{d\\mathbf{x}}(\\mathbf{a^T}\\mathbf{x})\n",
    "$$\n",
    "\n",
    "\n",
    "Where a and x are column-vectors with length n.\n",
    "\n",
    "What is the shape of the expression we are taking the derivative of?\n",
    "\n",
    "</div>\n",
    "\n",
    "$$\n",
    "\\mathbf{a^T} \\cdot \\mathbf{x} = \\begin{pmatrix} a_0 & a_1 & ... & a_{n-1} \\end{pmatrix} \\begin{pmatrix} x_0 \\\\ x_1 \\\\ ...\\\\ x_{n-1} \\end{pmatrix} = \\begin{pmatrix} a_0 * x_0 + a_1 * x_1  + ...+  a_{n-1} * x_{n-1} \\end{pmatrix}\n",
    "$$\n",
    "\n",
    "- So the size will be (1,1) and it is a scalar\n",
    "\n",
    "<div style=\"background-color: #f0f0f0; border: 1px solid #d3d3d3; padding: 10px; border-radius: 5px;\">\n",
    "What is the shape of the thing we are taking the derivative with respect to?\n",
    "</div>\n",
    "\n",
    "- as x is a column-vectors with length n, we are taking derivative with respect to values from $x_0$ to $x_{n-1}$, so the shape will be (1,1)\n",
    "\n",
    "<div style=\"background-color: #f0f0f0; border: 1px solid #d3d3d3; padding: 10px; border-radius: 5px;\">\n",
    "What is the shape of the result of the expression?\n",
    "</div>\n",
    "\n",
    "- When we derive the following expression $\\begin{pmatrix} a_0 * x_0 + a_1 * x_1  + ...+  a_{n-1} * x_{n-1} \\end{pmatrix}$\n",
    " with respect to the values in the vector $\\mathbf{x}$ we will get a column-vectors of length n"
   ]
  },
  {
   "cell_type": "markdown",
   "id": "c3bb18d3-a7d0-4b91-bc16-5c6021835f42",
   "metadata": {},
   "source": [
    "<div style=\"background-color: #f0f0f0; border: 1px solid #d3d3d3; padding: 10px; border-radius: 5px;\">\n",
    "b) Show that\n",
    "\n",
    "Demonstrate that \n",
    "\n",
    "$$\n",
    "\\frac{\\partial (\\boldsymbol{a}^T\\boldsymbol{x})}{\\partial \\boldsymbol{x}} = \\boldsymbol{a^T},\n",
    "$$\n",
    "</div>\n",
    "\n",
    "Once we derive with respect to $x_i$:\n",
    "\n",
    "$$\n",
    "\\frac{\\partial (\\boldsymbol{a}^T\\boldsymbol{x})}{\\partial \\boldsymbol{x}} =  \\begin{pmatrix} \n",
    "\\frac{\\partial (\\boldsymbol{a}^T\\boldsymbol{x})}{\\partial x_0} \\\\\n",
    "\\frac{\\partial (\\boldsymbol{a}^T\\boldsymbol{x})}{\\partial x_1} \\\\ \n",
    "\\vdots \\\\ \n",
    "\\frac{\\partial (\\boldsymbol{a}^T\\boldsymbol{x})}{\\partial x_{n-1}}\n",
    "\\end{pmatrix} = \\begin{pmatrix} \n",
    "\\frac{\\partial (a_0 * x_0 + a_1 * x_1  + ...+  a_{n-1} * x_{n-1})}{\\partial x_0} & \n",
    "\\frac{\\partial (a_0 * x_0 + a_1 * x_1  + ...+  a_{n-1} * x_{n-1})}{\\partial x_1} & \n",
    "\\vdots & \n",
    "\\frac{\\partial (a_0 * x_0 + a_1 * x_1  + ...+  a_{n-1} * x_{n-1})}{\\partial x_{n-1}}\n",
    "\\end{pmatrix}\n",
    "= \\begin{pmatrix} a_0 & a_1 & ...& a_{n-1} \\end{pmatrix}\n",
    "=\\boldsymbol{a}^T\n",
    "$$\n",
    "\n",
    "\n"
   ]
  },
  {
   "cell_type": "markdown",
   "id": "9e0365eb-eb12-40e2-962b-509aede16421",
   "metadata": {},
   "source": [
    "<div style=\"background-color: #f0f0f0; border: 1px solid #d3d3d3; padding: 10px; border-radius: 5px;\">\n",
    "c) Show that\n",
    "\n",
    "Demonstrate that \n",
    "\n",
    "$$\n",
    "\\frac{\\partial (\\boldsymbol{a}^T\\boldsymbol{A}\\boldsymbol{a})}{\\partial \\boldsymbol{a}} = \\boldsymbol{a}^T(\\boldsymbol{A}+\\boldsymbol{A}^T),\n",
    "$$\n",
    "</div>"
   ]
  },
  {
   "cell_type": "markdown",
   "id": "1a4ca476-dc9e-4d66-95eb-9038e5c49a6d",
   "metadata": {},
   "source": [
    "We know that \n",
    "\n",
    "$$\\frac{\\partial (\\boldsymbol{a} \\boldsymbol{x})}{\\partial \\boldsymbol{x}} = \\boldsymbol{a} \\; \\; \\;\n",
    "\\frac{\\partial (\\boldsymbol{a^T} \\boldsymbol{x})}{\\partial \\boldsymbol{x}} = \\boldsymbol{a^T}\n",
    "$$\n",
    "\n",
    "\n",
    "With use of the derivative of a product rule\n",
    "\n",
    "$$\n",
    "\\frac{\\partial(u(x)v(x))}{\\partial \\boldsymbol{x}} = u'(x)v(x) + u(x)v'(x)\n",
    "$$\n",
    "\n"
   ]
  },
  {
   "cell_type": "markdown",
   "id": "20e086f2-eaac-4ec0-b8a6-377a47f651dd",
   "metadata": {},
   "source": [
    "$$\n",
    "\\frac{\\partial (\\boldsymbol{a}^T \\boldsymbol{A} \\boldsymbol{a})}{\\partial \\boldsymbol{a}} =\n",
    "(\\boldsymbol{a}^T)' \\boldsymbol{A} \\mathbf{a} + \\boldsymbol{a}^T \\boldsymbol{A} \\boldsymbol{a}' = \n",
    "(\\boldsymbol{A} \\mathbf{a})^T + \\boldsymbol{a}^T \\boldsymbol{A} =\n",
    "\\mathbf{a}^T\\boldsymbol{A}^T  + \\boldsymbol{a}^T\\boldsymbol{A}  =\n",
    "\\boldsymbol{a}^T(\\boldsymbol{A} + \\boldsymbol{A}^T) \n",
    "$$"
   ]
  },
  {
   "cell_type": "markdown",
   "id": "a67badcf",
   "metadata": {},
   "source": [
    "# Exercise 2 - Deriving the expression for OLS"
   ]
  },
  {
   "cell_type": "markdown",
   "id": "58d35359-84d9-42b3-b4b9-c4e73fb24e2a",
   "metadata": {},
   "source": [
    "<div style=\"background-color: #f0f0f0; border: 1px solid #d3d3d3; padding: 10px; border-radius: 5px;\">\n",
    "Exercise 2 - Deriving the expression for OLS\n",
    "The ordinary least squares method finds the parameters $\\boldsymbol{\\theta}$ which minimizes the squared error between our model $\\boldsymbol{X\\theta}$ and the true values $\\boldsymbol{y}$.\n",
    "\n",
    "To find the parameters $\\boldsymbol{\\theta}$ which minimizes this error, we take the derivative of the squared error expression with respect to $\\boldsymbol{\\theta}$, and set it equal to 0.\n",
    "\n",
    "a) Very briefly explain why the approach above finds the parameters which minimizes this error.\n",
    "</div>\n",
    "\n",
    "we use sqared error to ensure continuiry of the function, and want to find equation that gives minimal difference between true and predicted values. To find function's extremum, we derive the function with respect to the parameter we are looking for and set the equation to be equal to 0. After that, we rearrange the equation to find the estimator of the parameter of our interest. "
   ]
  },
  {
   "cell_type": "markdown",
   "id": "aab4c387-bfb5-4fcc-b606-1ea8f86c36f1",
   "metadata": {},
   "source": [
    "<div style=\"background-color: #f0f0f0; border: 1px solid #d3d3d3; padding: 10px; border-radius: 5px;\">\n",
    "\n",
    "We typically write the squared error as\n",
    "\n",
    "$$\n",
    "\\vert\\vert\\boldsymbol{y} - \\boldsymbol{X\\theta}\\vert\\vert^2\n",
    "$$\n",
    "\n",
    "which we can rewrite in matrix-vector form as\n",
    "\n",
    "$$\n",
    "\\left(\\boldsymbol{y}-\\boldsymbol{X}\\boldsymbol{\\theta}\\right)^T\\left(\\boldsymbol{y}-\\boldsymbol{X}\\boldsymbol{\\theta}\\right)\n",
    "$$\n",
    "</div>"
   ]
  },
  {
   "cell_type": "markdown",
   "id": "75ac66c2-8d26-42e4-8f46-15ec85f2cbdd",
   "metadata": {},
   "source": [
    "<div style=\"background-color: #f0f0f0; border: 1px solid #d3d3d3; padding: 10px; border-radius: 5px;\">\n",
    "b) If $\\boldsymbol{X}$ is invertible, what is the expression for the optimal parameters $\\boldsymbol{\\theta}$? (**Hint:** Don't compute any derivatives, but solve $\\boldsymbol{X\\theta}=\\boldsymbol{y}$ for $\\boldsymbol{\\theta}$)\n",
    "</div>"
   ]
  },
  {
   "cell_type": "markdown",
   "id": "eae15a46",
   "metadata": {},
   "source": [
    "If $\\boldsymbol{X\\theta}=\\boldsymbol{y}$ is consistent (in other words we can find at leat one solution to that eqation $\\boldsymbol{X\\theta}=\\boldsymbol{y}$) and $\\boldsymbol{X}$ is invertible, than:\n",
    "\n",
    "$$\\boldsymbol{\\theta}=\\boldsymbol{X}^{-1}\\boldsymbol{y}$$"
   ]
  },
  {
   "cell_type": "markdown",
   "id": "05aba14e-4cec-412f-b374-4e89b71227a7",
   "metadata": {},
   "source": [
    "<div style=\"background-color: #f0f0f0; border: 1px solid #d3d3d3; padding: 10px; border-radius: 5px;\">\n",
    "c) Show that\n",
    "\n",
    "$$\n",
    "\\frac{\\partial \\left(\\boldsymbol{x}-\\boldsymbol{A}\\boldsymbol{s}\\right)^T\\left(\\boldsymbol{x}-\\boldsymbol{A}\\boldsymbol{s}\\right)}{\\partial \\boldsymbol{s}} = -2\\left(\\boldsymbol{x}-\\boldsymbol{A}\\boldsymbol{s}\\right)^T\\boldsymbol{A}\n",
    "$$\n",
    "\n",
    "</div>"
   ]
  },
  {
   "cell_type": "markdown",
   "id": "23f0227c-5161-48ce-8b16-50911657fc75",
   "metadata": {},
   "source": [
    "$$\n",
    "\\frac{\\partial \\left(\\boldsymbol{x}-\\boldsymbol{A}\\boldsymbol{s}\\right)^T\\left(\\boldsymbol{x}-\\boldsymbol{A}\\boldsymbol{s}\\right)}{\\partial \\boldsymbol{s}} =\n",
    "\\frac{\\partial \\left(\\boldsymbol{x}^T\\boldsymbol{x} -  \\boldsymbol{x}^T \\boldsymbol{A}\\boldsymbol{s} - (\\boldsymbol{A}\\boldsymbol{s})^T\\boldsymbol{x} + (\\boldsymbol{A}\\boldsymbol{s})^T \\boldsymbol{A}\\boldsymbol{s} \\right)}{\\partial \\boldsymbol{s}}\n",
    "$$\n",
    "\n",
    "$$\n",
    "(\\boldsymbol{A}\\boldsymbol{s})^T\\boldsymbol{x} = \n",
    "\\boldsymbol{s}^T\\boldsymbol{A}^T\\boldsymbol{x} = \n",
    "\\boldsymbol{x}^T\\boldsymbol{A}\\boldsymbol{s}\n",
    "$$\n"
   ]
  },
  {
   "cell_type": "markdown",
   "id": "f1898b8e-05ed-4062-98f3-613059fb4c5b",
   "metadata": {},
   "source": [
    "$$\n",
    "\\frac{\\partial \\left(\\boldsymbol{x}^T\\boldsymbol{x} -  2\\boldsymbol{x}^T \\boldsymbol{A}\\boldsymbol{s} + \\boldsymbol{s}^T\\boldsymbol{A}^T \\boldsymbol{A}\\boldsymbol{s} \\right)}{\\partial \\boldsymbol{s}}\n",
    "= -2\\boldsymbol{x}^T\\boldsymbol{A} + \\boldsymbol{s}^T(\\boldsymbol{A}^T\\boldsymbol{A} + (\\boldsymbol{A}^T\\boldsymbol{A})^T)\n",
    "= -2\\boldsymbol{x}^T\\boldsymbol{A} + 2\\boldsymbol{s}^T\\boldsymbol{A}^T\\boldsymbol{A}\n",
    "= -2(\\boldsymbol{x}^T - \\boldsymbol{s}^T\\boldsymbol{A}^T)\\boldsymbol{A}\n",
    "= -2(\\boldsymbol{x} - \\boldsymbol{A}\\boldsymbol{s})^T\\boldsymbol{A}\n",
    "$$"
   ]
  },
  {
   "cell_type": "markdown",
   "id": "9268bbdb-1569-47fd-9ec2-9a005593ed84",
   "metadata": {},
   "source": [
    "<div style=\"background-color: #f0f0f0; border: 1px solid #d3d3d3; padding: 10px; border-radius: 5px;\">\n",
    "\n",
    "d)Using the expression from **c)**, but substituting back in $\\boldsymbol{\\theta}$, $\\boldsymbol{y}$ and $\\boldsymbol{X}$, find the expression for the optimal parameters $\\boldsymbol{\\theta}$ in the case that $\\boldsymbol{X}$ is not invertible, but $\\boldsymbol{X^T X}$ is, which is most often the case.\n",
    "\n",
    "$$\n",
    "\\boldsymbol{\\hat{\\theta}_{OLS}} = ...\n",
    "$$\n",
    "</div>"
   ]
  },
  {
   "cell_type": "markdown",
   "id": "3b8e0f26",
   "metadata": {},
   "source": [
    "$\\boldsymbol{s} = \\boldsymbol{\\theta}$; $\\boldsymbol{x} = \\boldsymbol{y}$; $\\boldsymbol{A} = \\boldsymbol{X}$\n",
    "\n",
    "to find the optimal parameter we need to set expression from part c) equal to 0:\n",
    "\n",
    "$$\n",
    "-2\\boldsymbol{X}^T(\\boldsymbol{y} - \\boldsymbol{X}\\boldsymbol{\\hat{\\theta}}) = 0\n",
    "$$\n",
    "We can cansell -2 by multiplying both sides to -1/2 and with rearrangement will get:\n",
    "\n",
    "$$\n",
    "\\boldsymbol{X}^T\\boldsymbol{X}\\boldsymbol{\\hat{\\theta}} = \\boldsymbol{X}^T\\boldsymbol{y}\n",
    "$$\n",
    "\n",
    "$$\n",
    "\\boldsymbol{\\hat{\\theta}} = (\\boldsymbol{X}^T\\boldsymbol{X})^{-1}\\boldsymbol{X}^T\\boldsymbol{y}\n",
    "$$"
   ]
  },
  {
   "cell_type": "markdown",
   "id": "4b221665",
   "metadata": {},
   "source": [
    "# Exercise 3 - Creating feature matrix and implementing OLS using the analytical expression"
   ]
  },
  {
   "cell_type": "code",
   "execution_count": 1,
   "id": "c741e29d-9765-4f7a-be0d-75ff45eb94f5",
   "metadata": {},
   "outputs": [],
   "source": [
    "import numpy as np\n",
    "from numpy.linalg import inv"
   ]
  },
  {
   "cell_type": "code",
   "execution_count": 2,
   "id": "48117e57-aa4e-4993-a479-e4225b305789",
   "metadata": {},
   "outputs": [],
   "source": [
    "n = 20\n",
    "income = np.array([116., 161., 167., 118., 172., 163., 179., 173., 162., 116., 101., 176., 178., 172., 143., 135., 160., 101., 149., 125.])\n",
    "children = np.array([5, 3, 0, 4, 5, 3, 0, 4, 4, 3, 3, 5, 1, 0, 2, 3, 2, 1, 5, 4])\n",
    "spending = np.array([152., 141., 102., 136., 161., 129.,  99., 159., 160., 107.,  98., 164., 121.,  93., 112., 127., 117.,  69., 156., 131.])"
   ]
  },
  {
   "cell_type": "markdown",
   "id": "b1e68210",
   "metadata": {},
   "source": [
    "<div style=\"background-color: #f0f0f0; border: 1px solid #d3d3d3; padding: 10px; border-radius: 5px;\">\n",
    "\n",
    "a) Create a feature matrix for the features income and children, including an intercept column of ones at the start."
   ]
  },
  {
   "cell_type": "code",
   "execution_count": 3,
   "id": "1d8bcc97",
   "metadata": {},
   "outputs": [],
   "source": [
    "X = np.zeros((n, 3))\n",
    "X[:, 0] = 1\n",
    "X[:, 1] = income\n",
    "X[:, 2] = children\n",
    "\n",
    "y = spending"
   ]
  },
  {
   "cell_type": "markdown",
   "id": "9e9f3b7a",
   "metadata": {},
   "source": [
    "<div style=\"background-color: #f0f0f0; border: 1px solid #d3d3d3; padding: 10px; border-radius: 5px;\">\n",
    "\n",
    "b) Use the expression from 3d) to find the optimal parameters $\\boldsymbol{\\hat{\\beta}_{OLS}}$ for predicting spending based on these features. Create a function for this operation, as you are going to need to use it a lot."
   ]
  },
  {
   "cell_type": "code",
   "execution_count": 4,
   "id": "09a3ca85",
   "metadata": {},
   "outputs": [],
   "source": [
    "def OLS_parameters(X, y):\n",
    "    xT = X.T # transpose matrix x\n",
    "    xTx_inv = inv(np.matmul(xT, X)) \n",
    "    xTy = np.matmul(xT, y)\n",
    "    return np.matmul(xTx_inv, xTy)\n",
    "\n",
    "beta = OLS_parameters(X, y)"
   ]
  },
  {
   "cell_type": "markdown",
   "id": "fffbc9fb",
   "metadata": {},
   "source": [
    "# Exercise 4 - Fitting a polynomial"
   ]
  },
  {
   "cell_type": "code",
   "execution_count": 11,
   "id": "382baee9",
   "metadata": {},
   "outputs": [],
   "source": [
    "import random\n",
    "random.seed(42)\n",
    "\n",
    "n = 100\n",
    "x = np.linspace(-3, 3, n)\n",
    "y = np.exp(-x**2) + 1.5 * np.exp(-(x-2)**2) + np.random.normal(0, 0.1)"
   ]
  },
  {
   "cell_type": "markdown",
   "id": "17f11fc3",
   "metadata": {},
   "source": [
    "<div style=\"background-color: #f0f0f0; border: 1px solid #d3d3d3; padding: 10px; border-radius: 5px;\">\n",
    "\n",
    "\n",
    "a) Create a feature matrix $\\boldsymbol{X}$ for the features $ x, x^2, x^3, ..., x^5$, including an intercept column of ones at the start. Make this into a function, as you will do this a lot over the next weeks."
   ]
  },
  {
   "cell_type": "code",
   "execution_count": 6,
   "id": "bb4faa58",
   "metadata": {},
   "outputs": [],
   "source": [
    "def polynomial_features(x, p):\n",
    "    n = len(x)\n",
    "    X = np.zeros((n, p + 1))\n",
    "    X[:, 0] = 1\n",
    "    for i in range(1, p + 1):\n",
    "        X[:, i] = x**i\n",
    "    return X\n",
    "\n",
    "X = polynomial_features(x, 5)"
   ]
  },
  {
   "cell_type": "markdown",
   "id": "c6308b39",
   "metadata": {},
   "source": [
    "<div style=\"background-color: #f0f0f0; border: 1px solid #d3d3d3; padding: 10px; border-radius: 5px;\">\n",
    "\n",
    "b) Use the expression from 3d) to find the optimal parameters $\\boldsymbol{\\hat{\\beta}_{OLS}}$ for predicting \n",
    " $\\boldsymbol{y}$ based on these features. If you have done everything right so far, this code will not need changing.\n",
    "\n"
   ]
  },
  {
   "cell_type": "code",
   "execution_count": 7,
   "id": "034f502c",
   "metadata": {},
   "outputs": [],
   "source": [
    "beta = OLS_parameters(X, y)"
   ]
  },
  {
   "cell_type": "markdown",
   "id": "d703f788",
   "metadata": {},
   "source": [
    "**c)** Like in exercise 4 last week, split your feature matrix and target data into a training split and test split."
   ]
  },
  {
   "cell_type": "code",
   "execution_count": 8,
   "id": "46e78e8a-2391-434b-b01c-a01cf38a5aaa",
   "metadata": {},
   "outputs": [],
   "source": [
    "from sklearn.model_selection import train_test_split"
   ]
  },
  {
   "cell_type": "code",
   "execution_count": 9,
   "id": "29171358",
   "metadata": {},
   "outputs": [],
   "source": [
    "x_train, x_test, y_train, y_test = train_test_split(X, y, test_size=0.2, random_state = 42)"
   ]
  },
  {
   "cell_type": "markdown",
   "id": "a0e3509f",
   "metadata": {},
   "source": [
    "**d)** Train your model on the training data(find the parameters which best fit) and compute the MSE on both the training and test data."
   ]
  },
  {
   "cell_type": "code",
   "execution_count": 12,
   "id": "c11683ea-a628-4221-b281-ab9a887bd774",
   "metadata": {},
   "outputs": [],
   "source": [
    "from sklearn.metrics import mean_squared_error"
   ]
  },
  {
   "cell_type": "code",
   "execution_count": 13,
   "id": "1e346f4c",
   "metadata": {},
   "outputs": [
    {
     "name": "stdout",
     "output_type": "stream",
     "text": [
      "MSE poly split train = 0.01335866930073314\n",
      "MSE poly split test = 0.01639319989814894\n"
     ]
    }
   ],
   "source": [
    "# There, I interpret this as we need to use our functions to make a model, not sklearn library\n",
    "# use OLS_parameters to fit the 5. degree polynomial model\n",
    "poly_fit =  OLS_parameters(x_train, y_train)\n",
    "\n",
    "# use the model to predict y values on train and test data\n",
    "y_predict_train = np.matmul(x_train, poly_fit)\n",
    "y_predict_test = np.matmul(x_test, poly_fit)\n",
    "\n",
    "mse_train = mean_squared_error(y_train,y_predict_train)\n",
    "mse_test = mean_squared_error(y_test,y_predict_test)\n",
    "print(f\"MSE poly split train = {mse_train}\")\n",
    "print(f\"MSE poly split test = {mse_test}\")"
   ]
  },
  {
   "cell_type": "markdown",
   "id": "7e431889",
   "metadata": {},
   "source": [
    "**e)** Do the same for each polynomial degree from 2 to 10, and plot the MSE on both the training and test data as a function of polynomial degree. The aim is to reproduce Figure 2.11 of [Hastie et al](https://github.com/CompPhysics/MLErasmus/blob/master/doc/Textbooks/elementsstat.pdf). Feel free to read the discussions leading to figure 2.11 of Hastie et al. "
   ]
  },
  {
   "cell_type": "code",
   "execution_count": 14,
   "id": "8914aa23-7154-4a96-ae97-e7f9716307c2",
   "metadata": {},
   "outputs": [],
   "source": [
    "import matplotlib.pyplot as plt"
   ]
  },
  {
   "cell_type": "code",
   "execution_count": 15,
   "id": "ceb57457",
   "metadata": {},
   "outputs": [
    {
     "data": {
      "text/plain": [
       "<matplotlib.legend.Legend at 0x156d62f50>"
      ]
     },
     "execution_count": 15,
     "metadata": {},
     "output_type": "execute_result"
    },
    {
     "data": {
      "image/png": "[encoded data removed]",
      "text/plain": [
       "<Figure size 640x480 with 1 Axes>"
      ]
     },
     "metadata": {},
     "output_type": "display_data"
    }
   ],
   "source": [
    "def range_of_pole(start, finish):\n",
    "    mse_np = np.zeros((finish - start + 1 , 3))\n",
    "    n = 0\n",
    "    for i in range(start, finish + 1):\n",
    "        X = polynomial_features(x, i)\n",
    "        x_train, x_test, y_train, y_test = train_test_split(X, y, test_size=0.2, random_state = 42)\n",
    "        \n",
    "        # fit model\n",
    "        poly_fit =  OLS_parameters(x_train, y_train)\n",
    "        \n",
    "        # use the model to predict y values on train and test data\n",
    "        y_predict_train = np.matmul(x_train, poly_fit)\n",
    "        y_predict_test = np.matmul(x_test, poly_fit)\n",
    "        mse_train = mean_squared_error(y_train,y_predict_train)\n",
    "        mse_test = mean_squared_error(y_test,y_predict_test)\n",
    "        \n",
    "        mse_np[n] = [i, mse_train, mse_test]\n",
    "        n += 1\n",
    "    return mse_np\n",
    "\n",
    "poly = range_of_pole(2, 10)\n",
    "\n",
    "x_scale = poly[:, 0]  # Selects all rows, 0th column (x-coordinates)\n",
    "y_train = poly[:, 1] \n",
    "y_test = poly[:, 2]\n",
    "\n",
    "plt.plot(x_scale, y_train, marker='o', linestyle='-', color='blue', label = \"Train data\")\n",
    "plt.plot(x_scale, y_test, marker='o', linestyle='-', color='green', label = \"Test data\")\n",
    "plt.xlabel(\"Degree of polynomial\")\n",
    "plt.ylabel(\"MSE\")\n",
    "plt.title(\"MSE for polynomial degree from 2 to 10\")\n",
    "plt.grid()\n",
    "plt.legend()\n"
   ]
  },
  {
   "cell_type": "markdown",
   "id": "5e5b5954",
   "metadata": {},
   "source": [
    "**f)** Interpret the graph. Why do the lines move as they do? What does it tell us about model performance and generalizability?"
   ]
  },
  {
   "cell_type": "markdown",
   "id": "ad2acfb9",
   "metadata": {},
   "source": [
    "We can see that for polynomial of degree 2, 5, and 7 the MSE of test data is higher in this particular case, than for the test data. This can happen, although this is not often situation. \n",
    "\n",
    "For degrees from 2 to 8, we observe a gradual decrease in MSE, indicating improvement in model fit as we increase the degree of the polynomial. For a polynomial of degree 9, we see a slight increase in MSE compared to 8 and 10, which can happen due to model overfitting the data. We do not want to have that, as if the model overfits to the data, when new data comes, our model will not make adequate predictions. \n",
    "\n",
    "Once I run these models with different random_states to get different data splits, it seems that the most accurate model I was able to get is the polynomial of degree 8. It balances nicely between under- and overfitting and seems, give the lowest MSE out of our 9 models."
   ]
  },
  {
   "cell_type": "markdown",
   "id": "5994f0c5",
   "metadata": {},
   "source": [
    "## Exercise 5 - Comparing your code with sklearn"
   ]
  },
  {
   "cell_type": "markdown",
   "id": "8f595b7a",
   "metadata": {},
   "source": [
    "When implementing different algorithms for the first time, it can be helpful to double check your results with established implementations before you go on to add more complexity."
   ]
  },
  {
   "cell_type": "markdown",
   "id": "8ab310c1",
   "metadata": {},
   "source": [
    "**a)** Make sure your `polynomial_features` function creates the same feature matrix as sklearns PolynomialFeatures.\n",
    "\n",
    "(https://scikit-learn.org/stable/modules/generated/sklearn.preprocessing.PolynomialFeatures.html)"
   ]
  },
  {
   "cell_type": "code",
   "execution_count": 59,
   "id": "85b964d1",
   "metadata": {},
   "outputs": [
    {
     "name": "stdout",
     "output_type": "stream",
     "text": [
      " Shape of the matrix made by polynomial_features: (50, 6)\n",
      " Shape of the matrix made by Sklearns PolynomialFeatures: (50, 6)\n",
      " Are the matrises equal?: False\n",
      "\n",
      " Difference location (Bool):\n",
      "[[ True  True  True  True  True  True]\n",
      " [ True  True  True False  True  True]\n",
      " [ True  True  True  True  True  True]\n",
      " [ True  True  True  True  True False]\n",
      " [ True  True  True False  True False]\n",
      " [ True  True  True  True  True  True]\n",
      " [ True  True  True False  True  True]\n",
      " [ True  True  True False  True  True]\n",
      " [ True  True  True  True  True  True]\n",
      " [ True  True  True  True  True False]\n",
      " [ True  True  True False  True  True]\n",
      " [ True  True  True  True False False]\n",
      " [ True  True  True  True False  True]\n",
      " [ True  True  True  True  True False]\n",
      " [ True  True  True  True False False]\n",
      " [ True  True  True  True  True  True]\n",
      " [ True  True  True  True False False]\n",
      " [ True  True  True  True False False]\n",
      " [ True  True  True False False False]\n",
      " [ True  True  True  True False False]\n",
      " [ True  True  True False False False]\n",
      " [ True  True  True False  True False]\n",
      " [ True  True  True  True  True False]\n",
      " [ True  True  True  True  True  True]\n",
      " [ True  True  True  True  True  True]\n",
      " [ True  True  True  True  True  True]\n",
      " [ True  True  True  True  True  True]\n",
      " [ True  True  True  True  True False]\n",
      " [ True  True  True  True  True False]\n",
      " [ True  True  True False False False]\n",
      " [ True  True  True  True False False]\n",
      " [ True  True  True  True  True  True]\n",
      " [ True  True  True  True False False]\n",
      " [ True  True  True  True False False]\n",
      " [ True  True  True  True  True  True]\n",
      " [ True  True  True  True  True  True]\n",
      " [ True  True  True  True  True  True]\n",
      " [ True  True  True  True False  True]\n",
      " [ True  True  True  True  True  True]\n",
      " [ True  True  True  True  True  True]\n",
      " [ True  True  True  True  True False]\n",
      " [ True  True  True  True  True  True]\n",
      " [ True  True  True  True False False]\n",
      " [ True  True  True False  True  True]\n",
      " [ True  True  True  True  True  True]\n",
      " [ True  True  True False False False]\n",
      " [ True  True  True  True  True False]\n",
      " [ True  True  True  True  True  True]\n",
      " [ True  True  True  True False False]\n",
      " [ True  True  True  True  True  True]]\n"
     ]
    }
   ],
   "source": [
    "from sklearn.preprocessing import PolynomialFeatures # use the fit_transform method of the created object!\n",
    "random.seed(42)\n",
    "\n",
    "n = 50\n",
    "x = np.linspace(-3, 3, n)\n",
    "\n",
    "X_fun = polynomial_features(x, 5)\n",
    "\n",
    "poly_features = PolynomialFeatures(degree = 5) # max degree of the polynomial feature\n",
    "# need to reshape x matrix to make it transpose as transpose function did not work\n",
    "X_skl = poly_features.fit_transform(x.reshape(n, 1)) # convert the original feature to polynomial feature\n",
    "\n",
    "\n",
    "# Check whether arrays are equal\n",
    "print(f\" Shape of the matrix made by polynomial_features: {X_fun.shape}\")\n",
    "print(f\" Shape of the matrix made by Sklearns PolynomialFeatures: {X_skl.shape}\")\n",
    "print(f\" Are the matrises equal?: {np.array_equal(X_fun, X_skl)}\")\n",
    "\n",
    "difference = (X_fun == X_skl)\n",
    "print(\"\\n Difference location (Bool):\")\n",
    "print(difference)"
   ]
  },
  {
   "cell_type": "code",
   "execution_count": 60,
   "id": "64dd0fb8-5c07-4fde-8e60-41347bfe5023",
   "metadata": {},
   "outputs": [
    {
     "name": "stdout",
     "output_type": "stream",
     "text": [
      "[[            nan             nan             nan             nan\n",
      "              nan             nan]\n",
      " [            nan             nan             nan -3.55271368e-15\n",
      "              nan             nan]\n",
      " [            nan             nan             nan             nan\n",
      "              nan             nan]\n",
      " [            nan             nan             nan             nan\n",
      "              nan -1.42108547e-14]\n",
      " [            nan             nan             nan  1.77635684e-15\n",
      "              nan  1.42108547e-14]\n",
      " [            nan             nan             nan             nan\n",
      "              nan             nan]\n",
      " [            nan             nan             nan -1.77635684e-15\n",
      "              nan             nan]\n",
      " [            nan             nan             nan -1.77635684e-15\n",
      "              nan             nan]\n",
      " [            nan             nan             nan             nan\n",
      "              nan             nan]\n",
      " [            nan             nan             nan             nan\n",
      "              nan  3.55271368e-15]\n",
      " [            nan             nan             nan -8.88178420e-16\n",
      "              nan             nan]\n",
      " [            nan             nan             nan             nan\n",
      "  -8.88178420e-16  1.77635684e-15]\n",
      " [            nan             nan             nan             nan\n",
      "  -8.88178420e-16             nan]\n",
      " [            nan             nan             nan             nan\n",
      "              nan -8.88178420e-16]\n",
      " [            nan             nan             nan             nan\n",
      "  -4.44089210e-16  4.44089210e-16]\n",
      " [            nan             nan             nan             nan\n",
      "              nan             nan]\n",
      " [            nan             nan             nan             nan\n",
      "   2.22044605e-16 -2.22044605e-16]\n",
      " [            nan             nan             nan             nan\n",
      "  -1.11022302e-16  1.11022302e-16]\n",
      " [            nan             nan             nan  1.11022302e-16\n",
      "  -5.55111512e-17  5.55111512e-17]\n",
      " [            nan             nan             nan             nan\n",
      "   2.77555756e-17 -2.77555756e-17]\n",
      " [            nan             nan             nan -2.77555756e-17\n",
      "   1.38777878e-17 -6.93889390e-18]\n",
      " [            nan             nan             nan -1.38777878e-17\n",
      "              nan -1.73472348e-18]\n",
      " [            nan             nan             nan             nan\n",
      "              nan -4.33680869e-19]\n",
      " [            nan             nan             nan             nan\n",
      "              nan             nan]\n",
      " [            nan             nan             nan             nan\n",
      "              nan             nan]\n",
      " [            nan             nan             nan             nan\n",
      "              nan             nan]\n",
      " [            nan             nan             nan             nan\n",
      "              nan             nan]\n",
      " [            nan             nan             nan             nan\n",
      "              nan  4.33680869e-19]\n",
      " [            nan             nan             nan             nan\n",
      "              nan  1.73472348e-18]\n",
      " [            nan             nan             nan  2.77555756e-17\n",
      "   1.38777878e-17  6.93889390e-18]\n",
      " [            nan             nan             nan             nan\n",
      "   2.77555756e-17  2.77555756e-17]\n",
      " [            nan             nan             nan             nan\n",
      "              nan             nan]\n",
      " [            nan             nan             nan             nan\n",
      "  -1.11022302e-16 -1.11022302e-16]\n",
      " [            nan             nan             nan             nan\n",
      "  -2.22044605e-16 -2.22044605e-16]\n",
      " [            nan             nan             nan             nan\n",
      "              nan             nan]\n",
      " [            nan             nan             nan             nan\n",
      "              nan             nan]\n",
      " [            nan             nan             nan             nan\n",
      "              nan             nan]\n",
      " [            nan             nan             nan             nan\n",
      "  -8.88178420e-16             nan]\n",
      " [            nan             nan             nan             nan\n",
      "              nan             nan]\n",
      " [            nan             nan             nan             nan\n",
      "              nan             nan]\n",
      " [            nan             nan             nan             nan\n",
      "              nan -3.55271368e-15]\n",
      " [            nan             nan             nan             nan\n",
      "              nan             nan]\n",
      " [            nan             nan             nan             nan\n",
      "   3.55271368e-15  7.10542736e-15]\n",
      " [            nan             nan             nan  1.77635684e-15\n",
      "              nan             nan]\n",
      " [            nan             nan             nan             nan\n",
      "              nan             nan]\n",
      " [            nan             nan             nan  1.77635684e-15\n",
      "   7.10542736e-15  1.42108547e-14]\n",
      " [            nan             nan             nan             nan\n",
      "              nan  1.42108547e-14]\n",
      " [            nan             nan             nan             nan\n",
      "              nan             nan]\n",
      " [            nan             nan             nan             nan\n",
      "  -1.42108547e-14 -2.84217094e-14]\n",
      " [            nan             nan             nan             nan\n",
      "              nan             nan]]\n"
     ]
    }
   ],
   "source": [
    "# find the value difference in matrices\n",
    "dif = X_fun - X_skl\n",
    "# if difference is 0 replace with nan\n",
    "dif[dif == 0] = np.nan\n",
    "\n",
    "print(dif)"
   ]
  },
  {
   "cell_type": "markdown",
   "id": "d743eb6a-d846-4fbc-8233-59407f220e56",
   "metadata": {},
   "source": [
    "We see the slight difference in values between 2 matrices that at most $ e^{-14}$ and can be attributed to rounding error rather than incorrect calculation.\n",
    "\n",
    "Thus, we can conclude that matrices created from polynomial_features function and sklearns PolynomialFeatures are identical."
   ]
  },
  {
   "cell_type": "markdown",
   "id": "73c32c52",
   "metadata": {},
   "source": [
    "**b)** Make sure your `OLS_parameters` function computes the same parameters as sklearns LinearRegression with fit_intercept set to False, since the intercept is included in the feature matrix. Use `your_model_object.coef_` to extract the computed parameters.\n",
    "\n",
    "(https://scikit-learn.org/stable/modules/generated/sklearn.linear_model.LinearRegression.html)"
   ]
  },
  {
   "cell_type": "code",
   "execution_count": 63,
   "id": "2342eb19-3a06-4aa5-a332-28fe760a0e96",
   "metadata": {},
   "outputs": [],
   "source": [
    "from sklearn.linear_model import LinearRegression"
   ]
  },
  {
   "cell_type": "code",
   "execution_count": 77,
   "id": "35b04126",
   "metadata": {},
   "outputs": [
    {
     "name": "stdout",
     "output_type": "stream",
     "text": [
      "[ 0.80350705  0.24840216 -0.0312108   0.06469191 -0.00221227 -0.00988909]\n",
      "[ 0.80350705  0.24840216 -0.0312108   0.06469191 -0.00221227 -0.00988909]\n",
      "\n",
      " Print whether the parameters are the same from both functions?: \n",
      " [False False False False False False] \n",
      "\n",
      "\n",
      " Print the difference in the parameters: \n",
      " [-3.33066907e-16 -3.27515792e-15 -5.20417043e-16 -2.49800181e-16\n",
      "  8.23993651e-18  9.36750677e-17]\n"
     ]
    }
   ],
   "source": [
    "n = 100\n",
    "x = np.linspace(-3, 3, n)\n",
    "y = np.exp(-x**2) + 1.5 * np.exp(-(x-2)**2) + np.random.normal(0, 0.1)\n",
    "\n",
    "#Use the same design matrix for both functions\n",
    "X = polynomial_features(x, 5)\n",
    "x_train, x_test, y_train, y_test = train_test_split(X, y, test_size=0.2, random_state = 42)\n",
    "        \n",
    "# fit model with OLS_parameters\n",
    "poly_fit =  OLS_parameters(x_train, y_train)\n",
    "print(poly_fit)\n",
    "\n",
    "poly_train = LinearRegression(fit_intercept=False).fit(x_train, y_train)\n",
    "print(poly_train.coef_)\n",
    "\n",
    "print(f\"\\n Print whether the parameters are the same from both functions?: \\n {poly_train.coef_ == poly_fit} \\n\")\n",
    "print(f\"\\n Print the difference in the parameters: \\n {poly_fit - poly_train.coef_}\")"
   ]
  },
  {
   "cell_type": "markdown",
   "id": "ec062cf8-671c-4d82-ae1d-778dbd7e4d91",
   "metadata": {},
   "source": [
    "As in the previous example, we see that despite visual identity at first glance, there is a small difference in function calculations when using Boolean comparisons.\n",
    "It can be  attributed to a rounding issue rather than to a mismatch between functions' outputs. \n",
    "\n",
    "It also allows me to conclude that the outputs of the functions are matching. "
   ]
  },
  {
   "cell_type": "code",
   "execution_count": null,
   "id": "205cad54-160d-4566-8ee4-ccb7cc4c0155",
   "metadata": {},
   "outputs": [],
   "source": []
  }
 ],
 "metadata": {
  "kernelspec": {
   "display_name": "Python [conda env:FYS_STK]",
   "language": "python",
   "name": "conda-env-FYS_STK-py"
  },
  "language_info": {
   "codemirror_mode": {
    "name": "ipython",
    "version": 3
   },
   "file_extension": ".py",
   "mimetype": "text/x-python",
   "name": "python",
   "nbconvert_exporter": "python",
   "pygments_lexer": "ipython3",
   "version": "3.11.13"
  }
 },
 "nbformat": 4,
 "nbformat_minor": 5
}
