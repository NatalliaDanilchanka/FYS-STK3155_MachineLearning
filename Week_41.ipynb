{
 "cells": [
  {
   "cell_type": "markdown",
   "id": "4b4c06bc",
   "metadata": {},
   "source": [
    "<!-- HTML file automatically generated from DocOnce source (https://github.com/doconce/doconce/)\n",
    "doconce format html exercisesweek41.do.txt  -->\n",
    "<!-- dom:TITLE: Exercises week 41 -->\n"
   ]
  },
  {
   "cell_type": "markdown",
   "id": "bcb25e64",
   "metadata": {},
   "source": [
    "# Exercises week 41\n",
    "\n",
    "**October 6-10, 2025**\n",
    "\n",
    "Date: **Deadline is Friday October 10 at midnight**\n"
   ]
  },
  {
   "cell_type": "markdown",
   "id": "bb01f126",
   "metadata": {},
   "source": [
    "# Overarching aims of the exercises this week\n",
    "\n",
    "This week, you will implement the entire feed-forward pass of a neural network! Next week you will compute the gradient of the network by implementing back-propagation manually, and by using autograd which does back-propagation for you (much easier!). Next week, you will also use the gradient to optimize the network with a gradient method! However, there is an optional exercise this week to get started on training the network and getting good results!\n",
    "\n",
    "We recommend that you do the exercises this week by editing and running this notebook file, as it includes some checks along the way that you have implemented the pieces of the feed-forward pass correctly, and running small parts of the code at a time will be important for understanding the methods.\n",
    "\n",
    "If you have trouble running a notebook, you can run this notebook in google colab instead (https://colab.research.google.com/drive/1zKibVQf-iAYaAn2-GlKfgRjHtLnPlBX4#offline=true&sandboxMode=true), an updated link will be provided on the course discord (you can also send an email to k.h.fredly@fys.uio.no if you encounter any trouble), though we recommend that you set up VSCode and your python environment to run code like this locally.\n",
    "\n",
    "First, here are some functions you are going to need, don't change this cell. If you are unable to import autograd, just swap in normal numpy until you want to do the final optional exercise.\n"
   ]
  },
  {
   "cell_type": "code",
   "execution_count": 1,
   "id": "c6f61b09",
   "metadata": {},
   "outputs": [],
   "source": [
    "import autograd.numpy as np  # We need to use this numpy wrapper to make automatic differentiation work later\n",
    "from sklearn import datasets\n",
    "import matplotlib.pyplot as plt\n",
    "from sklearn.metrics import accuracy_score\n",
    "\n",
    "\n",
    "# Defining some activation functions\n",
    "def ReLU(z):\n",
    "    return np.where(z > 0, z, 0)\n",
    "\n",
    "\n",
    "def sigmoid(z):\n",
    "    return 1 / (1 + np.exp(-z))\n",
    "\n",
    "\n",
    "def softmax(z):\n",
    "    \"\"\"Compute softmax values for each set of scores in the rows of the matrix z.\n",
    "    Used with batched input data.\"\"\"\n",
    "    e_z = np.exp(z - np.max(z, axis=0))\n",
    "    return e_z / np.sum(e_z, axis=1)[:, np.newaxis]\n",
    "\n",
    "\n",
    "def softmax_vec(z):\n",
    "    \"\"\"Compute softmax values for each set of scores in the vector z.\n",
    "    Use this function when you use the activation function on one vector at a time\"\"\"\n",
    "    e_z = np.exp(z - np.max(z))\n",
    "    return e_z / np.sum(e_z)"
   ]
  },
  {
   "cell_type": "markdown",
   "id": "6248ec53",
   "metadata": {},
   "source": [
    "# Exercise 1\n",
    "\n",
    "In this exercise you will compute the activation of the first layer. You only need to change the code in the cells right below an exercise, the rest works out of the box. Feel free to make changes and see how stuff works though!\n"
   ]
  },
  {
   "cell_type": "code",
   "execution_count": 2,
   "id": "37f30740",
   "metadata": {},
   "outputs": [],
   "source": [
    "np.random.seed(2024)\n",
    "\n",
    "num_inputs = 2\n",
    "layer_1 = 4\n",
    "\n",
    "x = np.random.randn(num_inputs)  # network input. This is a single input with two features\n",
    "W1 = np.random.randn(layer_1, num_inputs)  # first layer weights\n"
   ]
  },
  {
   "cell_type": "markdown",
   "id": "4ed2cf3d",
   "metadata": {},
   "source": [
    "**a)** Given the shape of the first layer weight matrix, what is the input shape of the neural network? What is the output shape of the first layer?\n"
   ]
  },
  {
   "cell_type": "markdown",
   "id": "d6b2b467-f87f-4f40-94f7-53651af4c371",
   "metadata": {},
   "source": [
    "The input shape of the matrix vector with lenght 2.\n",
    "\n",
    "The shape of the first layer is a vector with length 4. "
   ]
  },
  {
   "cell_type": "markdown",
   "id": "edf7217b",
   "metadata": {},
   "source": [
    "**b)** Define the bias of the first layer, `b1`with the correct shape. (Run the next cell right after the previous to get the random generated values to line up with the test solution below)\n"
   ]
  },
  {
   "cell_type": "code",
   "execution_count": 3,
   "id": "2129c19f",
   "metadata": {},
   "outputs": [],
   "source": [
    "# W1.shape[0] length of vector W1 @ x will be [4,2] @ [2,1] = [4,1] \n",
    "b1 = np.random.randn(layer_1)"
   ]
  },
  {
   "cell_type": "markdown",
   "id": "09e8d453",
   "metadata": {},
   "source": [
    "**c)** Compute the intermediary `z1` for the first layer\n"
   ]
  },
  {
   "cell_type": "code",
   "execution_count": 4,
   "id": "6837119b",
   "metadata": {},
   "outputs": [
    {
     "name": "stdout",
     "output_type": "stream",
     "text": [
      "[ 0.60610368  4.0076268  -6.84805855  0.56469864]\n"
     ]
    }
   ],
   "source": [
    "z1 = W1 @ x + b1\n",
    "print(z1) "
   ]
  },
  {
   "cell_type": "markdown",
   "id": "6f71374e",
   "metadata": {},
   "source": [
    "**d)** Compute the activation `a1` for the first layer using the ReLU activation function defined earlier.\n"
   ]
  },
  {
   "cell_type": "code",
   "execution_count": 5,
   "id": "8d41ed19",
   "metadata": {},
   "outputs": [],
   "source": [
    "a1 = ReLU(z1)"
   ]
  },
  {
   "cell_type": "markdown",
   "id": "088710c0",
   "metadata": {},
   "source": [
    "Confirm that you got the correct activation with the test below. Make sure that you define `b1` with the randn function right after you define `W1`.\n"
   ]
  },
  {
   "cell_type": "code",
   "execution_count": 6,
   "id": "4d2f54b4",
   "metadata": {},
   "outputs": [
    {
     "name": "stdout",
     "output_type": "stream",
     "text": [
      "True\n"
     ]
    }
   ],
   "source": [
    "sol1 = np.array([0.60610368, 4.0076268, 0.0, 0.56469864])\n",
    "\n",
    "print(np.allclose(a1, sol1))"
   ]
  },
  {
   "cell_type": "markdown",
   "id": "7fb0cf46",
   "metadata": {},
   "source": [
    "# Exercise 2\n",
    "\n",
    "Now we will add a layer to the network with an output of length 8 and ReLU activation.\n",
    "\n",
    "**a)** What is the input of the second layer? What is its shape?\n",
    "\n"
   ]
  },
  {
   "cell_type": "markdown",
   "id": "bbedf2f8-2f9f-438c-b077-f7df736f7bcd",
   "metadata": {},
   "source": [
    "The input for the second layer is the output from previous z1 layer. It is a vector with lenght 4."
   ]
  },
  {
   "cell_type": "markdown",
   "id": "94ab3611-be60-4913-a8b1-a6e033befccf",
   "metadata": {},
   "source": [
    "**b)** Define the weight and bias of the second layer with the right shapes.\n"
   ]
  },
  {
   "cell_type": "code",
   "execution_count": 7,
   "id": "00063acf",
   "metadata": {},
   "outputs": [],
   "source": [
    "layer_2 = 8\n",
    "\n",
    "W2 = np.random.randn(layer_2, layer_1)\n",
    "b2 = np.random.randn(layer_2)"
   ]
  },
  {
   "cell_type": "markdown",
   "id": "5bd7d84b",
   "metadata": {},
   "source": [
    "**c)** Compute the intermediary `z2` and activation `a2` for the second layer.\n"
   ]
  },
  {
   "cell_type": "code",
   "execution_count": 8,
   "id": "2fd0383d",
   "metadata": {},
   "outputs": [],
   "source": [
    "z2 = W2 @ z1 + b2\n",
    "a2 = ReLU(z2)"
   ]
  },
  {
   "cell_type": "markdown",
   "id": "1b5daae5",
   "metadata": {},
   "source": [
    "Confirm that you got the correct activation shape with the test below.\n"
   ]
  },
  {
   "cell_type": "code",
   "execution_count": 9,
   "id": "f7f2f8a1",
   "metadata": {},
   "outputs": [
    {
     "name": "stdout",
     "output_type": "stream",
     "text": [
      "True\n"
     ]
    }
   ],
   "source": [
    "print(\n",
    "    np.allclose(np.exp(len(a2)), 2980.9579870417283)\n",
    ")  # This should evaluate to True if a2 has the correct shape :)"
   ]
  },
  {
   "cell_type": "markdown",
   "id": "3759620d",
   "metadata": {},
   "source": [
    "# Exercise 3\n",
    "\n",
    "We often want our neural networks to have many layers of varying sizes. To avoid writing very long and error-prone code where we explicitly define and evaluate each layer we should keep all our layers in a single variable which is easy to create and use.\n",
    "\n",
    "**a)** Complete the function below so that it returns a list `layers` of weight and bias tuples `(W, b)` for each layer, in order, with the correct shapes that we can use later as our network parameters.\n"
   ]
  },
  {
   "cell_type": "code",
   "execution_count": 10,
   "id": "c58f10f9",
   "metadata": {},
   "outputs": [],
   "source": [
    "def create_layers(network_input_size, layer_output_sizes):\n",
    "    layers = []\n",
    "    i_size = network_input_size\n",
    "    \n",
    "    for layer_output_size in layer_output_sizes:\n",
    "        W = np.random.randn(layer_output_size, i_size)\n",
    "        b = np.random.randn(layer_output_size)\n",
    "        layers.append((W, b))\n",
    "\n",
    "        i_size = layer_output_size\n",
    "    return layers"
   ]
  },
  {
   "cell_type": "markdown",
   "id": "bdc0cda2",
   "metadata": {},
   "source": [
    "**b)** Comple the function below so that it evaluates the intermediary `z` and activation `a` for each layer, with ReLU actication, and returns the final activation `a`. This is the complete feed-forward pass, a full neural network!\n"
   ]
  },
  {
   "cell_type": "code",
   "execution_count": 11,
   "id": "5262df05",
   "metadata": {},
   "outputs": [],
   "source": [
    "def feed_forward_all_relu(layers, input):\n",
    "    a = input\n",
    "    for W, b in layers:\n",
    "        z = W @ a + b\n",
    "        a = ReLU(z)\n",
    "    return a"
   ]
  },
  {
   "cell_type": "markdown",
   "id": "245adbcb",
   "metadata": {},
   "source": [
    "**c)** Create a network with input size 8 and layers with output sizes 10, 16, 6, 2. Evaluate it and make sure that you get the correct size vectors along the way.\n"
   ]
  },
  {
   "cell_type": "code",
   "execution_count": 12,
   "id": "89a8f70d",
   "metadata": {},
   "outputs": [
    {
     "name": "stdout",
     "output_type": "stream",
     "text": [
      "The output is:  [10.97402184  0.        ] \n",
      "\n",
      " For layer #1 the size is: 10\n",
      " For layer #2 the size is: 16\n",
      " For layer #3 the size is: 6\n",
      " For layer #4 the size is: 2\n"
     ]
    }
   ],
   "source": [
    "np.random.seed(2024)\n",
    "\n",
    "input_size = 8\n",
    "layer_output_sizes = [10, 16, 6, 2]\n",
    "\n",
    "x = np.random.rand(input_size)\n",
    "layers = create_layers(input_size, layer_output_sizes)\n",
    "predict = feed_forward_all_relu(layers, x)\n",
    "print('The output is: ',predict, '\\n')\n",
    "\n",
    "index = 1\n",
    "for i in layers:\n",
    "    print(f\" For layer #{index} the size is: {len(i[0])}\")\n",
    "    index += 1"
   ]
  },
  {
   "cell_type": "markdown",
   "id": "0da7fd52",
   "metadata": {},
   "source": [
    "**d)** Why is a neural network with no activation functions always mathematically equivelent to a neural network with only one layer?\n"
   ]
  },
  {
   "cell_type": "markdown",
   "id": "fe7c5f8c-e86f-4a16-9bd5-e41f796a31f4",
   "metadata": {},
   "source": [
    "Without activation function every next layer of the network will be a linear tranformation of the previous layer or input.\n",
    "The combination of linear transformations can be combined into 1 linear transfortmaton, making it equivalent to a neural network with 1 layer without an activation function."
   ]
  },
  {
   "cell_type": "markdown",
   "id": "306d8b7c",
   "metadata": {},
   "source": [
    "# Exercise 4 - Custom activation for each layer\n"
   ]
  },
  {
   "cell_type": "markdown",
   "id": "221c7b6c",
   "metadata": {},
   "source": [
    "So far, every layer has used the same activation, ReLU. We often want to use other types of activation however, so we need to update our code to support multiple types of activation functions. Make sure that you have completed every previous exercise before trying this one.\n"
   ]
  },
  {
   "cell_type": "markdown",
   "id": "10896d06",
   "metadata": {},
   "source": [
    "**a)** Complete the `feed_forward` function which accepts a list of activation functions as an argument, and which evaluates these activation functions at each layer.\n"
   ]
  },
  {
   "cell_type": "code",
   "execution_count": 13,
   "id": "de062369",
   "metadata": {},
   "outputs": [],
   "source": [
    "def feed_forward(input, layers, activation_funcs):\n",
    "    a = input\n",
    "    for (W, b), activation_func in zip(layers, activation_funcs):\n",
    "        z = W @ a + b\n",
    "        a = activation_func(z)\n",
    "    return a"
   ]
  },
  {
   "cell_type": "markdown",
   "id": "274e4b51-8f62-4135-8f65-3101e0cdcdff",
   "metadata": {},
   "source": [
    "**b)** You are now given a list with three activation functions, two ReLU and one sigmoid. (Don't call them yet! you can make a list with function names as elements, and then call these elements of the list later. If you add other functions than the ones defined at the start of the notebook, make sure everything is defined using autograd's numpy wrapper, like above, since we want to use automatic differentiation on all of these functions later.)\n",
    "    \n",
    "\"Evaluate a network with three layers and these activation functions.\n"
   ]
  },
  {
   "cell_type": "code",
   "execution_count": 14,
   "id": "301b46dc",
   "metadata": {},
   "outputs": [
    {
     "data": {
      "text/plain": [
       "array([1.05162482e-06, 9.97916767e-01, 1.78812314e-06, 7.51797269e-04,\n",
       "       2.23653172e-02, 9.99996964e-01])"
      ]
     },
     "execution_count": 14,
     "metadata": {},
     "output_type": "execute_result"
    }
   ],
   "source": [
    "network_input_size = 8\n",
    "layer_output_sizes = [10, 16, 6, 2]\n",
    "activation_funcs = [ReLU, ReLU, sigmoid]\n",
    "layers = create_layers(input_size, layer_output_sizes)\n",
    "\n",
    "np.random.seed(42)\n",
    "x = np.random.randn(network_input_size)\n",
    "feed_forward(x, layers, activation_funcs)"
   ]
  },
  {
   "cell_type": "markdown",
   "id": "9c914fd0",
   "metadata": {},
   "source": [
    "**c)** How does the output of the network change if you use sigmoid in the hidden layers and ReLU in the output layer?\n"
   ]
  },
  {
   "cell_type": "code",
   "execution_count": 15,
   "id": "8ffcb649-64f8-44b2-848a-92d502f5ed9e",
   "metadata": {},
   "outputs": [
    {
     "data": {
      "text/plain": [
       "array([0.        , 2.30450746, 0.        , 0.        , 0.        ,\n",
       "       5.23478487])"
      ]
     },
     "execution_count": 15,
     "metadata": {},
     "output_type": "execute_result"
    }
   ],
   "source": [
    "activation_funcs_2 = [sigmoid, sigmoid, ReLU]\n",
    "feed_forward(x, layers, activation_funcs_2)"
   ]
  },
  {
   "cell_type": "markdown",
   "id": "ad0b3860-b270-4b8e-9632-135f27d10563",
   "metadata": {},
   "source": [
    "With this sequence of activation functions, where RelU is the last one, we get outputs within the range from 0 to 5.20390277 (for seed 42), whereas with ReLU, ReLU, sigmoid, we got all values within the range [0, 1]. \n",
    "\n",
    "This happened due to the behaviour of activation functions. Relu takes negative values and returns 0, and keep the rest as it is, while sigmoid scales all values into a new one within the  range [0, 1]."
   ]
  },
  {
   "cell_type": "markdown",
   "id": "a8d6c425",
   "metadata": {},
   "source": [
    "# Exercise 5 - Processing multiple inputs at once\n"
   ]
  },
  {
   "cell_type": "markdown",
   "id": "0f4330a4",
   "metadata": {},
   "source": [
    "So far, the feed forward function has taken one input vector as an input. This vector then undergoes a linear transformation and then an element-wise non-linear operation for each layer. This approach of sending one vector in at a time is great for interpreting how the network transforms data with its linear and non-linear operations, but not the best for numerical efficiency. Now, we want to be able to send many inputs through the network at once. This will make the code a bit harder to understand, but it will make it faster, and more compact. It will be worth the trouble.\n",
    "\n",
    "To process multiple inputs at once, while still performing the same operations, you will only need to flip a couple things around.\n"
   ]
  },
  {
   "cell_type": "markdown",
   "id": "17023bb7",
   "metadata": {},
   "source": [
    "**a)** Complete the function `create_layers_batch` so that the weight matrix is the transpose of what it was when you only sent in one input at a time.\n"
   ]
  },
  {
   "cell_type": "code",
   "execution_count": 16,
   "id": "a241fd79",
   "metadata": {},
   "outputs": [],
   "source": [
    "def create_layers_batch(network_input_size, layer_output_sizes):\n",
    "    layers = []\n",
    "\n",
    "    i_size = network_input_size\n",
    "    for layer_output_size in layer_output_sizes:\n",
    "        W = np.random.randn(layer_output_size, i_size)\n",
    "        W = W.T\n",
    "        b = np.random.randn(layer_output_size)\n",
    "        layers.append((W, b))\n",
    "\n",
    "        i_size = layer_output_size\n",
    "    return layers\n"
   ]
  },
  {
   "cell_type": "markdown",
   "id": "a6349db6",
   "metadata": {},
   "source": [
    "**b)** Make a matrix of inputs with the shape (number of features, number of inputs), you choose the number of inputs and features per input. Then complete the function `feed_forward_batch` so that you can process this matrix of inputs with only one matrix multiplication and one broadcasted vector addition per layer. (Hint: You will only need to swap two variable around from your previous implementation, but remember to test that you get the same results for equivelent inputs!)\n"
   ]
  },
  {
   "cell_type": "code",
   "execution_count": 17,
   "id": "425f3bcc",
   "metadata": {},
   "outputs": [],
   "source": [
    "inputs = np.random.rand(1000, 4)\n",
    "\n",
    "def feed_forward_batch(inputs, layers, activation_funcs):\n",
    "    a = inputs\n",
    "    for (W, b), activation_func in zip(layers, activation_funcs):\n",
    "        #print(a.shape)\n",
    "        #print(W.shape)\n",
    "        z = a @ W + b\n",
    "        a = activation_func(z)\n",
    "    return a"
   ]
  },
  {
   "cell_type": "markdown",
   "id": "efd07b4e",
   "metadata": {},
   "source": [
    "**c)** Create and evaluate a neural network with 4 inputs and layers with output sizes 12, 10, 3 and activations ReLU, ReLU, softmax.\n"
   ]
  },
  {
   "cell_type": "code",
   "execution_count": 18,
   "id": "ce6fcc2f",
   "metadata": {},
   "outputs": [
    {
     "data": {
      "text/plain": [
       "array([[1.79615630e-08, 9.92168743e-01, 7.83123935e-03],\n",
       "       [1.83032912e-20, 5.00000000e-01, 5.00000000e-01],\n",
       "       [1.21865441e-06, 9.99998781e-01, 6.59176474e-16],\n",
       "       [9.79044833e-01, 2.09550162e-02, 1.50408739e-07],\n",
       "       [7.36232640e-01, 2.63767360e-01, 1.05648243e-23],\n",
       "       [9.43046477e-07, 9.99999057e-01, 2.06136836e-10],\n",
       "       [3.43030515e-05, 9.99965697e-01, 7.82067382e-24]])"
      ]
     },
     "execution_count": 18,
     "metadata": {},
     "output_type": "execute_result"
    }
   ],
   "source": [
    "network_input_size = 4\n",
    "layer_output_sizes = [12, 10, 3]\n",
    "activation_funcs = [ReLU, ReLU, softmax]\n",
    "layers = create_layers_batch(network_input_size, layer_output_sizes)\n",
    "\n",
    "x = np.random.randn(7, network_input_size)\n",
    "\n",
    "feed_forward_batch(x, layers, activation_funcs)\n"
   ]
  },
  {
   "cell_type": "markdown",
   "id": "87999271",
   "metadata": {},
   "source": [
    "You should use this batched approach moving forward, as it will lead to much more compact code. However, remember that each input is still treated separately, and that you will need to keep in mind the transposed weight matrix and other details when implementing backpropagation.\n"
   ]
  },
  {
   "cell_type": "markdown",
   "id": "237eb782",
   "metadata": {},
   "source": [
    "# Exercise 6 - Predicting on real data\n"
   ]
  },
  {
   "cell_type": "markdown",
   "id": "54d5fde7",
   "metadata": {},
   "source": [
    "You will now evaluate your neural network on the iris data set (https://scikit-learn.org/1.5/auto_examples/datasets/plot_iris_dataset.html).\n",
    "\n",
    "This dataset contains data on 150 flowers of 3 different types which can be separated pretty well using the four features given for each flower, which includes the width and length of their leaves. You are will later train your network to actually make good predictions.\n"
   ]
  },
  {
   "cell_type": "code",
   "execution_count": 19,
   "id": "6bd4c148",
   "metadata": {},
   "outputs": [
    {
     "data": {
      "image/png": "[encoded data removed]",
      "text/plain": [
       "<Figure size 640x480 with 1 Axes>"
      ]
     },
     "metadata": {},
     "output_type": "display_data"
    }
   ],
   "source": [
    "iris = datasets.load_iris()\n",
    "\n",
    "_, ax = plt.subplots()\n",
    "scatter = ax.scatter(iris.data[:, 0], iris.data[:, 1], c=iris.target)\n",
    "ax.set(xlabel=iris.feature_names[0], ylabel=iris.feature_names[1])\n",
    "_ = ax.legend(\n",
    "    scatter.legend_elements()[0], iris.target_names, loc=\"lower right\", title=\"Classes\"\n",
    ")"
   ]
  },
  {
   "cell_type": "code",
   "execution_count": 20,
   "id": "ed3e2fc9",
   "metadata": {},
   "outputs": [],
   "source": [
    "inputs = iris.data\n",
    "\n",
    "# Since each prediction is a vector with a score for each of the three types of flowers,\n",
    "# we need to make each target a vector with a 1 for the correct flower and a 0 for the others.\n",
    "targets = np.zeros((len(iris.data), 3))\n",
    "for i, t in enumerate(iris.target):\n",
    "    targets[i, t] = 1\n",
    "\n",
    "\n",
    "def accuracy(predictions, targets):\n",
    "    one_hot_predictions = np.zeros(predictions.shape)\n",
    "\n",
    "    for i, prediction in enumerate(predictions):\n",
    "        one_hot_predictions[i, np.argmax(prediction)] = 1\n",
    "    return accuracy_score(one_hot_predictions, targets)"
   ]
  },
  {
   "cell_type": "markdown",
   "id": "0362c4a9",
   "metadata": {},
   "source": [
    "**a)** What should the input size for the network be with this dataset? What should the output size of the last layer be?\n"
   ]
  },
  {
   "cell_type": "markdown",
   "id": "1b10a5b6-5c4e-443d-843c-8c10b33fdc1a",
   "metadata": {},
   "source": [
    "Because we have dataset contains data on 150 flowers with 4 columns being: Sepal Length, Sepal Width, Petal Length and Petal Width,the input size for the network will be [150, 4]. The output size will be [150, 3] because we can have 3 different classes of irises and 150 samples. "
   ]
  },
  {
   "cell_type": "markdown",
   "id": "bf62607e",
   "metadata": {},
   "source": [
    "**b)** Create a network with two hidden layers, the first with sigmoid activation and the last with softmax, the first layer should have 8 \"nodes\", the second has the number of nodes you found in exercise a). Softmax returns a \"probability distribution\", in the sense that the numbers in the output are positive and add up to 1 and, their magnitude are in some sense relative to their magnitude before going through the softmax function. Remember to use the batched version of the create_layers and feed forward functions.\n"
   ]
  },
  {
   "cell_type": "code",
   "execution_count": 21,
   "id": "5366d4ae",
   "metadata": {},
   "outputs": [],
   "source": [
    "network_input_size = len(inputs[0])\n",
    "layer_output_sizes = [8, 3]\n",
    "activation_funcs = [sigmoid, softmax]\n",
    "layers = create_layers_batch(network_input_size, layer_output_sizes)\n"
   ]
  },
  {
   "cell_type": "markdown",
   "id": "c528846f",
   "metadata": {},
   "source": [
    "**c)** Evaluate your model on the entire iris dataset! For later purposes, we will split the data into train and test sets, and compute gradients on smaller batches of the training data. But for now, evaluate the network on the whole thing at once.\n"
   ]
  },
  {
   "cell_type": "code",
   "execution_count": 22,
   "id": "6c783105",
   "metadata": {},
   "outputs": [],
   "source": [
    "predictions = feed_forward_batch(inputs, layers, activation_funcs)"
   ]
  },
  {
   "cell_type": "markdown",
   "id": "01a3caa8",
   "metadata": {},
   "source": [
    "**d)** Compute the accuracy of your model using the accuracy function defined above. Recreate your model a couple times and see how the accuracy changes.\n"
   ]
  },
  {
   "cell_type": "code",
   "execution_count": 23,
   "id": "a2612b82",
   "metadata": {},
   "outputs": [
    {
     "name": "stdout",
     "output_type": "stream",
     "text": [
      "0.0\n"
     ]
    }
   ],
   "source": [
    "print(accuracy(predictions, targets))\n",
    "\n",
    "# the prediction score is varies from 0.0 to 0.63, \n",
    "#which is very unstable because our error fully depends on initial weights and biases that we set randomly"
   ]
  },
  {
   "cell_type": "code",
   "execution_count": null,
   "id": "ec2d0983-4364-4f08-b3ac-4d0274a74ee7",
   "metadata": {},
   "outputs": [],
   "source": []
  },
  {
   "cell_type": "markdown",
   "id": "334560b6",
   "metadata": {},
   "source": [
    "# Exercise 7 - Training on real data (Optional)\n",
    "\n",
    "To be able to actually do anything useful with your neural network, you need to train it. For this, we need a cost function and a way to take the gradient of the cost function wrt. the network parameters. The following exercises guide you through taking the gradient using autograd, and updating the network parameters using the gradient. Feel free to implement gradient methods like ADAM if you finish everything.\n"
   ]
  },
  {
   "cell_type": "markdown",
   "id": "700cabe4",
   "metadata": {},
   "source": [
    "Since we are doing a classification task with multiple output classes, we use the cross-entropy loss function, which can evaluate performance on classification tasks. It sees if your prediction is \"most certain\" on the correct target.\n"
   ]
  },
  {
   "cell_type": "code",
   "execution_count": 24,
   "id": "f30e6e2c",
   "metadata": {},
   "outputs": [],
   "source": [
    "def cross_entropy(predict, target):\n",
    "    return np.sum(-target * np.log(predict))\n",
    "\n",
    "\n",
    "def cost(input, layers, activation_funcs, target):\n",
    "    predict = feed_forward_batch(input, layers, activation_funcs)\n",
    "    return cross_entropy(predict, target)"
   ]
  },
  {
   "cell_type": "markdown",
   "id": "7ea9c1a4",
   "metadata": {},
   "source": [
    "To improve our network on whatever prediction task we have given it, we need to use a sensible cost function, take the gradient of that cost function with respect to our network parameters, the weights and biases, and then update the weights and biases using these gradients. To clarify, we need to find and use these\n",
    "\n",
    "$$\n",
    "\\frac{\\partial C}{\\partial W}, \\frac{\\partial C}{\\partial b}\n",
    "$$\n"
   ]
  },
  {
   "cell_type": "markdown",
   "id": "6c753e3b",
   "metadata": {},
   "source": [
    "Now we need to compute these gradients. This is pretty hard to do for a neural network, we will use most of next week to do this, but we can also use autograd to just do it for us, which is what we always do in practice. With the code cell below, we create a function which takes all of these gradients for us.\n"
   ]
  },
  {
   "cell_type": "code",
   "execution_count": 25,
   "id": "56bef776",
   "metadata": {},
   "outputs": [],
   "source": [
    "from autograd import grad\n",
    "\n",
    "gradient_func = grad(\n",
    "    cost, 1\n",
    "); # Taking the gradient wrt. the second input to the cost function, i.e. the layers\n",
    "\n",
    "gradient = gradient_func(inputs, layers, activation_funcs, targets)"
   ]
  },
  {
   "cell_type": "markdown",
   "id": "7b1b74bc",
   "metadata": {},
   "source": [
    "**a)** What shape should the gradient of the cost function wrt. weights and biases be?\n",
    "\n"
   ]
  },
  {
   "cell_type": "code",
   "execution_count": 26,
   "id": "0e137ab2-72c3-43a7-9015-35268099a8d8",
   "metadata": {},
   "outputs": [
    {
     "name": "stdout",
     "output_type": "stream",
     "text": [
      "[(4, 8), (8,), (8, 3), (3,)]\n"
     ]
    }
   ],
   "source": [
    "shapes = []\n",
    "for item in gradient:\n",
    "    for array in item:\n",
    "        if isinstance(array, np.ndarray):\n",
    "            shapes.append(array.shape)  # Append the shape tuple\n",
    "\n",
    "# Print the shapes\n",
    "print(shapes)"
   ]
  },
  {
   "cell_type": "markdown",
   "id": "e9e0ed8c-3945-44cd-ab08-afee4d285ea4",
   "metadata": {},
   "source": [
    "The shape of the weight function for the hidden layer is [4, 8], for the output is [8, 3] because we get 4 parameters for each input variable and we have 8 nodes in the hidden layer and 3 nodes for the output layer. \n",
    "\n",
    "The shape of the bias function for the hidden layer is a vector of length 8, and for the output layer it will be 3. "
   ]
  },
  {
   "cell_type": "markdown",
   "id": "430be8ac-b1d5-46b9-b2ff-c8e6852c3ed7",
   "metadata": {},
   "source": [
    "**b)** Use the `gradient_func` function to take the gradient of the cross entropy wrt. the weights and biases of the network. Check the shapes of what's inside. What does the `grad` func from autograd actually do?\n"
   ]
  },
  {
   "cell_type": "markdown",
   "id": "4b50705b-908c-409d-a811-9b36efd6ed44",
   "metadata": {},
   "source": [
    "\n",
    "- Grad function is used to compute the sum of gradients of a given set of outputs with respect to a given set of inputs. "
   ]
  },
  {
   "cell_type": "code",
   "execution_count": 27,
   "id": "841c9e87",
   "metadata": {},
   "outputs": [],
   "source": [
    "layers_grad = gradient_func(\n",
    "    inputs, layers, activation_funcs, targets\n",
    ")  # Don't change this"
   ]
  },
  {
   "cell_type": "markdown",
   "id": "adc9e9be",
   "metadata": {},
   "source": [
    "**c)** Finish the `train_network` function.\n"
   ]
  },
  {
   "cell_type": "code",
   "execution_count": 28,
   "id": "6e4d38d3",
   "metadata": {},
   "outputs": [],
   "source": [
    "def train_network(_inputs, _layers, activation_funcs, targets, learning_rate=0.001, epochs=30):\n",
    "    predictions = []\n",
    "    prediction = _inputs\n",
    "    for i in range(epochs):\n",
    "        layers_grad = gradient_func(_inputs, _layers, activation_funcs, targets)\n",
    "        for (W, b), (W_g, b_g) in zip(_layers, layers_grad):\n",
    "            W -= W_g * learning_rate\n",
    "            b -= b_g * learning_rate\n",
    "        prediction = feed_forward_batch(_inputs,_layers,activation_funcs)\n",
    "        predictions.append(prediction)\n",
    "\n",
    "        #print(accuracy(prediction, targets))\n",
    "\n",
    "    return predictions"
   ]
  },
  {
   "cell_type": "markdown",
   "id": "2f65d663",
   "metadata": {},
   "source": [
    "**e)** What do we call the gradient method used above?\n"
   ]
  },
  {
   "cell_type": "markdown",
   "id": "700ec0e2-39a8-4ce9-ae5e-597d0e420d16",
   "metadata": {},
   "source": [
    "Gradient Descent"
   ]
  },
  {
   "cell_type": "markdown",
   "id": "7059dd8c",
   "metadata": {},
   "source": [
    "**d)** Train your network and see how the accuracy changes! Make a plot if you want.\n"
   ]
  },
  {
   "cell_type": "code",
   "execution_count": 29,
   "id": "5027c7a5",
   "metadata": {},
   "outputs": [
    {
     "name": "stdout",
     "output_type": "stream",
     "text": [
      "[0.0, 0.006666666666666667, 0.08, 0.16666666666666666, 0.32, 0.37333333333333335, 0.4, 0.38666666666666666, 0.36666666666666664, 0.34, 0.3333333333333333, 0.3466666666666667, 0.3466666666666667, 0.3466666666666667, 0.35333333333333333, 0.36666666666666664, 0.36666666666666664, 0.36666666666666664, 0.37333333333333335, 0.36666666666666664, 0.36666666666666664, 0.36666666666666664, 0.3933333333333333, 0.4066666666666667, 0.42, 0.4866666666666667, 0.52, 0.5866666666666667, 0.62, 0.6333333333333333, 0.66, 0.68, 0.68, 0.6866666666666666, 0.6866666666666666, 0.6866666666666666, 0.6866666666666666, 0.6933333333333334, 0.6933333333333334, 0.6933333333333334, 0.6933333333333334, 0.6933333333333334, 0.6933333333333334, 0.6933333333333334, 0.6933333333333334, 0.6933333333333334, 0.6933333333333334, 0.6933333333333334, 0.6933333333333334, 0.6866666666666666, 0.6866666666666666, 0.6866666666666666, 0.6866666666666666, 0.6866666666666666, 0.6866666666666666, 0.6866666666666666, 0.6866666666666666, 0.6866666666666666, 0.6933333333333334, 0.6933333333333334, 0.6933333333333334, 0.6933333333333334, 0.6933333333333334, 0.6933333333333334, 0.6933333333333334, 0.6933333333333334, 0.6933333333333334, 0.6933333333333334, 0.6933333333333334, 0.6933333333333334, 0.6866666666666666, 0.6866666666666666, 0.6866666666666666, 0.6866666666666666, 0.6866666666666666, 0.6866666666666666, 0.6866666666666666, 0.68, 0.68, 0.68, 0.68, 0.68, 0.6866666666666666, 0.6866666666666666, 0.6866666666666666, 0.6866666666666666, 0.6866666666666666, 0.6866666666666666, 0.68, 0.68, 0.68, 0.68, 0.68, 0.68, 0.68, 0.68, 0.68, 0.68, 0.68, 0.68]\n"
     ]
    }
   ],
   "source": [
    "lern_rate = 0.001\n",
    "n_iter = 100\n",
    "predictions_final = train_network(inputs, layers, activation_funcs, targets, learning_rate=0.001, epochs=n_iter)\n",
    "\n",
    "accuracy_values = []\n",
    "for pred in predictions_final:\n",
    "    acc = accuracy(pred, targets)\n",
    "    accuracy_values.append(acc)\n",
    "\n",
    "# Print the collected accuracy values\n",
    "print(accuracy_values)"
   ]
  },
  {
   "cell_type": "code",
   "execution_count": 33,
   "id": "76708f8b-f85b-4119-9deb-7b4b3bfbc415",
   "metadata": {},
   "outputs": [
    {
     "data": {
      "image/png": "[encoded data removed]",
      "text/plain": [
       "<Figure size 1000x600 with 1 Axes>"
      ]
     },
     "metadata": {},
     "output_type": "display_data"
    }
   ],
   "source": [
    "import matplotlib.pyplot as plt\n",
    "\n",
    "range_x = range(0, n_iter, 1)\n",
    "\n",
    "plt.figure(figsize=(10, 6))\n",
    "plt.plot(range_x, accuracy_values, marker='o', linestyle='-', color='b', label='Accuracy')\n",
    "plt.title('Model Accuracy Over Epochs')\n",
    "plt.xlabel('Epochs')\n",
    "plt.ylabel('N iterations')\n",
    "plt.grid()\n",
    "plt.legend()\n",
    "plt.show()"
   ]
  },
  {
   "cell_type": "code",
   "execution_count": null,
   "id": "a44d6903-10df-42e0-a82f-7932c787e351",
   "metadata": {},
   "outputs": [],
   "source": []
  },
  {
   "cell_type": "code",
   "execution_count": null,
   "id": "b2f5a09f-6e32-4730-be1d-4779a5cbe3d3",
   "metadata": {},
   "outputs": [],
   "source": []
  },
  {
   "cell_type": "code",
   "execution_count": null,
   "id": "11cc5f7d-a2b1-418f-b940-a9792c9ec710",
   "metadata": {},
   "outputs": [],
   "source": []
  },
  {
   "cell_type": "markdown",
   "id": "3bc77016",
   "metadata": {},
   "source": [
    "**e)** How high of an accuracy is it possible to acheive with a neural network on this dataset, if we use the whole thing as training data?\n"
   ]
  }
 ],
 "metadata": {
  "kernelspec": {
   "display_name": "Python [conda env:FYS_STK]",
   "language": "python",
   "name": "conda-env-FYS_STK-py"
  },
  "language_info": {
   "codemirror_mode": {
    "name": "ipython",
    "version": 3
   },
   "file_extension": ".py",
   "mimetype": "text/x-python",
   "name": "python",
   "nbconvert_exporter": "python",
   "pygments_lexer": "ipython3",
   "version": "3.11.13"
  }
 },
 "nbformat": 4,
 "nbformat_minor": 5
}
