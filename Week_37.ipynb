{
 "cells": [
  {
   "cell_type": "markdown",
   "id": "8e6632a0",
   "metadata": {
    "editable": true
   },
   "source": [
    "<!-- HTML file automatically generated from DocOnce source (https://github.com/doconce/doconce/)\n",
    "doconce format html exercisesweek37.do.txt  -->\n",
    "<!-- dom:TITLE: Exercises week 37 -->"
   ]
  },
  {
   "cell_type": "markdown",
   "id": "82705c4f",
   "metadata": {
    "editable": true
   },
   "source": [
    "# Exercises week 37\n",
    "**Implementing gradient descent for Ridge and ordinary Least Squares Regression**\n",
    "\n",
    "Date: **September 8-12, 2025**"
   ]
  },
  {
   "cell_type": "markdown",
   "id": "921bf331",
   "metadata": {
    "editable": true
   },
   "source": [
    "## Learning goals\n",
    "\n",
    "After having completed these exercises you will have:\n",
    "1. Your own code for the implementation of the simplest gradient descent approach applied to ordinary least squares (OLS) and Ridge regression\n",
    "\n",
    "2. Be able to compare the analytical expressions for OLS and Ridge regression with the gradient descent approach\n",
    "\n",
    "3. Explore the role of the learning rate in the gradient descent approach and the hyperparameter $\\lambda$ in Ridge regression\n",
    "\n",
    "4. Scale the data properly"
   ]
  },
  {
   "cell_type": "markdown",
   "id": "adff65d5",
   "metadata": {
    "editable": true
   },
   "source": [
    "## Simple one-dimensional second-order polynomial\n",
    "\n",
    "We start with a very simple function"
   ]
  },
  {
   "cell_type": "markdown",
   "id": "70418b3d",
   "metadata": {
    "editable": true
   },
   "source": [
    "$$\n",
    "f(x)= 2-x+5x^2,\n",
    "$$"
   ]
  },
  {
   "cell_type": "markdown",
   "id": "11a3cf73",
   "metadata": {
    "editable": true
   },
   "source": [
    "defined for $x\\in [-2,2]$. You can add noise if you wish. \n",
    "\n",
    "We are going to fit this function with a polynomial ansatz. The easiest thing is to set up a second-order polynomial and see if you can fit the above function.\n",
    "Feel free to play around with higher-order polynomials."
   ]
  },
  {
   "cell_type": "markdown",
   "id": "04a06b51",
   "metadata": {
    "editable": true
   },
   "source": [
    "## Exercise 1, scale your data\n",
    "\n",
    "Before fitting a regression model, it is good practice to normalize or\n",
    "standardize the features. This ensures all features are on a\n",
    "comparable scale, which is especially important when using\n",
    "regularization. Here we will perform standardization, scaling each\n",
    "feature to have mean 0 and standard deviation 1."
   ]
  },
  {
   "cell_type": "markdown",
   "id": "408db3d9",
   "metadata": {
    "editable": true
   },
   "source": [
    "### 1a)\n",
    "\n",
    "Compute the mean and standard deviation of each column (feature) in your design/feature matrix $\\boldsymbol{X}$.\n",
    "Subtract the mean and divide by the standard deviation for each feature.\n",
    "\n",
    "We will also center the target $\\boldsymbol{y}$ to mean $0$. Centering $\\boldsymbol{y}$\n",
    "(and each feature) means the model does not require a separate intercept\n",
    "term, the data is shifted such that the intercept is effectively 0\n",
    ". (In practice, one could include an intercept in the model and not\n",
    "penalize it, but here we simplify by centering.)\n",
    "Choose $n=100$ data points and set up $\\boldsymbol{x}$, $\\boldsymbol{y}$ and the design matrix $\\boldsymbol{X}$."
   ]
  },
  {
   "cell_type": "code",
   "execution_count": null,
   "id": "26338ab9-3814-490f-af8e-539ccb4e3124",
   "metadata": {},
   "outputs": [],
   "source": [
    "from random import random, seed\n",
    "import numpy as np\n",
    "import matplotlib.pyplot as plt\n",
    "from sklearn.model_selection import train_test_split\n",
    "from sklearn.metrics import mean_squared_error"
   ]
  },
  {
   "cell_type": "code",
   "execution_count": null,
   "id": "8678a3ec-8dbc-4ab4-b56c-168af54a8ec4",
   "metadata": {},
   "outputs": [],
   "source": [
    "np.random.seed(452)\n",
    "\n",
    "numb = 1000\n",
    "X = np.random.rand(numb,1) * 4 - 2\n",
    "Y = 2.0 - X + 5*(X**2) + np.random.uniform(0, 25)"
   ]
  },
  {
   "cell_type": "code",
   "execution_count": null,
   "id": "37fb732c",
   "metadata": {
    "collapsed": false,
    "editable": true,
    "jupyter": {
     "outputs_hidden": false
    }
   },
   "outputs": [],
   "source": [
    "# Standardize features (zero mean, unit variance for each feature)\n",
    "X_mean = X.mean(axis=0)\n",
    "X_std = X.std(axis=0)\n",
    "X_std[X_std == 0] = 1  # safeguard to avoid division by zero for constant features\n",
    "X_norm = (X - X_mean) / X_std\n",
    "\n",
    "# Center the target to zero mean (optional, to simplify intercept handling)\n",
    "y_mean = Y.mean(axis=0)\n",
    "Y_std = Y.std(axis=0)\n",
    "print(f'y std is: {Y_std}')\n",
    "Y_std[Y_std == 0] = 1\n",
    "y_centered = (Y - y_mean)/Y_std\n"
   ]
  },
  {
   "cell_type": "markdown",
   "id": "96af216b-834f-448f-9c07-56cd77368f76",
   "metadata": {},
   "source": [
    "as we get y quite spreaded from 0 to 25+ with standart deviation 6.12 I desided that we can devide y bu std as well as x values."
   ]
  },
  {
   "cell_type": "code",
   "execution_count": null,
   "id": "ec93c9f4-6db6-4121-ba90-ac291b51384e",
   "metadata": {},
   "outputs": [],
   "source": [
    "# Create the figure and axes for subplots\n",
    "fig, axs = plt.subplots(1, 2, figsize=(12, 6))  # 1 row, 2 columns\n",
    "\n",
    "# First plot: Scatter plot of original X and Y\n",
    "axs[0].scatter(X, Y, color='blue', alpha=0.5)\n",
    "axs[0].set_title('Scatter Plot of Random Points')\n",
    "axs[0].set_xlabel('X values')\n",
    "axs[0].set_ylabel('Y values')\n",
    "\n",
    "# Second plot: Scatter plot of centered X and centered Y\n",
    "axs[1].scatter(X_norm, y_centered, color='red', alpha=0.5)\n",
    "axs[1].set_title(' Plot of Normalize Y and X')\n",
    "axs[1].set_xlabel('X values')\n",
    "axs[1].set_ylabel('Centered Y values')\n",
    "\n",
    "# Adjust layout to avoid overlap\n",
    "plt.tight_layout()\n",
    "plt.show()\n"
   ]
  },
  {
   "cell_type": "markdown",
   "id": "d861e1e3",
   "metadata": {
    "editable": true
   },
   "source": [
    "Fill in the necessary details. Do we need to center the $y$-values? \n",
    "\n",
    "After this preprocessing, each column of $\\boldsymbol{X}_{\\mathrm{norm}}$ has mean zero and standard deviation $1$\n",
    "and $\\boldsymbol{y}_{\\mathrm{centered}}$ has mean 0. This makes the optimization landscape\n",
    "nicer and ensures the regularization penalty $\\lambda \\sum_j\n",
    "\\theta_j^2$ in Ridge regression treats each coefficient fairly (since features are on the\n",
    "same scale)."
   ]
  },
  {
   "cell_type": "markdown",
   "id": "f1902f05-ca54-4b06-ac87-7eb1b1f68e67",
   "metadata": {},
   "source": [
    "<div style=\"background-color: #f0f0f0; border: 1px solid #d3d3d3; padding: 10px; border-radius: 5px;\">\n",
    "\n",
    "There is no strict need to center y values, but it can help as to get better understanding of data. On the plot above we see that we have x values from -2 to 2, but y can take any value from 0 up to 30. Centering it can help to increase interpretability. "
   ]
  },
  {
   "cell_type": "markdown",
   "id": "b3e774d0",
   "metadata": {
    "editable": true
   },
   "source": [
    "## Exercise 2, calculate the gradients\n",
    "\n",
    "Find the gradients for OLS and Ridge regression using the mean-squared error as cost/loss function."
   ]
  },
  {
   "cell_type": "markdown",
   "id": "79c019eb-060d-467c-b73e-06570c2b85ca",
   "metadata": {},
   "source": [
    "  ."
   ]
  },
  {
   "cell_type": "markdown",
   "id": "eb0d90c1-733d-4752-9d19-a49acc2bcc80",
   "metadata": {},
   "source": [
    "This exercise interprited as theoretical and contains calculations of gradients for OLS and Ridge regression.\n",
    "Full working code for the same in part 4 of the weekly exercises."
   ]
  },
  {
   "cell_type": "markdown",
   "id": "778762fe-3e90-428c-b3ac-80eae58ddebc",
   "metadata": {},
   "source": [
    "For OLS we have following loss function:\n",
    "$$\n",
    "C(\\theta) = \\frac{1}{n}||X\\theta-\\mathbf{y}||_{2}^{2} = \\frac{1}{n}\\sum_{i=1}^{100}\\left[ (\\theta_0 + \\theta_1 x_i)^2 - 2 y_i (\\theta_0 + \\theta_1 x_i) + y_i^2\\right]\n",
    "$$"
   ]
  },
  {
   "cell_type": "markdown",
   "id": "79f9f2c7-d8fe-479a-a23d-30c8a73511fb",
   "metadata": {},
   "source": [
    "$$\n",
    "\\frac{ \\partial ( {C(\\theta}))}{\\partial {\\theta_0}}=\n",
    "2(\\theta_0 + \\theta_1 x_i) - 2 y_i=\n",
    "2(\\theta_0 + \\theta_1 x_i - y_i)\n",
    "$$"
   ]
  },
  {
   "cell_type": "markdown",
   "id": "198c9443-4cd2-4183-96f7-1868631033d3",
   "metadata": {},
   "source": [
    "$$\n",
    "\\frac{ \\partial ( {C(\\theta}))}{\\partial {\\theta_1}}= \n",
    "2(\\theta_0 + \\theta_1 x_i)x_i - 2 y_i x_i=\n",
    "2 x_i (\\theta_0 + \\theta_1 x_i - y_i)\n",
    "$$"
   ]
  },
  {
   "cell_type": "markdown",
   "id": "1931f585-e2a4-4836-a3a7-44c1ce584482",
   "metadata": {},
   "source": [
    "Thus in matrix form we can write gradien as:\n",
    "$$\n",
    "\\nabla_{\\theta} C(\\theta) = \\frac{2}{n}X^T(X\\theta - \\mathbf{y}),\n",
    "$$"
   ]
  },
  {
   "cell_type": "markdown",
   "id": "7d85deae-2b91-4ec3-b577-ac590cc02ceb",
   "metadata": {},
   "source": [
    "and we can approximate to the theta value by subtracting from current theta gradint multiplied on constant rate that can be either choosen randomly, or as 1/ $\\lambda$ where $\\lambda$ is a max eigenvalue of Hessian matrix "
   ]
  },
  {
   "cell_type": "markdown",
   "id": "e8a27788-b3e1-4030-aae5-a055c17e0df3",
   "metadata": {},
   "source": [
    "$$\n",
    "\\theta_{k+1} = \\theta_k - \\eta \\nabla_\\theta C(\\theta_k)\n",
    "$$"
   ]
  },
  {
   "cell_type": "markdown",
   "id": "e989348c-aaf9-4471-b707-4005ed64200a",
   "metadata": {},
   "source": [
    "when the value of $\\theta_k$ is relatively small (less than $10^{-8}$) we can stop iterating to save some computing power."
   ]
  },
  {
   "cell_type": "markdown",
   "id": "513503df-5473-474f-af08-8488a01e0b19",
   "metadata": {},
   "source": [
    "Gradient descend for Ridge regression calculated similarly, but with additional $\\lambda\\theta^2$ component:"
   ]
  },
  {
   "cell_type": "markdown",
   "id": "a23a4b65-6ade-4d97-9eb9-340e1c24debc",
   "metadata": {},
   "source": [
    "$$\n",
    "C_{\\text{ridge}}(\\theta) = \\frac{1}{n} \\| X \\theta - \\mathbf{y} \\|^2 + \\lambda \\| \\theta \\|^2 =\n",
    "\\frac{1}{n} \\sum_{i=1}^{n}( \\left[ (\\theta_0 + \\theta_1 x_i)^2 - 2 y_i (\\theta_0 + \\theta_1 x_i) + y_i^2 \\right] + \\lambda \\| \\theta \\|^2)\n",
    "$$\n"
   ]
  },
  {
   "cell_type": "markdown",
   "id": "3151220b-665a-477e-afdf-bf8373ae0e91",
   "metadata": {},
   "source": [
    "$$\n",
    "\\frac{ \\partial ( {C_{ridge}(\\theta}))}{\\partial {\\theta_0}} =\n",
    "2(\\theta_0 + \\theta_1 x_i) - 2 y_i + 2 \\lambda\\theta =\n",
    "2((\\theta_0 + \\theta_1 x_i) - y_i + \\lambda\\theta_0) \n",
    "$$"
   ]
  },
  {
   "cell_type": "markdown",
   "id": "bd544843-27bf-4ad4-8be8-18b4de1d40f9",
   "metadata": {},
   "source": [
    "$$\n",
    "\\frac{ \\partial ( {C_{ridge}(\\theta}))}{\\partial {\\theta_1}} =\n",
    "2(\\theta_0 + \\theta_1 x_i) - 2 y_i + 2 \\lambda\\theta =\n",
    "2((\\theta_0 + \\theta_1 x_i)x_i - y_i x_i + \\lambda\\theta_1)\n",
    "$$"
   ]
  },
  {
   "cell_type": "markdown",
   "id": "9ff47a2b-1028-40e2-b8d7-a0562fc11872",
   "metadata": {},
   "source": [
    "$$\n",
    "\\nabla_{\\theta} C_{ridge}(\\theta) = 2 (\\frac{1}{n}X^T(X\\theta - \\mathbf{y})+\\lambda \\theta).\n",
    "$$"
   ]
  },
  {
   "cell_type": "markdown",
   "id": "42313a7f-fb08-4404-bc3a-8ced956070ed",
   "metadata": {},
   "source": [
    "This gradient we use the same way as for OLS and stop calculations when the value is arbitrary low."
   ]
  },
  {
   "cell_type": "markdown",
   "id": "2974f216-34e2-49c1-b3bf-618b2def3e71",
   "metadata": {},
   "source": [
    "## Exercise 3"
   ]
  },
  {
   "cell_type": "code",
   "execution_count": null,
   "id": "e20f1c69-6c33-4a2e-889d-bef1cd6b07df",
   "metadata": {},
   "outputs": [],
   "source": [
    "#split data to test and train\n",
    "X_train, X_test, y_train, y_test = train_test_split(X_norm, y_centered, test_size=0.2)\n",
    "x_train = X_train[:, 0] # These are used for plotting\n",
    "x_test = X_test[:, 0] # These are used for plotting"
   ]
  },
  {
   "cell_type": "code",
   "execution_count": null,
   "id": "18fd9a5b-cf20-45aa-8b46-172c61892cca",
   "metadata": {},
   "outputs": [],
   "source": [
    "# the number of datapoints\n",
    "n = int(numb * 0.8)\n",
    "m = int(numb * 0.2)\n",
    "X = np.c_[np.ones((n,1)), X_train, X_train**2]\n",
    "\n",
    "X_test = np.c_[np.ones((m,1)), X_test, X_test**2]"
   ]
  },
  {
   "cell_type": "code",
   "execution_count": null,
   "id": "4c9c86ac",
   "metadata": {
    "collapsed": false,
    "editable": true,
    "jupyter": {
     "outputs_hidden": false
    }
   },
   "outputs": [],
   "source": [
    "# Set regularization parameter, either a single value or a vector of values\n",
    "# Note that lambda is a python keyword. The lambda keyword is used to create small, single-expression functions without a formal name. \n",
    "#These are often called \"anonymous functions\" or \"lambda functions.\"\n",
    "lam = 0.01\n",
    "\n",
    "# Analytical form for OLS and Ridge solution: theta_Ridge = (X^T X + lambda * I)^{-1} X^T y and theta_OLS = (X^T X)^{-1} X^T y\n",
    "I = np.eye(len(X.T @ X) )\n",
    "theta_closed_formRidge = np.linalg.inv(X.T @ X + 2 * lam * I ) @ X.T @ y_train\n",
    "theta_closed_formOLS = np.linalg.inv(X.T @ X ) @ X.T @ y_train\n",
    "\n",
    "print(\"Closed-form Ridge coefficients: \\n\", theta_closed_formRidge)\n",
    "print(\"Closed-form OLS coefficients: \\n\", theta_closed_formOLS)"
   ]
  },
  {
   "cell_type": "markdown",
   "id": "eeae00fd",
   "metadata": {
    "editable": true
   },
   "source": [
    "This computes the Ridge and OLS regression coefficients directly. The identity\n",
    "matrix $I$ has the same size as $X^T X$. It adds $\\lambda$ to the diagonal of $X^T X$ for Ridge regression. We\n",
    "then invert this matrix and multiply by $X^T y$. The result\n",
    "for $\\boldsymbol{\\theta}$  is a NumPy array of shape (n$\\_$features,) containing the\n",
    "fitted parameters $\\boldsymbol{\\theta}$."
   ]
  },
  {
   "cell_type": "markdown",
   "id": "e1c215d5",
   "metadata": {
    "editable": true
   },
   "source": [
    "### 3a)\n",
    "\n",
    "Finalize, in the above code, the OLS and Ridge regression determination of the optimal parameters $\\boldsymbol{\\theta}$."
   ]
  },
  {
   "cell_type": "markdown",
   "id": "84db4f04-fd5e-4c96-8bb4-42f55913a56b",
   "metadata": {},
   "source": [
    "<div style=\"background-color: #f0f0f0; border: 1px solid #d3d3d3; padding: 10px; border-radius: 5px;\">\n",
    "\n",
    "\n",
    "As long as the lambda value is near 0, we get almost identical values for thetas calculated by Ridge regression and OLS. "
   ]
  },
  {
   "cell_type": "markdown",
   "id": "587dd3dc",
   "metadata": {
    "editable": true
   },
   "source": [
    "### 3b)\n",
    "\n",
    "Explore the results as function of different values of the hyperparameter $\\lambda$. See for example exercise 4 from week 36."
   ]
  },
  {
   "cell_type": "code",
   "execution_count": null,
   "id": "7d9b5b02-b44e-4609-b1d6-80fc75d1d267",
   "metadata": {},
   "outputs": [],
   "source": [
    "# Calculate MSE\n",
    "MSE_train = mean_squared_error(y_train, X @ theta_closed_formOLS)\n",
    "MSE_test = mean_squared_error(y_test, X_test @ theta_closed_formOLS)\n",
    "\n",
    "print(\"MSE train OSL:\", MSE_train)\n",
    "print(\"MSE test: OSL\", MSE_test)"
   ]
  },
  {
   "cell_type": "code",
   "execution_count": null,
   "id": "6ae00926-308b-4672-a1bc-9ff192b32360",
   "metadata": {
    "scrolled": true
   },
   "outputs": [],
   "source": [
    "# Define the range for lambda\n",
    "lamb = np.arange(0, 6000, 1000)\n",
    "degrees = len(lamb)  # The number of degrees will match the number of lambdas\n",
    "MSE_train_R = np.zeros(degrees)\n",
    "MSE_test_R = np.zeros(degrees)\n",
    "\n",
    "for i in range(degrees):\n",
    "    theta = np.linalg.inv(X.T @ X + 2 * lamb[i] * I ) @ X.T @ y_train\n",
    "    # Calculate MSE\n",
    "    MSE_train_R[i] = mean_squared_error(y_train, X @ theta)\n",
    "    MSE_test_R[i] = mean_squared_error(y_test, X_test @ theta)\n",
    "\n",
    "# Print headers\n",
    "print(f\"{'Lambda':<20} {'MSE Train':<20} {'MSE Test':<20}\")\n",
    "for i in range(degrees):\n",
    "    print(f\"{lamb[i]:<20.8f} {MSE_train_R[i]:<20.8f} {MSE_test_R[i]:<20.8f}\")"
   ]
  },
  {
   "cell_type": "code",
   "execution_count": null,
   "id": "5b4fee1e-af44-478f-ae89-0e55d76e311c",
   "metadata": {},
   "outputs": [],
   "source": [
    "# Plotting the results\n",
    "plt.figure(figsize=(10, 5))\n",
    "plt.plot(lamb, MSE_train_R, marker='o', label='MSE Train Ridge', color='blue')\n",
    "plt.plot(lamb, MSE_test_R, marker='o', label='MSE Test Ridge', color='red')\n",
    "plt.xscale('log')  # Set x-axis to logarithmic scale\n",
    "plt.title('Mean Squared Error for Training and Testing Ridge regression')\n",
    "plt.xlabel('Lambda (log scale)')\n",
    "plt.ylabel('Mean Squared Error')\n",
    "plt.xticks(rotation=45)  # Optionally adjust tick labels for clarity\n",
    "plt.legend()\n",
    "plt.grid()\n",
    "plt.show()"
   ]
  },
  {
   "cell_type": "markdown",
   "id": "316e84ef-9b79-4157-b0e3-feaf18c88d75",
   "metadata": {},
   "source": [
    "We see that both train and test errors increase as we move away from close to 0 value. "
   ]
  },
  {
   "cell_type": "markdown",
   "id": "bfa34697",
   "metadata": {
    "editable": true
   },
   "source": [
    "## Exercise 4, Implementing the simplest form for gradient descent\n",
    "\n",
    "Alternatively, we can fit the ridge regression model using gradient\n",
    "descent. This is useful to visualize the iterative convergence and is\n",
    "necessary if $n$ and $p$ are so large that the closed-form might be\n",
    "too slow or memory-intensive. We derive the gradients from the cost\n",
    "functions defined above. Use the gradients of the Ridge and OLS cost functions with respect to\n",
    "the parameters  $\\boldsymbol{\\theta}$ and set up (using the template below) your own gradient descent code for OLS and Ridge regression.\n",
    "\n",
    "Below is a template code for gradient descent implementation of ridge:"
   ]
  },
  {
   "cell_type": "code",
   "execution_count": null,
   "id": "49245f55",
   "metadata": {
    "collapsed": false,
    "editable": true,
    "jupyter": {
     "outputs_hidden": false
    }
   },
   "outputs": [],
   "source": [
    "# Gradient descent parameters, learning rate eta first\n",
    "eta = 0.1\n",
    "# Then number of iterations\n",
    "num_iters = 1000\n",
    "\n",
    "# Initialize weights for gradient descent\n",
    "theta = np.zeros(n_features)\n",
    "\n",
    "# Gradient descent loop\n",
    "for t in range(num_iters):\n",
    "    # Compute gradients for OSL and Ridge\n",
    "    grad_OLS = ?\n",
    "    grad_Ridge = ?\n",
    "    # Update parameters theta\n",
    "    theta_gdOLS = ?\n",
    "    theta_gdRidge = ? \n",
    "\n",
    "# After the loop, theta contains the fitted coefficients\n",
    "theta_gdOLS = ?\n",
    "theta_gdRidge = ?\n",
    "print(\"Gradient Descent OLS coefficients:\", theta_gdOLS)\n",
    "print(\"Gradient Descent Ridge coefficients:\", theta_gdRidge)"
   ]
  },
  {
   "cell_type": "markdown",
   "id": "f3f43f2c",
   "metadata": {
    "editable": true
   },
   "source": [
    "### 4a)\n",
    "\n",
    "Write first a gradient descent code for OLS only using the above template.\n",
    "Discuss the results as function of the learning rate parameters and the number of iterations"
   ]
  },
  {
   "cell_type": "code",
   "execution_count": null,
   "id": "e75ad43c-4663-4ca2-8b76-565f79182513",
   "metadata": {},
   "outputs": [],
   "source": [
    "# Hessian matrix\n",
    "H = (2.0/n)* X.T @ X\n",
    "EigValues, EigVectors = np.linalg.eig(H)\n",
    "\n",
    "\n",
    "theta_gdOLS =np.zeros((3, 1))# start theta as random var.\n",
    "eta = 1.0/np.max(EigValues) \n",
    "Niterations = 1000\n",
    "convrg = 0\n",
    "\n",
    "for iter in range(Niterations):\n",
    "    gradient = (2.0/n)*X.T @ (X @ theta_gdOLS-y_train)\n",
    "    old_theta = theta_gdOLS.copy()\n",
    "    theta_gdOLS -= eta*gradient\n",
    "    convrg +=1\n",
    "    if np.all(gradient < 1e-8):\n",
    "        break\n",
    "\n",
    "print(\"Gradient Descent OLS coefficients:\",'\\n',theta_gdOLS)\n",
    "print('Converges at step: ',convrg)"
   ]
  },
  {
   "cell_type": "markdown",
   "id": "9ba303be",
   "metadata": {
    "editable": true
   },
   "source": [
    "### 4b)\n",
    "\n",
    "Write then a similar code for Ridge regression using the above template.\n",
    "Try to add a stopping parameter as function of the number iterations and the difference between the new and old $\\theta$ values. How would you define a stopping criterion?"
   ]
  },
  {
   "cell_type": "code",
   "execution_count": null,
   "id": "5ad7daf2-602d-42a4-a564-a752ca554eb6",
   "metadata": {},
   "outputs": [],
   "source": [
    "#Ridge\n",
    "XT_X = X.T @ X\n",
    "#Ridge parameter lambda\n",
    "lmbda  = 0.001\n",
    "\n",
    "# Hessian matrix\n",
    "H = (2.0/n)* XT_X +2*lmbda* np.eye(XT_X.shape[0])\n",
    "# Get the eigenvalues\n",
    "EigValues, EigVectors = np.linalg.eig(H)\n",
    "print(f\"Eigenvalues of Hessian Matrix: \\n {EigValues}\")\n",
    "\n",
    "\n",
    "# Start plain gradient descent\n",
    "theta = np.zeros((3, 1))\n",
    "\n",
    "eta = 1.0/np.max(EigValues)\n",
    "Niterations = 1000\n",
    "\n",
    "converg = 0\n",
    "for iter in range(Niterations):\n",
    "    gradients = (2.0/n)*X.T @ (X @ theta-y_train)+2*lmbda*theta\n",
    "    theta -= eta*gradients\n",
    "    converg +=1\n",
    "    if np.all(gradients < 1e-8):\n",
    "        break\n",
    "\n",
    "\n",
    "print('Theta values:','\\n',theta)\n",
    "print('Converges at step: ',converg)"
   ]
  },
  {
   "cell_type": "markdown",
   "id": "baab077d-def1-40e1-be32-ec54b9d71289",
   "metadata": {},
   "source": [
    "### Comment\n",
    "The smaller the lambda values we choose, the closer it approximates to analytical and OLS values.\n",
    "\n",
    "Both Ridge and OSL have a comparable number of iterations with the same parameter. Once gradient becomes less than $10^{-8}$ we stop our calculations as they become good enough. "
   ]
  },
  {
   "cell_type": "markdown",
   "id": "78362c6c",
   "metadata": {
    "editable": true
   },
   "source": [
    "## Exercise 5, Ridge regression and a new Synthetic Dataset\n",
    "\n",
    "We create a synthetic linear regression dataset with a sparse\n",
    "underlying relationship. This means we have many features but only a\n",
    "few of them actually contribute to the target. In our example, we’ll\n",
    "use 10 features with only 3 non-zero weights in the true model. This\n",
    "way, the target is generated as a linear combination of a few features\n",
    "(with known coefficients) plus some random noise. The steps we include are:\n",
    "\n",
    "Decide on the number of samples and features (e.g. 100 samples, 10 features).\n",
    "Define the **true** coefficient vector with mostly zeros (for sparsity). For example, we set $\\hat{\\boldsymbol{\\theta}} = [5.0, -3.0, 0.0, 0.0, 0.0, 0.0, 2.0, 0.0, 0.0, 0.0]$, meaning only features 0, 1, and 6 have a real effect on y.\n",
    "\n",
    "Then we sample feature values for $\\boldsymbol{X}$ randomly (e.g. from a normal distribution). We use a normal distribution so features are roughly centered around 0.\n",
    "Then we compute the target values $y$ using the linear combination $\\boldsymbol{X}\\hat{\\boldsymbol{\\theta}}$ and add some noise (to simulate measurement error or unexplained variance).\n",
    "\n",
    "Below is the code to generate the dataset:"
   ]
  },
  {
   "cell_type": "code",
   "execution_count": null,
   "id": "8be1cebe",
   "metadata": {
    "collapsed": false,
    "editable": true,
    "jupyter": {
     "outputs_hidden": false
    }
   },
   "outputs": [],
   "source": [
    "import numpy as np\n",
    "\n",
    "# Set random seed for reproducibility\n",
    "np.random.seed(0)\n",
    "\n",
    "# Define dataset size\n",
    "n_samples = 100\n",
    "n_features = 10\n",
    "\n",
    "# Define true coefficients (sparse linear relationship)\n",
    "theta_true = np.array([5.0, -3.0, 0.0, 0.0, 0.0, 0.0, 2.0, 0.0, 0.0, 0.0])\n",
    "\n",
    "# Generate feature matrix X (n_samples x n_features) with random values\n",
    "X = np.random.randn(n_samples, n_features)  # standard normal distribution\n",
    "\n",
    "# Generate target values y with a linear combination of X and theta_true, plus noise\n",
    "noise = 0.5 * np.random.randn(n_samples)    # Gaussian noise\n",
    "y = np.expand_dims(X @ theta_true + noise, axis=1) # y missing dimention\n"
   ]
  },
  {
   "cell_type": "markdown",
   "id": "e2693666",
   "metadata": {
    "editable": true
   },
   "source": [
    "This code produces a dataset where only features 0, 1, and 6\n",
    "significantly influence $\\boldsymbol{y}$. The rest of the features have zero true\n",
    "coefficient. For example, feature 0 has\n",
    "a true weight of 5.0, feature 1 has -3.0, and feature 6 has 2.0, so\n",
    "the expected relationship is:"
   ]
  },
  {
   "cell_type": "markdown",
   "id": "bc954d12",
   "metadata": {
    "editable": true
   },
   "source": [
    "$$\n",
    "y \\approx 5 \\times x_0 \\;-\\; 3 \\times x_1 \\;+\\; 2 \\times x_6 \\;+\\; \\text{noise}.\n",
    "$$"
   ]
  },
  {
   "cell_type": "markdown",
   "id": "6534b610",
   "metadata": {
    "editable": true
   },
   "source": [
    "You can remove the noise if you wish to. \n",
    "\n",
    "Try to fit the above data set using OLS and Ridge regression with the analytical expressions and your own gradient descent codes.\n",
    "\n",
    "If everything worked correctly, the learned coefficients should be\n",
    "close to the true values [5.0, -3.0, 0.0, …, 2.0, …] that we used to\n",
    "generate the data. Keep in mind that due to regularization and noise,\n",
    "the learned values will not exactly equal the true ones, but they\n",
    "should be in the same ballpark.  Which method (OLS or Ridge) gives the best results?"
   ]
  },
  {
   "cell_type": "markdown",
   "id": "397b1585-70a6-4758-b94c-72789947eaa2",
   "metadata": {},
   "source": [
    "## Coment:\n",
    "i tried to standardize x value, but it leads to increase in MSE in both test and train data"
   ]
  },
  {
   "cell_type": "code",
   "execution_count": null,
   "id": "9caf44c6-366a-49e6-ad5f-ca9ee53f5487",
   "metadata": {},
   "outputs": [],
   "source": [
    "# Standardize features (zero mean, unit variance for each feature)\n",
    "X_mean = X.mean(axis=0)\n",
    "X_std = X.std(axis=0)\n",
    "X_std[X_std == 0] = 1  # safeguard to avoid division by zero for constant features\n",
    "X_norm = (X - X_mean) / X_std\n"
   ]
  },
  {
   "cell_type": "code",
   "execution_count": null,
   "id": "e2b0f404-f8e0-4248-92e6-7361636a486e",
   "metadata": {},
   "outputs": [],
   "source": [
    "X_train, X_test, Y_train, Y_test = train_test_split(X, y, test_size=0.2)"
   ]
  },
  {
   "cell_type": "markdown",
   "id": "44355359-2674-402c-8b9a-ec248d13c94a",
   "metadata": {},
   "source": [
    "Analytical:"
   ]
  },
  {
   "cell_type": "code",
   "execution_count": null,
   "id": "2a0dea76-bc3c-49fe-b536-ba22fea4c781",
   "metadata": {},
   "outputs": [],
   "source": [
    "I = np.eye(len(X_train.T @ X_train) )\n",
    "theta_closed_formRidge = np.linalg.inv(X_train.T @ X_train + 2 * lam * I ) @ X_train.T @ Y_train\n",
    "theta_closed_formOLS = np.linalg.inv(X_train.T @ X_train ) @ X_train.T @ Y_train\n",
    "\n",
    "print(\"Closed-form Ridge coefficients: \\n\", np.round(theta_closed_formRidge, 0))\n",
    "print(\"Closed-form OLS coefficients: \\n\", np.round(theta_closed_formOLS, 0))"
   ]
  },
  {
   "cell_type": "markdown",
   "id": "40799f8d-fdec-4e06-9821-67757382b59c",
   "metadata": {},
   "source": [
    "### MSE for train and test data analytical solution"
   ]
  },
  {
   "cell_type": "code",
   "execution_count": null,
   "id": "495bb911-8e27-4dcb-abeb-45b1910b1e27",
   "metadata": {},
   "outputs": [],
   "source": [
    "#OLS\n",
    "MSE_train_OLS = mean_squared_error(Y_train, X_train @ theta_closed_formOLS)\n",
    "MSE_test_OLS = mean_squared_error(Y_test, X_test @ theta_closed_formOLS)\n",
    "\n",
    "print(\"MSE for OLS train data: \\n\", MSE_train_OLS)\n",
    "print(\"MSE for OLS test data:: \\n\", MSE_test_OLS, '\\n')\n",
    "\n",
    "#Ridge regression\n",
    "MSE_train_R = mean_squared_error(Y_train, X_train @ theta_closed_formRidge)\n",
    "MSE_test_R = mean_squared_error(Y_test, X_test @ theta_closed_formRidge)\n",
    "\n",
    "print(\"MSE for analytical Ridge regression train data: \\n\", MSE_train_R)\n",
    "print(\"MSE for analytical Ridge regression test data:: \\n\", MSE_test_R)"
   ]
  },
  {
   "cell_type": "markdown",
   "id": "b23217e0-e9db-4eff-9f8f-2cafc9d16d8c",
   "metadata": {},
   "source": [
    "### Aproximation for OLS"
   ]
  },
  {
   "cell_type": "code",
   "execution_count": null,
   "id": "4f413aba-7f37-466f-a9a2-c7f7cf7ce469",
   "metadata": {},
   "outputs": [],
   "source": [
    "# Hessian matrix\n",
    "H_OLS = (2.0/n_samples)* X_train.T @ X_train\n",
    "EigValues, EigVectors = np.linalg.eig(H_OLS)\n",
    "\n",
    "theta_gdOLS =np.zeros((n_features, 1))# start theta as random var.\n",
    "eta = 1.0/np.max(EigValues) \n",
    "Niterations = 1000\n",
    "convrg = 0\n",
    "\n",
    "for iter in range(Niterations):\n",
    "    gradient = (2.0/n_samples)*X_train.T @ (X_train @ theta_gdOLS-Y_train)\n",
    "    old_theta = theta_gdOLS.copy()\n",
    "    theta_gdOLS -= eta*gradient\n",
    "    convrg +=1\n",
    "    if np.all(gradient < 1e-8):\n",
    "        break\n",
    "\n",
    "print(\"Gradient Descent OLS coefficients:\",'\\n',np.round(theta_gdOLS,0))\n",
    "print('Converges at step: ',convrg)"
   ]
  },
  {
   "cell_type": "markdown",
   "id": "34596750-469f-45a4-998c-429787c53aef",
   "metadata": {},
   "source": [
    "### Aproximation for Ridge"
   ]
  },
  {
   "cell_type": "code",
   "execution_count": null,
   "id": "b7e85881-1b41-407c-9cfe-0897c1fc23b9",
   "metadata": {},
   "outputs": [],
   "source": [
    "#Ridge\n",
    "XT_X = X_train.T @ X_train\n",
    "#Ridge parameter lambda\n",
    "lmbda  = 0.01\n",
    "\n",
    "# Hessian matrix\n",
    "H_Ridge = (2.0/n_samples)* XT_X +2*lmbda* np.eye(XT_X.shape[0])\n",
    "# Get the eigenvalues\n",
    "EigValues, EigVectors = np.linalg.eig(H_Ridge)\n",
    "\n",
    "# Start plain gradient descent\n",
    "theta_gdRidge =np.zeros((n_features, 1))\n",
    "\n",
    "eta = 1.0/np.max(EigValues)\n",
    "Niterations = 1000\n",
    "\n",
    "converg = 0\n",
    "for iter in range(Niterations):\n",
    "    gradients = (2.0/n_samples)*X_train.T @ (X_train @ theta_gdRidge-Y_train)+2*lmbda*theta_gdRidge\n",
    "    theta_gdRidge -= eta*gradients\n",
    "    converg +=1\n",
    "    if np.all(gradients < 1e-8):\n",
    "        break\n",
    "\n",
    "print('Theta values:','\\n',np.round(theta_gdRidge,0))\n",
    "print('Converges at step: ',converg)"
   ]
  },
  {
   "cell_type": "markdown",
   "id": "d4f98b97-17fa-4afa-b453-0fd8a8cb957c",
   "metadata": {},
   "source": [
    "### MSE for train and test data gradient"
   ]
  },
  {
   "cell_type": "code",
   "execution_count": null,
   "id": "dd421aef-e63b-438d-ade6-abe1e7202704",
   "metadata": {},
   "outputs": [],
   "source": [
    "#OLS\n",
    "MSE_train_OLS = mean_squared_error(Y_train, X_train @ theta_gdOLS)\n",
    "MSE_test_OLS = mean_squared_error(Y_test, X_test @ theta_gdOLS)\n",
    "\n",
    "print(\"MSE for OLS train data: \\n\", MSE_train_OLS)\n",
    "print(\"MSE for OLS test data:: \\n\", MSE_test_OLS, '\\n')\n",
    "\n",
    "#Ridge\n",
    "MSE_train_Ridge = mean_squared_error(Y_train, X_train @ theta_gdRidge)\n",
    "MSE_test_Ridge = mean_squared_error(Y_test, X_test @ theta_gdRidge)\n",
    "\n",
    "print(\"MSE for OLS train data: \\n\", MSE_train_Ridge)\n",
    "print(\"MSE for OLS test data:: \\n\", MSE_test_Ridge, '\\n')"
   ]
  },
  {
   "cell_type": "markdown",
   "id": "8ae4276d-0ec9-4798-b208-901b3429524a",
   "metadata": {},
   "source": [
    "Which method (OLS or Ridge) gives the best results?"
   ]
  },
  {
   "cell_type": "markdown",
   "id": "74247134-e1a4-4f3c-9ddf-5ef0ae52fd5b",
   "metadata": {},
   "source": [
    "When lambda value is at 0.001 we getting comparable accuracy results from both OSL and Ridge, but they are techically wery close to each other. Once we increase lambda, the prediction accuracy of Ridge regression model is declining. Thus for our data the OSL model is better fit that provides better accuracy."
   ]
  },
  {
   "cell_type": "code",
   "execution_count": null,
   "id": "2ba35c8d-ab45-4484-9305-e2de80b77588",
   "metadata": {},
   "outputs": [],
   "source": []
  }
 ],
 "metadata": {
  "kernelspec": {
   "display_name": "Python [conda env:base] *",
   "language": "python",
   "name": "conda-base-py"
  },
  "language_info": {
   "codemirror_mode": {
    "name": "ipython",
    "version": 3
   },
   "file_extension": ".py",
   "mimetype": "text/x-python",
   "name": "python",
   "nbconvert_exporter": "python",
   "pygments_lexer": "ipython3",
   "version": "3.11.5"
  }
 },
 "nbformat": 4,
 "nbformat_minor": 5
}
