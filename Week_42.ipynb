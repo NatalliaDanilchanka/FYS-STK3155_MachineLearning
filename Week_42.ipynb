{
 "cells": [
  {
   "cell_type": "markdown",
   "metadata": {},
   "source": [
    "# Exercises week 42\n",
    "\n",
    "**October 13-17, 2025**\n",
    "\n",
    "Date: **Deadline is Friday October 17 at midnight**\n"
   ]
  },
  {
   "cell_type": "markdown",
   "metadata": {},
   "source": [
    "# Overarching aims of the exercises this week\n",
    "\n",
    "The aim of the exercises this week is to train the neural network you implemented last week.\n",
    "\n",
    "To train neural networks, we use gradient descent, since there is no analytical expression for the optimal parameters. This means you will need to compute the gradient of the cost function wrt. the network parameters. And then you will need to implement some gradient method.\n",
    "\n",
    "You will begin by computing gradients for a network with one layer, then two layers, then any number of layers. Keeping track of the shapes and doing things step by step will be very important this week.\n",
    "\n",
    "We recommend that you do the exercises this week by editing and running this notebook file, as it includes some checks along the way that you have implemented the neural network correctly, and running small parts of the code at a time will be important for understanding the methods. If you have trouble running a notebook, you can run this notebook in google colab instead(https://colab.research.google.com/drive/1FfvbN0XlhV-lATRPyGRTtTBnJr3zNuHL#offline=true&sandboxMode=true), though we recommend that you set up VSCode and your python environment to run code like this locally.\n",
    "\n",
    "First, some setup code that you will need.\n"
   ]
  },
  {
   "cell_type": "code",
   "execution_count": 1,
   "metadata": {},
   "outputs": [],
   "source": [
    "import autograd.numpy as np  # We need to use this numpy wrapper to make automatic differentiation work later\n",
    "from autograd import grad, elementwise_grad\n",
    "from sklearn import datasets\n",
    "import matplotlib.pyplot as plt\n",
    "from sklearn.metrics import accuracy_score\n",
    "\n",
    "\n",
    "# Defining some activation functions\n",
    "def ReLU(z):\n",
    "    return np.where(z > 0, z, 0)\n",
    "\n",
    "\n",
    "# Derivative of the ReLU function\n",
    "def ReLU_der(z):\n",
    "    return np.where(z > 0, 1, 0)\n",
    "\n",
    "\n",
    "def sigmoid(z):\n",
    "    return 1 / (1 + np.exp(-z))\n",
    "\n",
    "\n",
    "def mse(predict, target):\n",
    "    return np.mean((predict - target) ** 2)"
   ]
  },
  {
   "cell_type": "markdown",
   "metadata": {},
   "source": [
    "# Exercise 1 - Understand the feed forward pass\n",
    "\n",
    "**a)** Complete last weeks' exercises if you haven't already (recommended).\n"
   ]
  },
  {
   "cell_type": "markdown",
   "metadata": {},
   "source": [
    "[W42 exercise 7: a - e](https://github.com/NatalliaDanilchanka/FYS-STK3155_MachineLearning_deliveries/blob/main/Week_41.ipynb)"
   ]
  },
  {
   "cell_type": "markdown",
   "metadata": {},
   "source": [
    "# Exercise 2 - Gradient with one layer using autograd\n",
    "\n",
    "For the first few exercises, we will not use batched inputs. Only a single input vector is passed through the layer at a time.\n",
    "\n",
    "In this exercise you will compute the gradient of a single layer. You only need to change the code in the cells right below an exercise, the rest works out of the box. Feel free to make changes and see how stuff works though!\n"
   ]
  },
  {
   "cell_type": "markdown",
   "metadata": {},
   "source": [
    "**a)** If the weights and bias of a layer has shapes (10, 4) and (10), what will the shapes of the gradients of the cost function wrt. these weights and this bias be?\n"
   ]
  },
  {
   "cell_type": "markdown",
   "metadata": {},
   "source": [
    "As per my understanding the shape of cost function will be vectors of length 10. "
   ]
  },
  {
   "cell_type": "markdown",
   "metadata": {},
   "source": [
    "**b)** Complete the feed_forward_one_layer function. It should use the sigmoid activation function. Also define the weigth and bias with the correct shapes.\n"
   ]
  },
  {
   "cell_type": "code",
   "execution_count": 2,
   "metadata": {},
   "outputs": [],
   "source": [
    "def feed_forward_one_layer(W, b, x):\n",
    "    z = W @ x  + b\n",
    "    a = sigmoid(z)\n",
    "    return a\n",
    "\n",
    "\n",
    "def cost_one_layer(W, b, x, target):\n",
    "    predict = feed_forward_one_layer(W, b, x)\n",
    "    return mse(predict, target)\n",
    "\n",
    "num_inp = 2\n",
    "num_out = 3\n",
    "\n",
    "x = np.random.rand(num_inp)\n",
    "target = np.random.rand(num_out)\n",
    "\n",
    "W = np.random.randn(num_out, num_inp)\n",
    "b = np.random.randn(num_out)"
   ]
  },
  {
   "cell_type": "markdown",
   "metadata": {},
   "source": [
    "**c)** Compute the gradient of the cost function wrt. the weigth and bias by running the cell below. You will not need to change anything, just make sure it runs by defining things correctly in the cell above. This code uses the autograd package which uses backprogagation to compute the gradient!\n"
   ]
  },
  {
   "cell_type": "code",
   "execution_count": 3,
   "metadata": {},
   "outputs": [
    {
     "name": "stdout",
     "output_type": "stream",
     "text": [
      "[[-0.00365176 -0.00623698]\n",
      " [-0.00804626 -0.01374249]\n",
      " [-0.00733609 -0.01252956]] [-0.03803299 -0.08380149 -0.0764051 ]\n"
     ]
    }
   ],
   "source": [
    "autograd_one_layer = grad(cost_one_layer, [0, 1])\n",
    "W_g, b_g = autograd_one_layer(W, b, x, target)\n",
    "print(W_g, b_g)"
   ]
  },
  {
   "cell_type": "markdown",
   "metadata": {},
   "source": [
    "# Exercise 3 - Gradient with one layer writing backpropagation by hand\n",
    "\n",
    "Before you use the gradient you found using autograd, you will have to find the gradient \"manually\", to better understand how the backpropagation computation works. To do backpropagation \"manually\", you will need to write out expressions for many derivatives along the computation.\n"
   ]
  },
  {
   "cell_type": "markdown",
   "metadata": {},
   "source": [
    "We want to find the gradient of the cost function wrt. the weight and bias. This is quite hard to do directly, so we instead use the chain rule to combine multiple derivatives which are easier to compute.\n",
    "\n",
    "$$\n",
    "\\frac{dC}{dW} = \\frac{dC}{da}\\frac{da}{dz}\\frac{dz}{dW}\n",
    "$$\n",
    "\n",
    "$$\n",
    "\\frac{dC}{db} = \\frac{dC}{da}\\frac{da}{dz}\\frac{dz}{db}\n",
    "$$\n"
   ]
  },
  {
   "cell_type": "markdown",
   "metadata": {},
   "source": [
    "**a)** Which intermediary results can be reused between the two expressions?\n"
   ]
  },
  {
   "cell_type": "markdown",
   "metadata": {},
   "source": [
    "we can see that these two expression have $\\frac{dC}{da}, \\frac{da}{dz}$ in comon and we can re-use these expressions"
   ]
  },
  {
   "cell_type": "markdown",
   "metadata": {},
   "source": [
    "**b)** What is the derivative of the cost wrt. the final activation? You can use the autograd calculation to make sure you get the correct result. Remember that we compute the mean in mse.\n"
   ]
  },
  {
   "cell_type": "markdown",
   "metadata": {},
   "source": [
    "\n",
    "\\begin{equation}\n",
    "\\frac{dC}{d{a}} = \\frac{2}{target...size}({a} - y)\n",
    "\\end{equation}\n",
    "\n"
   ]
  },
  {
   "cell_type": "code",
   "execution_count": 4,
   "metadata": {},
   "outputs": [
    {
     "name": "stdout",
     "output_type": "stream",
     "text": [
      "[-0.16569483 -0.39290851 -0.30737154]\n",
      "[-0.16569483 -0.39290851 -0.30737154]\n"
     ]
    }
   ],
   "source": [
    "z = W @ x + b\n",
    "a = sigmoid(z)\n",
    "\n",
    "predict = a\n",
    "\n",
    "def mse_der(predict, target):\n",
    "    return (2 * (predict - target)) / target.size\n",
    "\n",
    "print(mse_der(predict, target))\n",
    "\n",
    "def mse(predict, target):\n",
    "    return np.mean((predict - target) ** 2)\n",
    "    \n",
    "cost_autograd = grad(mse, 0)\n",
    "print(cost_autograd(predict, target))"
   ]
  },
  {
   "cell_type": "markdown",
   "metadata": {},
   "source": [
    "**c)** What is the expression for the derivative of the sigmoid activation function? You can use the autograd calculation to make sure you get the correct result.\n"
   ]
  },
  {
   "cell_type": "markdown",
   "metadata": {},
   "source": [
    "The sigmoid function is defined as: $ a =\\sigma(z) = \\frac{1}{1 + e^{-z}}$\n",
    "\n",
    "$u = 1 + e^{-z}$\n",
    "\n",
    "a = $\\frac{1}{u}$\n",
    "\n",
    "$\\frac{du}{dz} = -e^{-z}$\n",
    "\n",
    "$\\frac{da}{du} = - \\frac{1}{u^2}$\n",
    "\n",
    "$\\frac{da}{dz} = \\frac{da}{du} * \\frac{du}{dz} = - \\frac{1}{u^2} * (-e^{-z}) = \\frac{e^{-z}}{(1 + e^{-z})^2}$\n",
    "\n",
    "it can be transformed into $\\frac{da}{dz} = \\sigma(z)*(1-\\sigma(z))$"
   ]
  },
  {
   "cell_type": "code",
   "execution_count": 5,
   "metadata": {},
   "outputs": [
    {
     "name": "stdout",
     "output_type": "stream",
     "text": [
      "[0.22953638 0.213285   0.2485757 ]\n",
      "[0.22953638 0.213285   0.2485757 ]\n"
     ]
    }
   ],
   "source": [
    "def sigmoid_der(z):\n",
    "    sigm = sigmoid(z)\n",
    "    return sigm * (1 - sigm)\n",
    "print(sigmoid_der(z))\n",
    "\n",
    "sigmoid_autograd = elementwise_grad(sigmoid, 0)\n",
    "print(sigmoid_autograd(z))"
   ]
  },
  {
   "cell_type": "markdown",
   "metadata": {},
   "source": [
    "**d)** Using the two derivatives you just computed, compute this intermetidary gradient you will use later:\n",
    "\n",
    "$$\n",
    "\\frac{dC}{dz} = \\frac{dC}{da}\\frac{da}{dz}\n",
    "$$\n"
   ]
  },
  {
   "cell_type": "markdown",
   "metadata": {},
   "source": [
    "**e)** What is the derivative of the intermediary z wrt. the weight and bias? What should the shapes be? The one for the weights is a little tricky, it can be easier to play around in the next exercise first. You can also try computing it with autograd to get a hint.\n"
   ]
  },
  {
   "cell_type": "markdown",
   "metadata": {},
   "source": [
    "**f)** Now combine the expressions you have worked with so far to compute the gradients! Note that you always need to do a feed forward pass while saving the zs and as before you do backpropagation, as they are used in the derivative expressions\n"
   ]
  },
  {
   "cell_type": "code",
   "execution_count": 6,
   "metadata": {},
   "outputs": [
    {
     "name": "stdout",
     "output_type": "stream",
     "text": [
      "[[-0.00365176 -0.00623698]\n",
      " [-0.00804626 -0.01374249]\n",
      " [-0.00733609 -0.01252956]] [-0.03803299 -0.08380149 -0.0764051 ]\n"
     ]
    }
   ],
   "source": [
    "dC_da = (predict - target)/3*2\n",
    "dC_dz = dC_da * (a * (1 - a))\n",
    "dC_dW =  np.outer(dC_dz, x)\n",
    "dC_db = dC_dz\n",
    "\n",
    "print(dC_dW, dC_db)"
   ]
  },
  {
   "cell_type": "markdown",
   "metadata": {},
   "source": [
    "You should get the same results as with autograd.\n"
   ]
  },
  {
   "cell_type": "code",
   "execution_count": 7,
   "metadata": {},
   "outputs": [
    {
     "name": "stdout",
     "output_type": "stream",
     "text": [
      "[[-0.00365176 -0.00623698]\n",
      " [-0.00804626 -0.01374249]\n",
      " [-0.00733609 -0.01252956]] [-0.03803299 -0.08380149 -0.0764051 ]\n"
     ]
    }
   ],
   "source": [
    "W_g, b_g = autograd_one_layer(W, b, x, target)\n",
    "print(W_g, b_g)"
   ]
  },
  {
   "cell_type": "markdown",
   "metadata": {},
   "source": [
    "# Exercise 4 - Gradient with two layers writing backpropagation by hand\n"
   ]
  },
  {
   "cell_type": "markdown",
   "metadata": {},
   "source": [
    "Now that you have implemented backpropagation for one layer, you have found most of the expressions you will need for more layers. Let's move up to two layers.\n"
   ]
  },
  {
   "cell_type": "code",
   "execution_count": 8,
   "metadata": {},
   "outputs": [
    {
     "name": "stdout",
     "output_type": "stream",
     "text": [
      "[0.78225268 0.60632756 0.70715721]\n"
     ]
    }
   ],
   "source": [
    "x = np.random.rand(2)\n",
    "target = np.random.rand(4)\n",
    "\n",
    "W1 = np.random.rand(3, 2)\n",
    "b1 = np.random.rand(3)\n",
    "\n",
    "W2 = np.random.rand(4, 3)\n",
    "b2 = np.random.rand(4)\n",
    "\n",
    "layers = [(W1, b1), (W2, b2)]\n",
    "\n",
    "z1 = W1 @ x + b1\n",
    "a1 = sigmoid(z1)\n",
    "\n",
    "\n",
    "z2 = W2 @ a1 + b2\n",
    "a2 = sigmoid(z2)\n",
    "print(a1)\n"
   ]
  },
  {
   "cell_type": "markdown",
   "metadata": {},
   "source": [
    "We begin by computing the gradients of the last layer, as the gradients must be propagated backwards from the end.\n",
    "\n",
    "**a)** Compute the gradients of the last layer, just like you did the single layer in the previous exercise.\n"
   ]
  },
  {
   "cell_type": "code",
   "execution_count": 9,
   "metadata": {},
   "outputs": [],
   "source": [
    "#example from lecture does not work ???\n",
    "#dC_da2 = (a2 - target)*2/4\n",
    "#dC_dz2 = np.matmul(a2.T, dC_da2)\n",
    "#dC_dW2 = np.matmul(a1.T, dC_dz2)\n",
    "#dC_db2 = dC_dz2\n",
    "#print(\"Gradient dC_dW2:\\n\", dC_dW2)\n",
    "#print(\"Gradient dC_db2:\\n\", dC_db2)\n",
    "\n"
   ]
  },
  {
   "cell_type": "code",
   "execution_count": 10,
   "metadata": {},
   "outputs": [
    {
     "name": "stdout",
     "output_type": "stream",
     "text": [
      "Gradient dC_dW2:\n",
      " [[ 0.01528654  0.01184867  0.01381905]\n",
      " [ 0.03719136  0.02882719  0.03362103]\n",
      " [ 0.0388084   0.03008056  0.03508283]\n",
      " [-0.00125391 -0.00097191 -0.00113354]]\n",
      "Gradient dC_db2:\n",
      " [ 0.01954169  0.04754393  0.04961108 -0.00160295]\n"
     ]
    }
   ],
   "source": [
    "dC_da2 = (a2 - target)*2/4\n",
    "dC_dz2 = dC_da2 * sigmoid_der(z2)\n",
    "dC_dW2 = np.outer(dC_dz2, a1)\n",
    "dC_db2 = dC_dz2\n",
    "print(\"Gradient dC_dW2:\\n\", dC_dW2)\n",
    "print(\"Gradient dC_db2:\\n\", dC_db2)\n"
   ]
  },
  {
   "cell_type": "markdown",
   "metadata": {},
   "source": [
    "To find the derivative of the cost wrt. the activation of the first layer, we need a new expression, the one furthest to the right in the following.\n",
    "\n",
    "$$\n",
    "\\frac{dC}{da_1} = \\frac{dC}{dz_2}\\frac{dz_2}{da_1}\n",
    "$$\n",
    "\n",
    "**b)** What is the derivative of the second layer intermetiate wrt. the first layer activation? (First recall how you compute $z_2$)\n",
    "\n",
    "$$\n",
    "\\frac{dz_2}{da_1} = \\frac{W2*a1 + b2}{da_1} = W2\n",
    "$$\n"
   ]
  },
  {
   "cell_type": "markdown",
   "metadata": {},
   "source": [
    "**c)** Use this expression, together with expressions which are equivelent to ones for the last layer to compute all the derivatives of the first layer.\n",
    "\n",
    "$$\n",
    "\\frac{dC}{dW_1} = \\frac{dC}{da_1}\\frac{da_1}{dz_1}\\frac{dz_1}{dW_1}\n",
    "$$\n",
    "\n",
    "$$\n",
    "\\frac{dC}{db_1} = \\frac{dC}{da_1}\\frac{da_1}{dz_1}\\frac{dz_1}{db_1}\n",
    "$$"
   ]
  },
  {
   "cell_type": "markdown",
   "metadata": {},
   "source": [
    "$$\n",
    "\\frac{\\partial C}{\\partial w_2} = \\frac{\\partial C}{\\partial a_2} \\frac{\\partial a_2}{\\partial z_2} \\frac{\\partial z_2}{\\partial a_1} \\frac{\\partial a_1}{\\partial z_1} \\frac{\\partial z_1}{\\partial b_1} = (a_2 - y) \\sigma_2' \\sigma_1' = \\delta_1\n",
    "$$"
   ]
  },
  {
   "cell_type": "code",
   "execution_count": 11,
   "metadata": {},
   "outputs": [
    {
     "name": "stdout",
     "output_type": "stream",
     "text": [
      "Gradient dC_dW1:\n",
      " [[0.00090638 0.00044212]\n",
      " [0.00972153 0.00474204]\n",
      " [0.00488893 0.00238476]]\n",
      "Gradient dC_db1:\n",
      " [0.00116769 0.0125242  0.00629838]\n",
      "\n",
      "Gradient dC_dW2:\n",
      " [[ 0.01528654  0.01184867  0.01381905]\n",
      " [ 0.03719136  0.02882719  0.03362103]\n",
      " [ 0.0388084   0.03008056  0.03508283]\n",
      " [-0.00125391 -0.00097191 -0.00113354]]\n",
      "Gradient dC_db2:\n",
      " [ 0.01954169  0.04754393  0.04961108 -0.00160295]\n"
     ]
    }
   ],
   "source": [
    "# Backpropagation to layer 1\n",
    "dC_da1 = dC_dz2 @ W2\n",
    "dC_dz1 = dC_da1 * sigmoid_der(z1)  \n",
    "dC_dW1 = np.outer(dC_dz1, x)                      \n",
    "dC_db1 = dC_dz1                                  \n",
    "\n",
    "# Print gradients\n",
    "print(\"Gradient dC_dW1:\\n\", dC_dW1)\n",
    "print(\"Gradient dC_db1:\\n\", dC_db1)\n",
    "print()\n",
    "print(\"Gradient dC_dW2:\\n\", dC_dW2)\n",
    "print(\"Gradient dC_db2:\\n\", dC_db2)"
   ]
  },
  {
   "cell_type": "markdown",
   "metadata": {},
   "source": [
    "**d)** Make sure you got the same gradient as the following code which uses autograd to do backpropagation.\n"
   ]
  },
  {
   "cell_type": "code",
   "execution_count": 12,
   "metadata": {},
   "outputs": [
    {
     "data": {
      "text/plain": [
       "[(array([[0.00090638, 0.00044212],\n",
       "         [0.00972153, 0.00474204],\n",
       "         [0.00488893, 0.00238476]]),\n",
       "  array([0.00116769, 0.0125242 , 0.00629838])),\n",
       " (array([[ 0.01528654,  0.01184867,  0.01381905],\n",
       "         [ 0.03719136,  0.02882719,  0.03362103],\n",
       "         [ 0.0388084 ,  0.03008056,  0.03508283],\n",
       "         [-0.00125391, -0.00097191, -0.00113354]]),\n",
       "  array([ 0.01954169,  0.04754393,  0.04961108, -0.00160295]))]"
      ]
     },
     "execution_count": 12,
     "metadata": {},
     "output_type": "execute_result"
    }
   ],
   "source": [
    "def feed_forward_two_layers(layers, x):\n",
    "    W1, b1 = layers[0]\n",
    "    z1 = W1 @ x + b1\n",
    "    a1 = sigmoid(z1)\n",
    "\n",
    "    W2, b2 = layers[1]\n",
    "    z2 = W2 @ a1 + b2\n",
    "    a2 = sigmoid(z2)\n",
    "\n",
    "    return a2\n",
    "\n",
    "def cost_two_layers(layers, x, target):\n",
    "    predict = feed_forward_two_layers(layers, x)\n",
    "    return mse(predict, target)\n",
    "\n",
    "\n",
    "grad_two_layers = grad(cost_two_layers, 0)\n",
    "grad_two_layers(layers, x, target)"
   ]
  },
  {
   "cell_type": "markdown",
   "metadata": {},
   "source": [
    "**e)** How would you use the gradient from this layer to compute the gradient of an even earlier layer? Would the expressions be any different?\n"
   ]
  },
  {
   "cell_type": "markdown",
   "metadata": {},
   "source": [
    "# Exercise 5 - Gradient with any number of layers writing backpropagation by hand\n"
   ]
  },
  {
   "cell_type": "markdown",
   "metadata": {},
   "source": [
    "Well done on getting this far! Now it's time to compute the gradient with any number of layers.\n",
    "\n",
    "First, some code from the general neural network code from last week. Note that we are still sending in one input vector at a time. We will change it to use batched inputs later.\n"
   ]
  },
  {
   "cell_type": "code",
   "execution_count": 13,
   "metadata": {},
   "outputs": [],
   "source": [
    "def create_layers(network_input_size, layer_output_sizes):\n",
    "    layers = []\n",
    "\n",
    "    i_size = network_input_size\n",
    "    for layer_output_size in layer_output_sizes:\n",
    "        W = np.random.randn(layer_output_size, i_size)\n",
    "        b = np.random.randn(layer_output_size)\n",
    "        layers.append((W, b))\n",
    "\n",
    "        i_size = layer_output_size\n",
    "    return layers\n",
    "\n",
    "\n",
    "def feed_forward(input, layers, activation_funcs):\n",
    "    a = input\n",
    "    for (W, b), activation_func in zip(layers, activation_funcs):\n",
    "        z = W @ a + b\n",
    "        a = activation_func(z)\n",
    "    return a\n",
    "\n",
    "\n",
    "def cost(layers, input, activation_funcs, target):\n",
    "    predict = feed_forward(input, layers, activation_funcs)\n",
    "    return mse(predict, target)"
   ]
  },
  {
   "cell_type": "markdown",
   "metadata": {},
   "source": [
    "You might have already have noticed a very important detail in backpropagation: You need the values from the forward pass to compute all the gradients! The feed forward method above is great for efficiency and for using autograd, as it only cares about computing the final output, but now we need to also save the results along the way.\n",
    "\n",
    "Here is a function which does that for you.\n"
   ]
  },
  {
   "cell_type": "code",
   "execution_count": 14,
   "metadata": {},
   "outputs": [],
   "source": [
    "def feed_forward_saver(input, layers, activation_funcs):\n",
    "    layer_inputs = []\n",
    "    zs = []\n",
    "    a = input\n",
    "    for (W, b), activation_func in zip(layers, activation_funcs):\n",
    "        layer_inputs.append(a)\n",
    "        z = W @ a + b\n",
    "        a = activation_func(z)\n",
    "\n",
    "        zs.append(z)\n",
    "\n",
    "    return layer_inputs, zs, a"
   ]
  },
  {
   "cell_type": "markdown",
   "metadata": {},
   "source": [
    "**a)** Now, complete the backpropagation function so that it returns the gradient of the cost function wrt. all the weigths and biases. Use the autograd calculation below to make sure you get the correct answer.\n"
   ]
  },
  {
   "cell_type": "code",
   "execution_count": 15,
   "metadata": {},
   "outputs": [],
   "source": [
    "def backpropagation(\n",
    "    input, layers, activation_funcs, target, activation_ders, cost_der=mse_der\n",
    "):\n",
    "    layer_inputs, zs, predict = feed_forward_saver(input, layers, activation_funcs)\n",
    "    layer_grads = [() for layer in layers]\n",
    "\n",
    "    # We loop over the layers, from the last to the first\n",
    "    for i in reversed(range(len(layers))):\n",
    "        layer_input, z, activation_der = layer_inputs[i], zs[i], activation_ders[i]\n",
    "\n",
    "        if i == len(layers) - 1:\n",
    "            # For last layer we use cost derivative as dC_da(L) can be computed directly\n",
    "            dC_da = (predict - target)*2/len(target)\n",
    "        else:\n",
    "            # For other layers we build on previous z derivative, as dC_da(i) = dC_dz(i+1) * dz(i+1)_da(i)\n",
    "            (W, b) = layers[i + 1]\n",
    "            dC_da = dC_dz @ W\n",
    "\n",
    "        dC_dz = dC_da * activation_der(z)\n",
    "        dC_dW = np.outer(dC_dz, layer_input) \n",
    "        dC_db = dC_dz \n",
    "\n",
    "        layer_grads[i] = (dC_dW, dC_db)\n",
    "\n",
    "    return layer_grads                     \n"
   ]
  },
  {
   "cell_type": "code",
   "execution_count": 16,
   "metadata": {},
   "outputs": [
    {
     "name": "stdout",
     "output_type": "stream",
     "text": [
      "[(array([[ 0.00678927,  0.00193832],\n",
      "       [-0.00730379, -0.00208522],\n",
      "       [ 0.00113112,  0.00032293]]), array([ 0.06122313, -0.06586286,  0.01020001])), (array([[ 0.20916106,  0.0457992 ,  0.13572225],\n",
      "       [-0.        , -0.        , -0.        ],\n",
      "       [-0.        , -0.        , -0.        ],\n",
      "       [ 0.18557222,  0.04063405,  0.12041572]]), array([ 0.2607264, -0.       , -0.       ,  0.2313221]))]\n"
     ]
    }
   ],
   "source": [
    "network_input_size = 2\n",
    "layer_output_sizes = [3, 4]\n",
    "activation_funcs = [sigmoid, ReLU]\n",
    "activation_ders = [sigmoid_der, ReLU_der]\n",
    "layers = create_layers(network_input_size, layer_output_sizes)\n",
    "\n",
    "x = np.random.rand(network_input_size)\n",
    "target = np.random.rand(4)\n",
    "\n",
    "layer_grads = backpropagation(x, layers, activation_funcs, target, activation_ders)\n",
    "print(layer_grads)"
   ]
  },
  {
   "cell_type": "code",
   "execution_count": 17,
   "metadata": {},
   "outputs": [
    {
     "data": {
      "text/plain": [
       "[(array([[ 0.00678927,  0.00193832],\n",
       "         [-0.00730379, -0.00208522],\n",
       "         [ 0.00113112,  0.00032293]]),\n",
       "  array([ 0.06122313, -0.06586286,  0.01020001])),\n",
       " (array([[0.20916106, 0.0457992 , 0.13572225],\n",
       "         [0.        , 0.        , 0.        ],\n",
       "         [0.        , 0.        , 0.        ],\n",
       "         [0.18557222, 0.04063405, 0.12041572]]),\n",
       "  array([0.2607264, 0.       , 0.       , 0.2313221]))]"
      ]
     },
     "execution_count": 17,
     "metadata": {},
     "output_type": "execute_result"
    }
   ],
   "source": [
    "cost_grad = grad(cost, 0)\n",
    "cost_grad(layers, x, [sigmoid, ReLU], target)"
   ]
  },
  {
   "cell_type": "markdown",
   "metadata": {},
   "source": [
    "# Exercise 6 - Batched inputs\n",
    "\n",
    "Make new versions of all the functions in exercise 5 which now take batched inputs instead. See last weeks exercise 5 for details on how to batch inputs to neural networks. You will also need to update the backpropogation function.\n"
   ]
  },
  {
   "cell_type": "code",
   "execution_count": 18,
   "metadata": {},
   "outputs": [],
   "source": [
    "def create_layers_batch(network_input_size, layer_output_sizes):\n",
    "    layers = []\n",
    "    i_size = network_input_size  \n",
    "    for layer_output_size in layer_output_sizes:\n",
    "        W = np.random.randn(layer_output_size, i_size)\n",
    "        W = W.T\n",
    "        b = np.random.randn(layer_output_size)\n",
    "        layers.append((W, b))\n",
    "        i_size = layer_output_size\n",
    "    return layers\n",
    "\n",
    "\n",
    "def feed_forward_batch(inputs, layers, activation_funcs):\n",
    "    a = inputs\n",
    "    for (W, b), activation_func in zip(layers, activation_funcs):\n",
    "        z = a @ W + b\n",
    "        a = activation_func(z)\n",
    "    return a\n",
    "\n",
    "def cost(layers, input, activation_funcs, target):\n",
    "    predict = feed_forward_batch(input, layers, activation_funcs)\n",
    "    return mse(predict, target)\n",
    "\n",
    "\n",
    "def feed_forward_saver_batch(inputs, layers, activation_funcs):\n",
    "    layer_inputs = []\n",
    "    zs = []\n",
    "    a = inputs\n",
    "    for (W, b), activation_func in zip(layers, activation_funcs):\n",
    "        layer_inputs.append(a)        \n",
    "        z = a @ W + b\n",
    "        a = activation_func(z)\n",
    "        zs.append(z)\n",
    "    return layer_inputs, zs, a\n",
    "\n",
    "def backpropagation_batch(inputs, layers, activation_funcs, target, activation_ders, cost_der=mse_der):\n",
    "    layer_inputs, zs, predict = feed_forward_saver_batch(inputs, layers, activation_funcs)\n",
    "    layer_grads = [() for layer in layers]\n",
    "\n",
    "    # We loop over the layers, from the last to the first\n",
    "    for i in reversed(range(len(layers))):\n",
    "        layer_input, z, activation_der = layer_inputs[i], zs[i], activation_ders[i]\n",
    "\n",
    "        if i == len(layers) - 1:\n",
    "            # For last layer we use cost derivative as dC_da(L) can be computed directly\n",
    "            dC_da = (predict - target)*2/target.shape[1] # (n, tf)\n",
    "        else:\n",
    "            # For other layers we build on previous z derivative, as dC_da(i) = dC_dz(i+1) * dz(i+1)_da(i)\n",
    "            (W, b) = layers[i + 1]\n",
    "            dC_da = dC_dz @ W.T # \n",
    "\n",
    "        dC_dz = dC_da * activation_der(z) # (n, tf)\n",
    "        dC_dW = np.matmul(layer_input.T, dC_dz)/target.shape[0] # remember to divide by n\n",
    "        dC_db = np.mean(dC_dz, axis = 0) # (n, tf)\n",
    "        layer_grads[i] = (dC_dW, dC_db)\n",
    "\n",
    "    return layer_grads "
   ]
  },
  {
   "cell_type": "code",
   "execution_count": 19,
   "metadata": {},
   "outputs": [
    {
     "data": {
      "text/plain": [
       "4"
      ]
     },
     "execution_count": 19,
     "metadata": {},
     "output_type": "execute_result"
    }
   ],
   "source": [
    "len(target)"
   ]
  },
  {
   "cell_type": "code",
   "execution_count": 20,
   "metadata": {},
   "outputs": [
    {
     "data": {
      "text/plain": [
       "(4,)"
      ]
     },
     "execution_count": 20,
     "metadata": {},
     "output_type": "execute_result"
    }
   ],
   "source": [
    "target.shape"
   ]
  },
  {
   "cell_type": "code",
   "execution_count": 21,
   "metadata": {},
   "outputs": [
    {
     "name": "stdout",
     "output_type": "stream",
     "text": [
      "2 [3, 3, 4]\n",
      "[(array([[-1.54165523e-04,  3.18275540e-04, -7.46347049e-05],\n",
      "       [-1.41101406e-04,  3.14073306e-04, -7.61016607e-05]]), array([-0.00034692,  0.00073597, -0.00018064])), (array([[ 0.        , -0.00127878,  0.        ],\n",
      "       [ 0.        , -0.00071068,  0.        ],\n",
      "       [ 0.        , -0.0014185 ,  0.        ]]), array([ 0.        , -0.00166791,  0.        ])), (array([[ 0.        ,  0.        ,  0.        ,  0.        ],\n",
      "       [ 0.00213499, -0.01488757,  0.00147645, -0.01487589],\n",
      "       [ 0.        ,  0.        ,  0.        ,  0.        ]]), array([ 0.00249275, -0.01936398,  0.00171635, -0.01909683]))]\n"
     ]
    }
   ],
   "source": [
    "network_input_size = 2\n",
    "layer_output_sizes = [3,3, 4]\n",
    "activation_funcs = [sigmoid, ReLU, sigmoid]\n",
    "activation_ders = [sigmoid_der, ReLU_der,sigmoid_der]\n",
    "\n",
    "layers = create_layers_batch(network_input_size, layer_output_sizes)\n",
    "print(network_input_size, layer_output_sizes)\n",
    "\n",
    "x = np.random.rand(300,network_input_size)\n",
    "target = np.random.rand(300, 4)\n",
    "\n",
    "layer_grads = backpropagation_batch(x, layers, activation_funcs, target, activation_ders)\n",
    "print(layer_grads)"
   ]
  },
  {
   "cell_type": "code",
   "execution_count": 22,
   "metadata": {},
   "outputs": [
    {
     "data": {
      "text/plain": [
       "[(array([[-1.54165523e-04,  3.18275540e-04, -7.46347049e-05],\n",
       "         [-1.41101406e-04,  3.14073306e-04, -7.61016607e-05]]),\n",
       "  array([-0.00034692,  0.00073597, -0.00018064])),\n",
       " (array([[ 0.        , -0.00127878,  0.        ],\n",
       "         [ 0.        , -0.00071068,  0.        ],\n",
       "         [ 0.        , -0.0014185 ,  0.        ]]),\n",
       "  array([ 0.        , -0.00166791,  0.        ])),\n",
       " (array([[ 0.        ,  0.        ,  0.        ,  0.        ],\n",
       "         [ 0.00213499, -0.01488757,  0.00147645, -0.01487589],\n",
       "         [ 0.        ,  0.        ,  0.        ,  0.        ]]),\n",
       "  array([ 0.00249275, -0.01936398,  0.00171635, -0.01909683]))]"
      ]
     },
     "execution_count": 22,
     "metadata": {},
     "output_type": "execute_result"
    }
   ],
   "source": [
    "cost_grad = grad(cost, 0)\n",
    "cost_grad(layers, x, [sigmoid, ReLU, sigmoid], target)"
   ]
  },
  {
   "cell_type": "markdown",
   "metadata": {},
   "source": [
    "# Exercise 7 - Training\n"
   ]
  },
  {
   "cell_type": "markdown",
   "metadata": {},
   "source": [
    "**a)** Complete exercise 6 and 7 from last week, but use your own backpropogation implementation to compute the gradient.\n",
    "- IMPORTANT: Do not implement the derivative terms for softmax and cross-entropy separately, it will be very hard!\n",
    "- Instead, use the fact that the derivatives multiplied together simplify to **prediction - target** (see [source1](https://medium.com/data-science/derivative-of-the-softmax-function-and-the-categorical-cross-entropy-loss-ffceefc081d1), [source2](https://shivammehta25.github.io/posts/deriving-categorical-cross-entropy-and-softmax/))\n",
    "\n",
    "**b)** Use stochastic gradient descent with momentum when you train your network.\n"
   ]
  },
  {
   "cell_type": "code",
   "execution_count": 23,
   "metadata": {},
   "outputs": [],
   "source": [
    "from autograd import grad\n",
    "import matplotlib.pyplot as plt\n",
    "import autograd.numpy as np  # We need to use this numpy wrapper to make automatic differentiation work later\n",
    "from sklearn import datasets\n",
    "import matplotlib.pyplot as plt\n",
    "from sklearn.metrics import accuracy_score\n"
   ]
  },
  {
   "cell_type": "code",
   "execution_count": 24,
   "metadata": {},
   "outputs": [],
   "source": [
    "# Defining some activation functions\n",
    "def ReLU(z):\n",
    "    return np.where(z > 0, z, 0)\n",
    "\n",
    "def sigmoid(z):\n",
    "    return 1 / (1 + np.exp(-z))\n",
    "\n",
    "def softmax(z):\n",
    "    e_z = np.exp(z - np.max(z, axis=0))\n",
    "    return e_z / np.sum(e_z, axis=1)[:, np.newaxis]\n",
    "\n",
    "def cross_entropy(predict, target):\n",
    "    return np.sum(-target * np.log(predict))"
   ]
  },
  {
   "cell_type": "code",
   "execution_count": 25,
   "metadata": {},
   "outputs": [],
   "source": [
    "def ReLU_der(z):\n",
    "    return np.where(z > 0, 1, 0)\n",
    "\n",
    "def sigmoid_der(z):\n",
    "    sigm = sigmoid(z)\n",
    "    return sigm * (1 - sigm)\n",
    "\n",
    "def softmax_der(z):\n",
    "    return 1\n"
   ]
  },
  {
   "cell_type": "code",
   "execution_count": 26,
   "metadata": {},
   "outputs": [
    {
     "data": {
      "text/plain": [
       "'def cost(input, layers, activation_funcs, target):\\n    predict = feed_forward_batch(input, layers, activation_funcs)\\n    return cross_entropy(predict, target)'"
      ]
     },
     "execution_count": 26,
     "metadata": {},
     "output_type": "execute_result"
    }
   ],
   "source": [
    "def crossentropy_der(predict, target): # cost function, not activation!!!\n",
    "    print('crossentropy_der')\n",
    "    return predict - target\n",
    "\n",
    "'''def cost(input, layers, activation_funcs, target):\n",
    "    predict = feed_forward_batch(input, layers, activation_funcs)\n",
    "    return cross_entropy(predict, target)'''"
   ]
  },
  {
   "cell_type": "code",
   "execution_count": 27,
   "metadata": {},
   "outputs": [],
   "source": [
    "def mse_der(predict, target):\n",
    "    return (2 * (predict - target)) / target.size\n",
    "\n",
    "\n",
    "def mse(predict, target):\n",
    "    return np.mean((predict - target) ** 2)\n",
    "\n",
    "\n",
    "def cost(input, layers,activation_funcs, target):\n",
    "    predict = feed_forward_batch(input, layers, activation_funcs)\n",
    "    return mse(predict, target)"
   ]
  },
  {
   "cell_type": "code",
   "execution_count": 28,
   "metadata": {},
   "outputs": [],
   "source": [
    "def accuracy(predictions, targets):\n",
    "    one_hot_predictions = np.zeros(predictions.shape)\n",
    "\n",
    "    for i, prediction in enumerate(predictions):\n",
    "        one_hot_predictions[i, np.argmax(prediction)] = 1\n",
    "    return accuracy_score(one_hot_predictions, targets)"
   ]
  },
  {
   "cell_type": "code",
   "execution_count": 29,
   "metadata": {},
   "outputs": [],
   "source": [
    "def create_layers_batch(network_input_size, layer_output_sizes):\n",
    "    layers = []\n",
    "    i_size = network_input_size  \n",
    "    for layer_output_size in layer_output_sizes:\n",
    "        W = np.random.randn(layer_output_size, i_size)\n",
    "        W = W.T\n",
    "        b = np.random.randn(layer_output_size)\n",
    "        layers.append((W, b))\n",
    "        i_size = layer_output_size\n",
    "    return layers\n",
    "\n",
    "\n",
    "def feed_forward_batch(inputs, layers, activation_funcs):\n",
    "    a = inputs\n",
    "    for (W, b), activation_func in zip(layers, activation_funcs):\n",
    "        z = a @ W + b\n",
    "        a = activation_func(z)\n",
    "    return a\n",
    "\n",
    "\n",
    "def feed_forward_saver_batch(inputs, layers, activation_funcs):\n",
    "    layer_inputs = []\n",
    "    zs = []\n",
    "    a = inputs\n",
    "    for (W, b), activation_func in zip(layers, activation_funcs):\n",
    "        layer_inputs.append(a)        \n",
    "        z = a @ W + b\n",
    "        a = activation_func(z)\n",
    "        zs.append(z)\n",
    "    return layer_inputs, zs, a\n",
    "\n",
    "def backpropagation_batch(inputs, layers, activation_funcs, target, activation_ders, cost_der):\n",
    "    layer_inputs, zs, predict = feed_forward_saver_batch(inputs, layers, activation_funcs)\n",
    "    layer_grads = [() for layer in layers]\n",
    "\n",
    "    # We loop over the layers, from the last to the first\n",
    "    for i in reversed(range(len(layers))):\n",
    "        layer_input, z, activation_der = layer_inputs[i], zs[i], activation_ders[i]\n",
    "\n",
    "        if i == len(layers) - 1:\n",
    "            # For last layer we use cost derivative as dC_da(L) can be computed directly\n",
    "            dC_da = cost_der(predict,target) # (predict - target)*2/target.shape[1] # (n, tf)\n",
    "        else:\n",
    "            # For other layers we build on previous z derivative, as dC_da(i) = dC_dz(i+1) * dz(i+1)_da(i)\n",
    "            (W, b) = layers[i + 1]\n",
    "            dC_da = dC_dz @ W.T # \n",
    "\n",
    "        dC_dz = dC_da * activation_der(z) # (n, tf)\n",
    "        dC_dW = np.matmul(layer_input.T, dC_dz)/target.shape[0] # remember to divide by n\n",
    "        dC_db = np.mean(dC_dz, axis = 0) # (n, tf)\n",
    "        layer_grads[i] = (dC_dW, dC_db)\n",
    "\n",
    "    return layer_grads "
   ]
  },
  {
   "cell_type": "code",
   "execution_count": 30,
   "metadata": {},
   "outputs": [],
   "source": [
    "def train_network(_inputs, _layers, activation_funcs, targets, activation_ders, learning_rate=0.001, epochs=30):\n",
    "    predictions = []\n",
    "    prediction = _inputs\n",
    "    for i in range(epochs):\n",
    "        layers_grad =  backpropagation_batch(_inputs, _layers, activation_funcs, targets, activation_ders, cost_der=crossentropy_der)\n",
    "        #layers_grad = gradient_func(_inputs, _layers, activation_funcs, targets)   \n",
    "        for (W, b), (W_g, b_g) in zip(_layers, layers_grad):\n",
    "            W -= W_g * learning_rate\n",
    "            b -= b_g * learning_rate\n",
    "        prediction = feed_forward_batch(_inputs,_layers,activation_funcs)\n",
    "        predictions.append(prediction)\n",
    "\n",
    "        #print(accuracy(prediction, targets))\n",
    "\n",
    "    return predictions"
   ]
  },
  {
   "cell_type": "markdown",
   "metadata": {},
   "source": [
    "##  Start"
   ]
  },
  {
   "cell_type": "code",
   "execution_count": 31,
   "metadata": {},
   "outputs": [],
   "source": [
    "iris = datasets.load_iris()\n",
    "inputs = iris.data\n",
    "\n",
    "# we need to make each target a vector with a 1 for the correct flower and a 0 for the others.\n",
    "targets = np.zeros((len(iris.data), 3))\n",
    "for i, t in enumerate(iris.target):\n",
    "    targets[i, t] = 1\n",
    "\n",
    "n_iter = 100\n",
    "lern_rate = 0.01\n",
    "network_input_size = len(inputs[0])\n",
    "layer_output_sizes = [8, 3]\n",
    "activation_funcs = [sigmoid, softmax]\n",
    "activation_ders = [sigmoid_der, softmax_der]"
   ]
  },
  {
   "cell_type": "code",
   "execution_count": 32,
   "metadata": {},
   "outputs": [
    {
     "name": "stdout",
     "output_type": "stream",
     "text": [
      "accuracy of the initial prediction:  0.4866666666666667\n"
     ]
    }
   ],
   "source": [
    "layers = create_layers_batch(network_input_size, layer_output_sizes)\n",
    "predictions = feed_forward_batch(inputs, layers, activation_funcs)\n",
    "print('accuracy of the initial prediction: ', accuracy(predictions, targets))"
   ]
  },
  {
   "cell_type": "code",
   "execution_count": 33,
   "metadata": {},
   "outputs": [],
   "source": [
    "gradient_func = grad(cost, 1); # Taking the gradient wrt. the second input to the cost function, i.e. the layers\n",
    "layers_grad = gradient_func(inputs, layers, activation_funcs, targets)  # Don't change this"
   ]
  },
  {
   "cell_type": "code",
   "execution_count": 34,
   "metadata": {
    "scrolled": true
   },
   "outputs": [
    {
     "name": "stdout",
     "output_type": "stream",
     "text": [
      "crossentropy_der\n",
      "0.4866666666666667\n",
      "crossentropy_der\n",
      "0.4866666666666667\n",
      "crossentropy_der\n",
      "0.4866666666666667\n",
      "crossentropy_der\n",
      "0.4866666666666667\n",
      "crossentropy_der\n",
      "0.4866666666666667\n",
      "crossentropy_der\n",
      "0.4866666666666667\n",
      "crossentropy_der\n",
      "0.4866666666666667\n",
      "crossentropy_der\n",
      "0.4866666666666667\n",
      "crossentropy_der\n",
      "0.4866666666666667\n",
      "crossentropy_der\n",
      "0.4866666666666667\n",
      "crossentropy_der\n",
      "0.4866666666666667\n",
      "crossentropy_der\n",
      "0.4866666666666667\n",
      "crossentropy_der\n",
      "0.4866666666666667\n",
      "crossentropy_der\n",
      "0.4866666666666667\n",
      "crossentropy_der\n",
      "0.4866666666666667\n",
      "crossentropy_der\n",
      "0.4866666666666667\n",
      "crossentropy_der\n",
      "0.4866666666666667\n",
      "crossentropy_der\n",
      "0.4866666666666667\n",
      "crossentropy_der\n",
      "0.4866666666666667\n",
      "crossentropy_der\n",
      "0.4866666666666667\n",
      "crossentropy_der\n",
      "0.4866666666666667\n",
      "crossentropy_der\n",
      "0.4866666666666667\n",
      "crossentropy_der\n",
      "0.4866666666666667\n",
      "crossentropy_der\n",
      "0.4866666666666667\n",
      "crossentropy_der\n",
      "0.4866666666666667\n",
      "crossentropy_der\n",
      "0.4866666666666667\n",
      "crossentropy_der\n",
      "0.49333333333333335\n",
      "crossentropy_der\n",
      "0.49333333333333335\n",
      "crossentropy_der\n",
      "0.49333333333333335\n",
      "crossentropy_der\n",
      "0.49333333333333335\n",
      "crossentropy_der\n",
      "0.49333333333333335\n",
      "crossentropy_der\n",
      "0.49333333333333335\n",
      "crossentropy_der\n",
      "0.49333333333333335\n",
      "crossentropy_der\n",
      "0.49333333333333335\n",
      "crossentropy_der\n",
      "0.49333333333333335\n",
      "crossentropy_der\n",
      "0.49333333333333335\n",
      "crossentropy_der\n",
      "0.49333333333333335\n",
      "crossentropy_der\n",
      "0.49333333333333335\n",
      "crossentropy_der\n",
      "0.49333333333333335\n",
      "crossentropy_der\n",
      "0.49333333333333335\n",
      "crossentropy_der\n",
      "0.49333333333333335\n",
      "crossentropy_der\n",
      "0.49333333333333335\n",
      "crossentropy_der\n",
      "0.49333333333333335\n",
      "crossentropy_der\n",
      "0.49333333333333335\n",
      "crossentropy_der\n",
      "0.49333333333333335\n",
      "crossentropy_der\n",
      "0.49333333333333335\n",
      "crossentropy_der\n",
      "0.49333333333333335\n",
      "crossentropy_der\n",
      "0.49333333333333335\n",
      "crossentropy_der\n",
      "0.49333333333333335\n",
      "crossentropy_der\n",
      "0.49333333333333335\n",
      "crossentropy_der\n",
      "0.49333333333333335\n",
      "crossentropy_der\n",
      "0.5\n",
      "crossentropy_der\n",
      "0.5\n",
      "crossentropy_der\n",
      "0.5\n",
      "crossentropy_der\n",
      "0.5\n",
      "crossentropy_der\n",
      "0.5\n",
      "crossentropy_der\n",
      "0.5\n",
      "crossentropy_der\n",
      "0.5\n",
      "crossentropy_der\n",
      "0.5\n",
      "crossentropy_der\n",
      "0.5\n",
      "crossentropy_der\n",
      "0.5\n",
      "crossentropy_der\n",
      "0.5\n",
      "crossentropy_der\n",
      "0.5\n",
      "crossentropy_der\n",
      "0.5\n",
      "crossentropy_der\n",
      "0.5\n",
      "crossentropy_der\n",
      "0.5\n",
      "crossentropy_der\n",
      "0.5\n",
      "crossentropy_der\n",
      "0.5\n",
      "crossentropy_der\n",
      "0.5\n",
      "crossentropy_der\n",
      "0.5\n",
      "crossentropy_der\n",
      "0.5\n",
      "crossentropy_der\n",
      "0.5\n",
      "crossentropy_der\n",
      "0.5\n",
      "crossentropy_der\n",
      "0.5\n",
      "crossentropy_der\n",
      "0.5\n",
      "crossentropy_der\n",
      "0.5\n",
      "crossentropy_der\n",
      "0.5\n",
      "crossentropy_der\n",
      "0.5\n",
      "crossentropy_der\n",
      "0.5\n",
      "crossentropy_der\n",
      "0.5\n",
      "crossentropy_der\n",
      "0.5\n",
      "crossentropy_der\n",
      "0.5066666666666667\n",
      "crossentropy_der\n",
      "0.5066666666666667\n",
      "crossentropy_der\n",
      "0.5066666666666667\n",
      "crossentropy_der\n",
      "0.5066666666666667\n",
      "crossentropy_der\n",
      "0.5066666666666667\n",
      "crossentropy_der\n",
      "0.5066666666666667\n",
      "crossentropy_der\n",
      "0.5066666666666667\n",
      "crossentropy_der\n",
      "0.5066666666666667\n",
      "crossentropy_der\n",
      "0.5066666666666667\n",
      "crossentropy_der\n",
      "0.5066666666666667\n",
      "crossentropy_der\n",
      "0.5066666666666667\n",
      "crossentropy_der\n",
      "0.5133333333333333\n",
      "crossentropy_der\n",
      "0.5133333333333333\n",
      "crossentropy_der\n",
      "0.5133333333333333\n",
      "crossentropy_der\n",
      "0.5133333333333333\n",
      "crossentropy_der\n",
      "0.5133333333333333\n",
      "crossentropy_der\n",
      "0.52\n",
      "crossentropy_der\n",
      "0.52\n",
      "crossentropy_der\n",
      "0.52\n"
     ]
    }
   ],
   "source": [
    "predictions_final = train_network(inputs, layers, activation_funcs, targets, activation_ders, learning_rate=0.001, epochs=n_iter)\n",
    "\n",
    "accuracy_values = []\n",
    "for pred in predictions_final:\n",
    "    acc = accuracy(pred, targets)\n",
    "    accuracy_values.append(acc)"
   ]
  },
  {
   "cell_type": "code",
   "execution_count": 35,
   "metadata": {},
   "outputs": [
    {
     "data": {
      "image/png": "[encoded data removed]",
      "text/plain": [
       "<Figure size 1000x600 with 1 Axes>"
      ]
     },
     "metadata": {},
     "output_type": "display_data"
    }
   ],
   "source": [
    "range_x = range(0, n_iter, 1)\n",
    "plt.figure(figsize=(10, 6))\n",
    "plt.plot(range_x, accuracy_values, marker='o', linestyle='-', color='b', label='Accuracy')\n",
    "plt.title('Model Accuracy Over Epochs')\n",
    "plt.xlabel('Epochs')\n",
    "plt.ylabel('N iterations')\n",
    "plt.grid()\n",
    "plt.legend()\n",
    "plt.show()"
   ]
  },
  {
   "cell_type": "markdown",
   "metadata": {},
   "source": [
    "# Exercise 8 (Optional) - Object orientation\n",
    "\n",
    "Passing in the layers, activations functions, activation derivatives and cost derivatives into the functions each time leads to code which is easy to understand in isoloation, but messier when used in a larger context with data splitting, data scaling, gradient methods and so forth. Creating an object which stores these values can lead to code which is much easier to use.\n",
    "\n",
    "**a)** Write a neural network class. You are free to implement it how you see fit, though we strongly recommend to not save any input or output values as class attributes, nor let the neural network class handle gradient methods internally. Gradient methods should be handled outside, by performing general operations on the layer_grads list using functions or classes separate to the neural network.\n",
    "\n",
    "We provide here a skeleton structure which should get you started.\n"
   ]
  },
  {
   "cell_type": "code",
   "execution_count": 36,
   "metadata": {},
   "outputs": [],
   "source": [
    "class NeuralNetwork:\n",
    "    def __init__(\n",
    "        self,\n",
    "        network_input_size,\n",
    "        layer_output_sizes,\n",
    "        activation_funcs,\n",
    "        activation_ders,\n",
    "        cost_fun,\n",
    "        cost_der,\n",
    "    ):\n",
    "        pass\n",
    "\n",
    "    def predict(self, inputs):\n",
    "        # Simple feed forward pass\n",
    "        pass\n",
    "\n",
    "    def cost(self, inputs, targets):\n",
    "        pass\n",
    "\n",
    "    def _feed_forward_saver(self, inputs):\n",
    "        pass\n",
    "\n",
    "    def compute_gradient(self, inputs, targets):\n",
    "        pass\n",
    "\n",
    "    def update_weights(self, layer_grads):\n",
    "        pass\n",
    "\n",
    "    # These last two methods are not needed in the project, but they can be nice to have! The first one has a layers parameter so that you can use autograd on it\n",
    "    def autograd_compliant_predict(self, layers, inputs):\n",
    "        pass\n",
    "\n",
    "    def autograd_gradient(self, inputs, targets):\n",
    "        pass"
   ]
  }
 ],
 "metadata": {
  "kernelspec": {
   "display_name": "Python [conda env:FYS_STK]",
   "language": "python",
   "name": "conda-env-FYS_STK-py"
  },
  "language_info": {
   "codemirror_mode": {
    "name": "ipython",
    "version": 3
   },
   "file_extension": ".py",
   "mimetype": "text/x-python",
   "name": "python",
   "nbconvert_exporter": "python",
   "pygments_lexer": "ipython3",
   "version": "3.11.13"
  }
 },
 "nbformat": 4,
 "nbformat_minor": 4
}
