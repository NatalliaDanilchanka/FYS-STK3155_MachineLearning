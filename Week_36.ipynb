{
 "cells": [
  {
   "cell_type": "markdown",
   "id": "9dd8f8d0",
   "metadata": {},
   "source": [
    "# Exercises week 36"
   ]
  },
  {
   "cell_type": "markdown",
   "id": "427d9b9d",
   "metadata": {},
   "source": [
    "## Exercise 1 - Choice of model and degrees of freedom"
   ]
  },
  {
   "cell_type": "markdown",
   "id": "88996d00-9407-4042-a543-ef6594f26269",
   "metadata": {},
   "source": [
    "<div style=\"background-color: #f0f0f0; border: 1px solid #d3d3d3; padding: 10px; border-radius: 5px;\">\n",
    "a) How many degrees of freedom does an OLS model fit to the features $x, x^2, x^3$ and the intercept have?"
   ]
  },
  {
   "cell_type": "markdown",
   "id": "bad1e2f6-404d-4e2f-be14-0377fbc0fd8d",
   "metadata": {},
   "source": [
    "a) The formula for calculating degrees of freedom for OSL model is $n - k - 1 $ where n is a number of parameters, k - number of predictor (independent) variables, and -1 for removing intercept. \n",
    "\n",
    "Thus depnding on the number of parameter the degree of freedom for OLS model can be:\n",
    "$$ x: n - 1 - 1 $$\n",
    "$$x^2: n - 2 - 1 $$\n",
    "$$x^3: n - 3 - 1 $$"
   ]
  },
  {
   "cell_type": "markdown",
   "id": "ff6ebdb5",
   "metadata": {},
   "source": [
    "<div style=\"background-color: #f0f0f0; border: 1px solid #d3d3d3; padding: 10px; border-radius: 5px;\">\n",
    "b) Why is it bad for a model to have too many degrees of freedom?"
   ]
  },
  {
   "cell_type": "markdown",
   "id": "dba29ed7-83f3-4bbd-a486-5775346411cc",
   "metadata": {},
   "source": [
    "When we have excessive degrees of freedom, it can easily lead to overfitting and an overall decrease in prediction accuracy, as the model will try to fit not to the pattern, but rather to noise and outliers, trying to catch all data changes. "
   ]
  },
  {
   "cell_type": "markdown",
   "id": "8e374b49-de68-4048-a331-54c0d8d1f7af",
   "metadata": {},
   "source": [
    "<div style=\"background-color: #f0f0f0; border: 1px solid #d3d3d3; padding: 10px; border-radius: 5px;\">\n",
    "c) Why is it bad for a model to have too few degrees of freedom?"
   ]
  },
  {
   "cell_type": "markdown",
   "id": "6a6fe6a5-410e-4756-ad30-8a3b16dde719",
   "metadata": {},
   "source": [
    "When we have fewer degrees of freedom than necessary for the model to describe the data, it will lead to underfitting and higher MSE. In some sense, if we have data that is best described by a second-degree polynomial, we can not properly fit this data to a linear model without accuracy loss. "
   ]
  },
  {
   "cell_type": "markdown",
   "id": "dba4c474-cd54-497b-baa0-b4fa2e72445c",
   "metadata": {},
   "source": [
    "<div style=\"background-color: #f0f0f0; border: 1px solid #d3d3d3; padding: 10px; border-radius: 5px;\">\n",
    "<font color='red'>\n",
    "d) Read [chapter 3.4.1 of Hastie et al.'s book](https://link.springer.com/book/10.1007/978-0-387-84858-7). What is the expression for the effective degrees of freedom of the ridge regression fit?"
   ]
  },
  {
   "cell_type": "markdown",
   "id": "3f1674e7-4054-4ec5-b5cf-fcfe4d0d0cf2",
   "metadata": {},
   "source": [
    " <font color='red'>\n",
    "<div style=\"background-color: #f0f0f0; border: 1px solid #d3d3d3; padding: 10px; border-radius: 5px;\">\n",
    "e) Why might we want to use Ridge regression instead of OLS?"
   ]
  },
  {
   "cell_type": "markdown",
   "id": "c9ce0796-253a-42a8-a92e-959b1b823e8a",
   "metadata": {},
   "source": [
    "<div style=\"background-color: #f0f0f0; border: 1px solid #d3d3d3; padding: 10px; border-radius: 5px;\">\n",
    "f) Why migth we want to use OLS instead of Ridge regression?"
   ]
  },
  {
   "cell_type": "markdown",
   "id": "ba73f94d-5d39-43c6-85e0-a3b60aa10b46",
   "metadata": {},
   "source": [
    "If we have a data set that that is better explained by OLS than Ridge regression and have lower test error it is more appropriate to use OLS instead. In some cases, even if we get a slightly better model with Ridge regression than OLS it can be still prefereble to use OSl due to it simplisity and easier interpretability."
   ]
  },
  {
   "cell_type": "markdown",
   "id": "a78b2ce2",
   "metadata": {},
   "source": [
    "<div style=\"background-color: #f0f0f0; border: 1px solid #d3d3d3; padding: 10px; border-radius: 5px;\">\n",
    "\n",
    "## Exercise 2 - Deriving the expression for Ridge Regression\n",
    "\n",
    "The aim here is to derive the expression for the optimal parameters using Ridge regression.\n",
    "\n",
    "The expression for the standard Mean Squared Error (MSE) which we used to define our cost function and the equations for the ordinary least squares (OLS) method, was given by the optimization problem"
   ]
  },
  {
   "cell_type": "markdown",
   "id": "93a7ad16",
   "metadata": {},
   "source": [
    "<div style=\"background-color: #f0f0f0; border: 1px solid #d3d3d3; padding: 10px; border-radius: 5px;\">\n",
    "\n",
    "$$\n",
    "{\\displaystyle \\min_{\\boldsymbol{\\beta}\\in {\\mathbb{R}}^{p}}}\\frac{1}{n}\\left\\{\\left(\\boldsymbol{y}-\\boldsymbol{X}\\boldsymbol{\\beta}\\right)^T\\left(\\boldsymbol{y}-\\boldsymbol{X}\\boldsymbol{\\beta}\\right)\\right\\}.\n",
    "$$"
   ]
  },
  {
   "cell_type": "markdown",
   "id": "6b182c01",
   "metadata": {},
   "source": [
    "<div style=\"background-color: #f0f0f0; border: 1px solid #d3d3d3; padding: 10px; border-radius: 5px;\">\n",
    "\n",
    "By minimizing the above equation with respect to the parameters $\\boldsymbol{\\beta}$ we could then obtain an analytical expression for the parameters $\\boldsymbol{\\hat\\beta_{OLS}}$.\n",
    "\n",
    "We can add a regularization parameter $\\lambda$ by\n",
    "defining a new cost function to be optimized, that is"
   ]
  },
  {
   "cell_type": "markdown",
   "id": "fb065daf",
   "metadata": {},
   "source": [
    "<div style=\"background-color: #f0f0f0; border: 1px solid #d3d3d3; padding: 10px; border-radius: 5px;\">\n",
    "\n",
    "$$\n",
    "{\\displaystyle \\min_{\\boldsymbol{\\beta}\\in\n",
    "{\\mathbb{R}}^{p}}}\\frac{1}{n}\\vert\\vert \\boldsymbol{y}-\\boldsymbol{X}\\boldsymbol{\\beta}\\vert\\vert_2^2+\\lambda\\vert\\vert \\boldsymbol{\\beta}\\vert\\vert_2^2\n",
    "$$"
   ]
  },
  {
   "cell_type": "markdown",
   "id": "89ae11e8",
   "metadata": {},
   "source": [
    "<div style=\"background-color: #f0f0f0; border: 1px solid #d3d3d3; padding: 10px; border-radius: 5px;\">\n",
    "\n",
    "which leads to the Ridge regression minimization problem. (One can require as part of the optimization problem that $\\vert\\vert \\boldsymbol{\\beta}\\vert\\vert_2^2\\le t$, where $t$ is a finite number larger than zero. We will not implement that in this course.)"
   ]
  },
  {
   "cell_type": "markdown",
   "id": "456d58d4",
   "metadata": {},
   "source": [
    "<div style=\"background-color: #f0f0f0; border: 1px solid #d3d3d3; padding: 10px; border-radius: 5px;\">\n",
    "\n",
    "### a) Expression for Ridge regression\n",
    "\n",
    "Show that the optimal parameters\n",
    "\n",
    "$$\n",
    "\\hat{\\boldsymbol{\\beta}}_{\\mathrm{Ridge}} = \\left(\\boldsymbol{X}^T\\boldsymbol{X}+\\lambda\\boldsymbol{I}\\right)^{-1}\\boldsymbol{X}^T\\boldsymbol{y},\n",
    "$$"
   ]
  },
  {
   "cell_type": "markdown",
   "id": "1528350f-8c27-487a-bbc7-d0577db37bbc",
   "metadata": {},
   "source": [
    "$$\n",
    "\\left(\\boldsymbol{y}-\\boldsymbol{X}\\boldsymbol{{\\beta}}\\right)^T\\left(\\boldsymbol{y}-\\boldsymbol{X}\\boldsymbol{{\\beta}}\\right) =\n",
    "\\boldsymbol{y}^T\\boldsymbol{y} - \\boldsymbol{y}^T\\boldsymbol{X}\\boldsymbol{\\beta} - (\\boldsymbol{X}\\boldsymbol{\\beta})^T\\boldsymbol{y} - (\\boldsymbol{X}\\boldsymbol{\\beta})^T\\boldsymbol{X}\\boldsymbol{\\beta} + \\boldsymbol{\\lambda}\\boldsymbol{\\beta}^T\\boldsymbol{\\beta} = \n",
    "\\boldsymbol{y}^T\\boldsymbol{y} - 2\\boldsymbol{\\beta}^T\\boldsymbol{X}^T\\boldsymbol{y} + \\boldsymbol{\\beta}^T\\boldsymbol{X}^T\\boldsymbol{X}\\boldsymbol{\\beta} + \\boldsymbol{\\lambda}\\boldsymbol{\\beta}^T\\boldsymbol{\\beta}\n",
    "$$\n"
   ]
  },
  {
   "cell_type": "markdown",
   "id": "f3c47d64-d301-4bff-b7c9-28b9a611daf7",
   "metadata": {},
   "source": [
    "$$\n",
    "\\frac{ \\partial ( \\boldsymbol{y}^T\\boldsymbol{y} - 2\\boldsymbol{\\beta}^T\\boldsymbol{X}^T\\boldsymbol{y} + \\boldsymbol{\\beta}^T\\boldsymbol{X}^T\\boldsymbol{X}\\boldsymbol{\\beta} + \\boldsymbol{\\lambda}\\boldsymbol{\\beta}^T\\boldsymbol{\\beta})}{\\partial \\boldsymbol{\\beta}} =\n",
    "-2\\boldsymbol{X}^T\\boldsymbol{y} + \\boldsymbol{\\beta}^T( \\boldsymbol{X}^T\\boldsymbol{X} + (\\boldsymbol{X}^T\\boldsymbol{X})^T) + 2\\boldsymbol{\\lambda}\\boldsymbol{\\beta} = \n",
    "-2\\boldsymbol{X}^T\\boldsymbol{y} + 2\\boldsymbol{X}^T\\boldsymbol{X}\\boldsymbol{\\beta} + 2\\boldsymbol{\\lambda}\\boldsymbol{\\beta}\n",
    "$$\n",
    "To find min we set the found expression equal to 0 and calculate for $\\hat{\\boldsymbol{\\beta}}_{\\mathrm{Ridge}}$:\n",
    "$$\n",
    "(\\boldsymbol{X}^T\\boldsymbol{X} + \\boldsymbol{\\lambda}\\boldsymbol{I})\\hat{\\boldsymbol{\\beta}}_{\\mathrm{Ridge}} = \\boldsymbol{X}^T\\boldsymbol{y}\n",
    "$$\n",
    "$$\n",
    "\\hat{\\boldsymbol{\\beta}}_{\\mathrm{Ridge}} = (\\boldsymbol{X}^T\\boldsymbol{X} + \\boldsymbol{\\lambda}\\boldsymbol{I})^{-1}\\boldsymbol{X}^T\\boldsymbol{y}\n",
    "$$\n"
   ]
  },
  {
   "cell_type": "markdown",
   "id": "e7b08048",
   "metadata": {},
   "source": [
    "with $\\boldsymbol{I}$ being a $p\\times p$ identity matrix.\n",
    "\n",
    "The ordinary least squares result is"
   ]
  },
  {
   "cell_type": "markdown",
   "id": "8bb0e6af",
   "metadata": {},
   "source": [
    "$$\n",
    "\\hat{\\boldsymbol{\\beta}}_{\\mathrm{OLS}} = \\left(\\boldsymbol{X}^T\\boldsymbol{X}\\right)^{-1}\\boldsymbol{X}^T\\boldsymbol{y},\n",
    "$$"
   ]
  },
  {
   "cell_type": "markdown",
   "id": "2faaae78",
   "metadata": {},
   "source": [
    "## Exercise 3 - Scaling data"
   ]
  },
  {
   "cell_type": "code",
   "execution_count": 8,
   "id": "8ed79466",
   "metadata": {},
   "outputs": [],
   "source": [
    "import numpy as np\n",
    "import matplotlib.pyplot as plt\n",
    "from sklearn.model_selection import train_test_split\n",
    "from sklearn.preprocessing import StandardScaler"
   ]
  },
  {
   "cell_type": "code",
   "execution_count": 9,
   "id": "59d6f347",
   "metadata": {},
   "outputs": [],
   "source": [
    "n = 100\n",
    "x = np.linspace(-3, 3, n)\n",
    "y = np.exp(-x**2) + 1.5 * np.exp(-(x-2)**2) + np.random.normal(0, 0.1)"
   ]
  },
  {
   "cell_type": "markdown",
   "id": "c9fc9fe0",
   "metadata": {},
   "source": [
    "**a)** Adapt your function from last week to only include the intercept column if the boolean argument `intercept` is set to true."
   ]
  },
  {
   "cell_type": "code",
   "execution_count": 32,
   "id": "5aa9c86d",
   "metadata": {},
   "outputs": [],
   "source": [
    "def polynomial_features(x, p, intercept=False):\n",
    "    n = len(x)\n",
    "    if intercept == True:\n",
    "        X = np.zeros((n, p + 1))\n",
    "        X[:, 0] = 1\n",
    "        for i in range(1, p + 1):\n",
    "            X[:, i] = x**(i + 1)\n",
    "    else:\n",
    "        X = np.zeros((n, p))\n",
    "        for i in range(0, p):            \n",
    "            X[:, i] = x**(i + 1)\n",
    "    return X\n",
    "\n",
    "X = polynomial_features(x, 3)"
   ]
  },
  {
   "cell_type": "markdown",
   "id": "c5924634",
   "metadata": {},
   "source": [
    "**b)** Split your data into training and test data(80/20 split)"
   ]
  },
  {
   "cell_type": "code",
   "execution_count": 35,
   "id": "676541e7",
   "metadata": {},
   "outputs": [],
   "source": [
    "X = polynomial_features(x, 3)"
   ]
  },
  {
   "cell_type": "code",
   "execution_count": 36,
   "id": "f895606f",
   "metadata": {},
   "outputs": [],
   "source": [
    "X_train, X_test, y_train, y_test = train_test_split(X, y, test_size=0.2)\n",
    "x_train = X_train[:, 0] # These are used for plotting\n",
    "x_test = X_test[:, 0] # These are used for plotting"
   ]
  },
  {
   "cell_type": "markdown",
   "id": "a58f05ad",
   "metadata": {},
   "source": [
    "**c)** Scale your design matrix with the sklearn standard scaler, though based on the mean and standard deviation of the training data only."
   ]
  },
  {
   "cell_type": "code",
   "execution_count": 37,
   "id": "0c07995a",
   "metadata": {},
   "outputs": [],
   "source": [
    "scaler = StandardScaler()\n",
    "scaler.fit(X_train)\n",
    "X_train_s = scaler.transform(X_train)\n",
    "X_test_s = scaler.transform(X_test)\n",
    "y_offset = np.mean(y_train)"
   ]
  },
  {
   "cell_type": "markdown",
   "id": "63b86003",
   "metadata": {},
   "source": [
    "## Exercise 4 - Implementing Ridge Regression"
   ]
  },
  {
   "cell_type": "markdown",
   "id": "a2f52ef2",
   "metadata": {},
   "source": [
    "**a)** Implement a function for computing the optimal Ridge parameters using the expression from **2a)**."
   ]
  },
  {
   "cell_type": "code",
   "execution_count": null,
   "id": "2f364209-2e58-40f1-9fc9-452a63cc15ef",
   "metadata": {},
   "outputs": [],
   "source": [
    "import numpy as np\n",
    "from numpy.linalg import inv"
   ]
  },
  {
   "cell_type": "code",
   "execution_count": 42,
   "id": "37cb933c-d852-4550-ba76-098a6d5ed4f6",
   "metadata": {},
   "outputs": [
    {
     "name": "stdout",
     "output_type": "stream",
     "text": [
      "3\n"
     ]
    }
   ],
   "source": [
    "print(len(X.T @ X))"
   ]
  },
  {
   "cell_type": "code",
   "execution_count": 51,
   "id": "69f19bde",
   "metadata": {},
   "outputs": [
    {
     "name": "stdout",
     "output_type": "stream",
     "text": [
      "[[1. 0. 0.]\n",
      " [0. 1. 0.]\n",
      " [0. 0. 1.]]\n",
      "[ 0.63556844 -0.14060713 -0.24297895]\n"
     ]
    }
   ],
   "source": [
    "def Ridge_parameters(X, y, l = 0.01):\n",
    "    # Assumes X is scaled and has no intercept column\n",
    "    #l - lambda parameter, 0.01 default if not send different\n",
    "    n = len(X.T @ X)\n",
    "    ident = np.identity(n) # identity matrix\n",
    "    return np.linalg.inv(X.T @ X + 2 * l * ident ) @ X.T @ y\n",
    "\n",
    "beta = Ridge_parameters(X_train_s, y_train)\n",
    "print(beta)"
   ]
  },
  {
   "cell_type": "markdown",
   "id": "626c81ba",
   "metadata": {},
   "source": [
    "**b)** Fit a model to the data, and plot the prediction using both the training and test x-values extracted before scaling, and the y_offset."
   ]
  },
  {
   "cell_type": "code",
   "execution_count": 56,
   "id": "f9ba0655",
   "metadata": {},
   "outputs": [
    {
     "data": {
      "image/png": "[encoded data removed]",
      "text/plain": [
       "<Figure size 640x480 with 1 Axes>"
      ]
     },
     "metadata": {},
     "output_type": "display_data"
    }
   ],
   "source": [
    "plt.plot(x, y, label='original data', color = 'green')\n",
    "plt.scatter(x_train, X_train_s @ beta + y_offset, label='train data')\n",
    "plt.scatter(x_test, X_test_s @ beta + y_offset, label='test data')\n",
    "plt.legend()\n",
    "plt.grid()"
   ]
  },
  {
   "cell_type": "markdown",
   "id": "2993cfae",
   "metadata": {},
   "source": [
    "## Exercise 4 - Testing multiple hyperparameters"
   ]
  },
  {
   "cell_type": "markdown",
   "id": "e6cdc89a",
   "metadata": {},
   "source": [
    "**a)** Compute the MSE of your ridge model for polynomials of degrees 1 to 5 with lambda set to 0.01. Plot the MSE as a function of polynomial degree.\n",
    "\n",
    "**b)** Compute the MSE of your ridge model for a polynomial with degree 3, and with lambdas from $10^{-1}$ to $10^{-5}$ on a logarithmic scale. Plot the MSE as a function of lambda.\n",
    "\n",
    "**c)** Compute the MSE of your ridge model for polynomials of degrees 1 to 5, and with lambdas from $10^{-1}$ to $10^{-5}$ on a logarithmic scale. Plot the MSE as a function of polynomial degree and lambda using a [heatmap](https://matplotlib.org/stable/gallery/images_contours_and_fields/image_annotated_heatmap.html)."
   ]
  }
 ],
 "metadata": {
  "kernelspec": {
   "display_name": "Python [conda env:base] *",
   "language": "python",
   "name": "conda-base-py"
  },
  "language_info": {
   "codemirror_mode": {
    "name": "ipython",
    "version": 3
   },
   "file_extension": ".py",
   "mimetype": "text/x-python",
   "name": "python",
   "nbconvert_exporter": "python",
   "pygments_lexer": "ipython3",
   "version": "3.11.5"
  }
 },
 "nbformat": 4,
 "nbformat_minor": 5
}
